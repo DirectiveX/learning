{
 "cells": [
  {
   "cell_type": "markdown",
   "metadata": {
    "collapsed": true,
    "pycharm": {
     "name": "#%% md\n"
    }
   },
   "source": [
    "# Assignment 1 - Image Classification\n",
    "\n",
    "This notebook contains the required task for the first assignment of the Software for Advanced Machine Learning course. Read the task description and implement the empty code cells. Each section represents a stage along implementing an image classifier, from loading and inspecting the dataset to training a **pre-trained** Convolutional Neural Network architecture. The sections are to guide you but you do not have to follow that specific order.\n",
    "\n",
    "Copy this notebook to your drive (File -> Save a copy in Drive), edit it and upload the final ipynb file to [Canvas](https://canvas.elte.hu) or upload the link to the Colab notebook itself. If you have your own machine with Jupyter installed, you can work there as well.\n",
    "\n",
    "**Note** Make sure the notebook is using GPU accelerataion in Edit -> Notebook settings, otherwise training and evaluation can be very slow.\n",
    "\n",
    "## Rules and Comments\n",
    "- From the list of datasets and architectures listed in canvas, each student was atributed **1 dataset and 1 architecture** to use within this assignment. Please confirm yours in the Canvas assignment's description.\n",
    "- This is an DL class so to pass the homework you do have to implement a working classifier, just loading the data or having a \"random-guess\" performance is not enough.\n",
    "- As always, copying others' code will make you fail the homework automatically (and thus the course). Remember that you will have to defend the assignment at the end of the semester.\n",
    "- **Deadline is March 25**\n",
    "- Make sure your code can be run from an empty state (use Runtime -> Run all in the menu after restarting the notebook)\n",
    "- Feel free to add more code cells as needed. But don't put code into external Python files to ease the reviewing.\n",
    "- Please add your name and Neptun ID below for easier identification.\n",
    "\n",
    "**Name:**  **Mei Jiaojiao**\n",
    "**Neptun ID:** **V6FISC**\n",
    "\n",
    "## Task description\n",
    "Your task is to train an already pretrained Convolutional Neural Network architecture on a dataset, both given in canvas. The datasets contain images as input and class labels as target, thus you have to solve a Supervised Machine Learning Classification problem.\n",
    "\n",
    "The dataset shoud be divided into train, validation and test set, for which results should be presented for all.\n",
    "\n",
    "You can either train the architecture you were given without changing its layers, or you can add more layers, if you believe it increases the accuracy. There is no expected percentage of accuracy, but **your accuracy should be better than random guessing and your loss has to decrease throughout the epochs**. We expect you to show visualisations (any of the following: matplotlib, seaborn, tensorboard, ...) of the accuracy and loss and use Early stopping while training your network."
   ]
  },
  {
   "cell_type": "markdown",
   "metadata": {
    "pycharm": {
     "name": "#%% md\n"
    }
   },
   "source": [
    "# Base setting"
   ]
  },
  {
   "cell_type": "code",
   "execution_count": 1,
   "metadata": {
    "pycharm": {
     "name": "#%%\n"
    }
   },
   "outputs": [
    {
     "name": "stdout",
     "output_type": "stream",
     "text": [
      "Fri Mar 25 00:52:59 2022       \n",
      "+-----------------------------------------------------------------------------+\n",
      "| NVIDIA-SMI 497.09       Driver Version: 497.09       CUDA Version: 11.5     |\n",
      "|-------------------------------+----------------------+----------------------+\n",
      "| GPU  Name            TCC/WDDM | Bus-Id        Disp.A | Volatile Uncorr. ECC |\n",
      "| Fan  Temp  Perf  Pwr:Usage/Cap|         Memory-Usage | GPU-Util  Compute M. |\n",
      "|                               |                      |               MIG M. |\n",
      "|===============================+======================+======================|\n",
      "|   0  NVIDIA GeForce ... WDDM  | 00000000:1C:00.0  On |                  N/A |\n",
      "|  0%   41C    P8    21W / 240W |   3914MiB /  8192MiB |      9%      Default |\n",
      "|                               |                      |                  N/A |\n",
      "+-------------------------------+----------------------+----------------------+\n",
      "                                                                               \n",
      "+-----------------------------------------------------------------------------+\n",
      "| Processes:                                                                  |\n",
      "|  GPU   GI   CI        PID   Type   Process name                  GPU Memory |\n",
      "|        ID   ID                                                   Usage      |\n",
      "|=============================================================================|\n",
      "|    0   N/A  N/A       328    C+G   ...2\\extracted\\WeChatApp.exe    N/A      |\n",
      "|    0   N/A  N/A      1076    C+G   ...y\\ShellExperienceHost.exe    N/A      |\n",
      "|    0   N/A  N/A      2280    C+G   ...t\\Teams\\current\\Teams.exe    N/A      |\n",
      "|    0   N/A  N/A      4036    C+G   ...perience\\NVIDIA Share.exe    N/A      |\n",
      "|    0   N/A  N/A      4412      C   ...a\\envs\\pytorch\\python.exe    N/A      |\n",
      "|    0   N/A  N/A      4556    C+G   ...5n1h2txyewy\\SearchApp.exe    N/A      |\n",
      "|    0   N/A  N/A      4908    C+G   ...me\\Application\\chrome.exe    N/A      |\n",
      "|    0   N/A  N/A      6164    C+G   ...t\\Teams\\current\\Teams.exe    N/A      |\n",
      "|    0   N/A  N/A      6736    C+G   ...2\\jbr\\bin\\jcef_helper.exe    N/A      |\n",
      "|    0   N/A  N/A      7496    C+G   C:\\Windows\\explorer.exe         N/A      |\n",
      "|    0   N/A  N/A      8456    C+G   Insufficient Permissions        N/A      |\n",
      "|    0   N/A  N/A     10960    C+G   ...tracted\\WechatBrowser.exe    N/A      |\n",
      "|    0   N/A  N/A     12428    C+G   ...2txyewy\\TextInputHost.exe    N/A      |\n",
      "|    0   N/A  N/A     16352    C+G   ...ontend\\Docker Desktop.exe    N/A      |\n",
      "|    0   N/A  N/A     18128    C+G   ...ne\\bin\\webwallpaper32.exe    N/A      |\n",
      "+-----------------------------------------------------------------------------+\n"
     ]
    }
   ],
   "source": [
    "# 是否开启事件记录（数据记录），如果开启的话，就会记录数据文件，如果不开启，则不重复记录，第一次加载时可以打开\n",
    "is_record_events = True\n",
    "# 批量处理数据，不能太大，GPU内存不够\n",
    "batch_size_setting = 16\n",
    "# 查看当前硬件\n",
    "!nvidia-smi"
   ]
  },
  {
   "cell_type": "markdown",
   "metadata": {},
   "source": [
    "# Import datasets"
   ]
  },
  {
   "cell_type": "code",
   "execution_count": 1,
   "metadata": {
    "pycharm": {
     "name": "#%%\n"
    }
   },
   "outputs": [],
   "source": [
    "# 系统操作类\n",
    "import os\n",
    "# 文件操作类\n",
    "import shutil\n",
    "# 数组操作类\n",
    "import numpy as np\n",
    "# 图片读取类\n",
    "from PIL import Image\n",
    "# 画图类\n",
    "import matplotlib.pyplot as plt\n",
    "# 时间记录类\n",
    "import time"
   ]
  },
  {
   "cell_type": "code",
   "execution_count": 2,
   "metadata": {
    "pycharm": {
     "name": "#%%\n"
    }
   },
   "outputs": [],
   "source": [
    "# 解压类\n",
    "import tarfile\n",
    "# 进度条\n",
    "from tqdm import tqdm"
   ]
  },
  {
   "cell_type": "code",
   "execution_count": 3,
   "metadata": {
    "pycharm": {
     "name": "#%%\n"
    }
   },
   "outputs": [],
   "source": [
    "# 导入下载方法\n",
    "from torchvision.datasets.utils import download_url\n",
    "# 导入数据集父类\n",
    "from torch.utils.data import Dataset, DataLoader\n",
    "# 配合可视化模块SummaryWriter一起用\n",
    "from torch.utils.tensorboard import SummaryWriter\n",
    "# 用于转化图片\n",
    "from torchvision import transforms\n",
    "# 科学计算基础包\n",
    "import torch\n",
    "# 模拟构建Tensor对象，以方便后续查看神经网络结构\n",
    "from torch import Tensor\n",
    "# torchvision帮我们构建好的模型\n",
    "from torchvision import models\n",
    "# 神经网络相关模块\n",
    "from torch import nn\n",
    "# 优化器\n",
    "import torch.optim as optim\n",
    "# 自动学习率修正器\n",
    "from torch.optim import lr_scheduler"
   ]
  },
  {
   "cell_type": "code",
   "execution_count": 5,
   "metadata": {
    "pycharm": {
     "name": "#%%\n"
    }
   },
   "outputs": [],
   "source": [
    "def download_and_extract(url, path):\n",
    "    if os.path.exists(\"./datasets\"):\n",
    "        print(\"Dataset has existed, no need download!\")\n",
    "    else:\n",
    "        # 文件是否损坏标志位\n",
    "        flag = True\n",
    "        while flag:\n",
    "            # download dataset\n",
    "            print(\"Start download dataset!\")\n",
    "            download_url(url, '.')\n",
    "            # extract dataset\n",
    "            print(\"Start extracting dataset!\")\n",
    "            try:\n",
    "                with tarfile.open('./imagenette-320.tgz', 'r:gz') as tar:\n",
    "                    tar.extractall(path)\n",
    "                flag = False\n",
    "            except Exception:\n",
    "                print(\"Current file imagenette-320.tgz has broken, now start download new!\")\n",
    "                os.remove(\"./imagenette-320.tgz\")\n",
    "        print(\"Finish extracting dataset!\")"
   ]
  },
  {
   "cell_type": "code",
   "execution_count": 6,
   "metadata": {
    "pycharm": {
     "name": "#%%\n"
    }
   },
   "outputs": [
    {
     "name": "stdout",
     "output_type": "stream",
     "text": [
      "Dataset has existed, no need download!\n"
     ]
    }
   ],
   "source": [
    "dataset_path = './datasets'\n",
    "download_and_extract(\"https://s3.amazonaws.com/fast-ai-imageclas/imagenette-320.tgz\", dataset_path)"
   ]
  },
  {
   "cell_type": "code",
   "execution_count": 7,
   "metadata": {
    "pycharm": {
     "name": "#%%\n"
    }
   },
   "outputs": [],
   "source": [
    "# 抽取数据集类，从当前数据集的根目录寻找对应的子目录进行抽取(定义时需要给定数据集的最外层目录，抽取时需要给定最外层目录下的子目录名称)\n",
    "class Extracter_Dataset_Imagenette():\n",
    "    # file_path 数据集的最外层目录\n",
    "    # factor 抽取因子，如果有十份文件，抽取0.1，则会随机抽取当前10%数据量的10%做成新的文件\n",
    "    def __init__(self, file_path, factor):\n",
    "        self.file_path = file_path\n",
    "        self.factor = factor\n",
    "\n",
    "    def _mv_file(self, src, dst):\n",
    "        if not os.path.isfile(src):\n",
    "            print(\"%s not exit!\" % (src))\n",
    "        else:\n",
    "            fpath, fname = os.path.split(dst)\n",
    "        if not os.path.exists(fpath):\n",
    "            os.makedirs(fpath)\n",
    "        shutil.move(src, dst)\n",
    "\n",
    "    # 随机取文件\n",
    "    def _random_retrieve(self, li, num):\n",
    "        arr = np.array(li)\n",
    "        np.random.shuffle(arr)\n",
    "        return arr[: num]\n",
    "\n",
    "    '''\n",
    "        当前类根目录下\n",
    "        src 源子目录（必须）\n",
    "        target 目标子目录（非必须，默认test）\n",
    "    '''\n",
    "\n",
    "    def extract(self, src, target='test'):\n",
    "        target_path = os.path.join(self.file_path, target)\n",
    "        if os.path.exists(target_path):\n",
    "            print(\"Target directory has existed, no need extract new!\")\n",
    "        else:\n",
    "            print(f\"Start extracting data from {src} to {target}!\")\n",
    "            src_path = os.path.join(self.file_path, src)\n",
    "            dirs = os.listdir(src_path)\n",
    "            target_package = os.path.join(self.file_path, target)\n",
    "            for dir in dirs:\n",
    "                source_dir = os.path.join(src_path, dir)\n",
    "                files = os.listdir(source_dir)\n",
    "                random_files = self._random_retrieve(files, int(len(files) * self.factor))\n",
    "                for file in random_files:\n",
    "                    self._mv_file(os.path.join(source_dir, file), os.path.join(target_package, dir, file))\n",
    "\n",
    "            print(f\"Finish extracting data from {src} to {target}!\")"
   ]
  },
  {
   "cell_type": "code",
   "execution_count": 8,
   "metadata": {
    "pycharm": {
     "name": "#%%\n"
    }
   },
   "outputs": [
    {
     "name": "stdout",
     "output_type": "stream",
     "text": [
      "Target directory has existed, no need extract new!\n"
     ]
    }
   ],
   "source": [
    "# 当前步骤 - 准备数据目录\n",
    "# 构建当前数据集的根目录\n",
    "dataset_root_path = os.path.join(dataset_path, 'imagenette-320')\n",
    "# 把train数据集中抽取20%作为测试集\n",
    "extractor = Extracter_Dataset_Imagenette(dataset_root_path, 0.2)\n",
    "extractor.extract(\"train\", \"test\")"
   ]
  },
  {
   "cell_type": "code",
   "execution_count": 9,
   "metadata": {
    "pycharm": {
     "name": "#%%\n"
    }
   },
   "outputs": [],
   "source": [
    "class Imagenette_320_Dataset(Dataset):\n",
    "    # 初始化初始路径,以及数据集类型\n",
    "    # data_type 为你要读的子目录的名称，如'train','val'\n",
    "    # 默认 transform 为320格式然后再进行tensor转化，减少使用的内存大小以方便后续使用和训练速度，转化大小为320x320，因为当前为320为base像素的图像(也可以自定义转换器)，最后去掉公共部分（标准差）处理，让结果更准确\n",
    "    def __init__(self, root_path, data_type,\n",
    "                 transformer=transforms.Compose([transforms.Resize((320, 320)), transforms.ToTensor()])):\n",
    "        self.lbl_dict_to_index = {\n",
    "            'n01440764': 0,\n",
    "            'n02102040': 1,\n",
    "            'n02979186': 2,\n",
    "            'n03000684': 3,\n",
    "            'n03028079': 4,\n",
    "            'n03394916': 5,\n",
    "            'n03417042': 6,\n",
    "            'n03425413': 7,\n",
    "            'n03445777': 8,\n",
    "            'n03888257': 9\n",
    "        }\n",
    "        self.imgs = []\n",
    "        self.labels = []\n",
    "        sub_root_path = os.path.join(root_path, data_type)\n",
    "        if os.path.exists(sub_root_path):\n",
    "            for label in self.lbl_dict_to_index:\n",
    "                same_class_path = os.path.join(sub_root_path, label)\n",
    "                if os.path.exists(same_class_path):\n",
    "                    for index, img_name in enumerate(os.listdir(same_class_path)):\n",
    "                        # 用PIL读取图片，读取成PIL image 类\n",
    "                        img = Image.open(os.path.join(same_class_path, img_name))\n",
    "                        # drop those can not be normalized data, for example 'n01440764_15560.JPEG' is a grayish-white picture.\n",
    "                        if len(np.array(img).shape) != 3:\n",
    "                            print(\n",
    "                                f\"Current picture is not normalize format, since we need picture's shape whose CHW equals to (3, 320, 320), but now shape is not correct, so drop it!\\nPicture path: {os.path.join(same_class_path, img_name)}\")\n",
    "                        else:\n",
    "                            after_imgs = transformer(img)\n",
    "                            self.imgs.append(after_imgs)\n",
    "                            self.labels.append(self.lbl_dict_to_index.get(label))\n",
    "\n",
    "                        # 关闭文件，不然文件指针过多会报错\n",
    "                        img.close()\n",
    "\n",
    "    # 重写 __getitem__ 方法以便方便后续对数据的读取\n",
    "    def __getitem__(self, index):\n",
    "        return self.imgs[index], self.labels[index]\n",
    "\n",
    "    # 重写 __len__ 方法以便数据能被正确使用\n",
    "    def __len__(self):\n",
    "        return len(self.imgs)\n",
    "\n",
    "    @staticmethod\n",
    "    def map_to_name(index):\n",
    "        # 这边的标签是从网上对应数据集的映射上抄的\n",
    "        lbl_dict = {\n",
    "            0: 'Tench',\n",
    "            1: 'English springer',\n",
    "            2: 'Cassette player',\n",
    "            3: 'Chain saw',\n",
    "            4: 'Church',\n",
    "            5: 'French horn',\n",
    "            6: 'Garbage truck',\n",
    "            7: 'Gas pump',\n",
    "            8: 'Golf ball',\n",
    "            9: 'Parachute'\n",
    "        }\n",
    "        return lbl_dict[index]"
   ]
  },
  {
   "cell_type": "markdown",
   "source": [
    "## find the mean and std of train datasets"
   ],
   "metadata": {
    "collapsed": false
   }
  },
  {
   "cell_type": "code",
   "execution_count": 10,
   "outputs": [],
   "source": [
    "def get_mean_std_value(data_loader):\n",
    "    '''\n",
    "    求数据集的均值和标准差，用于优化模型\n",
    "    均值：三个维度分别求和并除以总数\n",
    "    标准差：根号下 (各个维度分别求 (当前数-均值)^2 的和)\n",
    "    '''\n",
    "    data_sum, data_squared_sum, num_batches = 0, 0, 0\n",
    "\n",
    "    for data, _ in data_loader:\n",
    "        # data: [batch_size,channels,height,width]\n",
    "        # 计算dim=0,2,3维度的均值和，dim=1为通道数量，不用参与计算\n",
    "        data_sum += torch.mean(data, dim=[0, 2, 3])  # [NCHW]\n",
    "        # 计算dim=0,2,3维度的平方均值和，dim=1为通道数量，不用参与计算\n",
    "        data_squared_sum += torch.mean(data ** 2, dim=[0, 2, 3])  # [NCHW]\n",
    "        # 统计batch的数量\n",
    "        num_batches += 1\n",
    "    # 计算均值\n",
    "    mean = data_sum / num_batches\n",
    "    # 计算标准差\n",
    "    std = (data_squared_sum / num_batches - mean ** 2) ** 0.5\n",
    "    return mean, std"
   ],
   "metadata": {
    "collapsed": false,
    "pycharm": {
     "name": "#%%\n"
    }
   }
  },
  {
   "cell_type": "code",
   "execution_count": 11,
   "outputs": [
    {
     "name": "stdout",
     "output_type": "stream",
     "text": [
      "Current datasets mean is tensor([0.4633, 0.4583, 0.4303])\n",
      "Current datasets std is tensor([0.2838, 0.2798, 0.3021])\n"
     ]
    }
   ],
   "source": [
    "# default is calculated by original, if you use new images, you need set 'need_count = True'\n",
    "need_count = False\n",
    "mean, std = torch.tensor([0.4633, 0.4583, 0.4303]), torch.tensor([0.2838, 0.2798, 0.3021])\n",
    "if need_count:\n",
    "    # 读取训练数据集\n",
    "    train_datasets_for_mean_std = Imagenette_320_Dataset(dataset_root_path, 'train')\n",
    "    train_datasets_for_mean_std_loader = DataLoader(train_datasets_for_mean_std, batch_size=batch_size_setting)\n",
    "    mean, std = get_mean_std_value(train_datasets_for_mean_std_loader)\n",
    "    # 释放内存\n",
    "    train_datasets_for_mean_std = None\n",
    "    train_datasets_for_mean_std_loader = None\n",
    "\n",
    "print(f\"Current datasets mean is {mean}\")  # Current datasets mean is tensor([0.4633, 0.4583, 0.4303])\n",
    "print(f\"Current datasets std is {std}\")  # Current datasets std is tensor([0.2838, 0.2798, 0.3021])\n",
    "\n",
    "# 构建相对应的transformer\n",
    "transformer = transforms.Compose(\n",
    "    [transforms.Resize((320, 320)), transforms.ToTensor(), transforms.Normalize(mean=mean, std=std)])"
   ],
   "metadata": {
    "collapsed": false,
    "pycharm": {
     "name": "#%%\n"
    }
   }
  },
  {
   "cell_type": "markdown",
   "source": [
    "## use transformer to load data"
   ],
   "metadata": {
    "collapsed": false
   }
  },
  {
   "cell_type": "code",
   "execution_count": 12,
   "metadata": {
    "pycharm": {
     "name": "#%%\n"
    }
   },
   "outputs": [
    {
     "name": "stdout",
     "output_type": "stream",
     "text": [
      "Current picture is not normalize format, since we need picture's shape whose CHW equals to (3, 320, 320), but now shape is torch.Size([3, 320, 320]), so drop it!\n",
      "Picture path: ./datasets\\imagenette-320\\train\\n01440764\\n01440764_15560.JPEG\n",
      "Current picture is not normalize format, since we need picture's shape whose CHW equals to (3, 320, 320), but now shape is torch.Size([3, 320, 320]), so drop it!\n",
      "Picture path: ./datasets\\imagenette-320\\train\\n02102040\\n02102040_1408.JPEG\n",
      "Current picture is not normalize format, since we need picture's shape whose CHW equals to (3, 320, 320), but now shape is torch.Size([3, 320, 320]), so drop it!\n",
      "Picture path: ./datasets\\imagenette-320\\train\\n02102040\\n02102040_1980.JPEG\n",
      "Current picture is not normalize format, since we need picture's shape whose CHW equals to (3, 320, 320), but now shape is torch.Size([3, 320, 320]), so drop it!\n",
      "Picture path: ./datasets\\imagenette-320\\train\\n02102040\\n02102040_3575.JPEG\n",
      "Current picture is not normalize format, since we need picture's shape whose CHW equals to (3, 320, 320), but now shape is torch.Size([3, 320, 320]), so drop it!\n",
      "Picture path: ./datasets\\imagenette-320\\train\\n02102040\\n02102040_5376.JPEG\n",
      "Current picture is not normalize format, since we need picture's shape whose CHW equals to (3, 320, 320), but now shape is torch.Size([3, 320, 320]), so drop it!\n",
      "Picture path: ./datasets\\imagenette-320\\train\\n02102040\\n02102040_598.JPEG\n",
      "Current picture is not normalize format, since we need picture's shape whose CHW equals to (3, 320, 320), but now shape is torch.Size([3, 320, 320]), so drop it!\n",
      "Picture path: ./datasets\\imagenette-320\\train\\n02102040\\n02102040_681.JPEG\n",
      "Current picture is not normalize format, since we need picture's shape whose CHW equals to (3, 320, 320), but now shape is torch.Size([3, 320, 320]), so drop it!\n",
      "Picture path: ./datasets\\imagenette-320\\train\\n02102040\\n02102040_725.JPEG\n",
      "Current picture is not normalize format, since we need picture's shape whose CHW equals to (3, 320, 320), but now shape is torch.Size([3, 320, 320]), so drop it!\n",
      "Picture path: ./datasets\\imagenette-320\\train\\n02102040\\n02102040_7646.JPEG\n",
      "Current picture is not normalize format, since we need picture's shape whose CHW equals to (3, 320, 320), but now shape is torch.Size([3, 320, 320]), so drop it!\n",
      "Picture path: ./datasets\\imagenette-320\\train\\n02102040\\n02102040_8320.JPEG\n",
      "Current picture is not normalize format, since we need picture's shape whose CHW equals to (3, 320, 320), but now shape is torch.Size([3, 320, 320]), so drop it!\n",
      "Picture path: ./datasets\\imagenette-320\\train\\n02979186\\n02979186_10755.JPEG\n",
      "Current picture is not normalize format, since we need picture's shape whose CHW equals to (3, 320, 320), but now shape is torch.Size([3, 320, 320]), so drop it!\n",
      "Picture path: ./datasets\\imagenette-320\\train\\n02979186\\n02979186_11410.JPEG\n",
      "Current picture is not normalize format, since we need picture's shape whose CHW equals to (3, 320, 320), but now shape is torch.Size([3, 320, 320]), so drop it!\n",
      "Picture path: ./datasets\\imagenette-320\\train\\n02979186\\n02979186_13764.JPEG\n",
      "Current picture is not normalize format, since we need picture's shape whose CHW equals to (3, 320, 320), but now shape is torch.Size([3, 320, 320]), so drop it!\n",
      "Picture path: ./datasets\\imagenette-320\\train\\n02979186\\n02979186_15188.JPEG\n",
      "Current picture is not normalize format, since we need picture's shape whose CHW equals to (3, 320, 320), but now shape is torch.Size([3, 320, 320]), so drop it!\n",
      "Picture path: ./datasets\\imagenette-320\\train\\n02979186\\n02979186_15951.JPEG\n",
      "Current picture is not normalize format, since we need picture's shape whose CHW equals to (3, 320, 320), but now shape is torch.Size([3, 320, 320]), so drop it!\n",
      "Picture path: ./datasets\\imagenette-320\\train\\n02979186\\n02979186_16515.JPEG\n",
      "Current picture is not normalize format, since we need picture's shape whose CHW equals to (3, 320, 320), but now shape is torch.Size([3, 320, 320]), so drop it!\n",
      "Picture path: ./datasets\\imagenette-320\\train\\n02979186\\n02979186_23104.JPEG\n",
      "Current picture is not normalize format, since we need picture's shape whose CHW equals to (3, 320, 320), but now shape is torch.Size([3, 320, 320]), so drop it!\n",
      "Picture path: ./datasets\\imagenette-320\\train\\n02979186\\n02979186_26014.JPEG\n",
      "Current picture is not normalize format, since we need picture's shape whose CHW equals to (3, 320, 320), but now shape is torch.Size([3, 320, 320]), so drop it!\n",
      "Picture path: ./datasets\\imagenette-320\\train\\n02979186\\n02979186_3009.JPEG\n",
      "Current picture is not normalize format, since we need picture's shape whose CHW equals to (3, 320, 320), but now shape is torch.Size([3, 320, 320]), so drop it!\n",
      "Picture path: ./datasets\\imagenette-320\\train\\n02979186\\n02979186_4266.JPEG\n",
      "Current picture is not normalize format, since we need picture's shape whose CHW equals to (3, 320, 320), but now shape is torch.Size([3, 320, 320]), so drop it!\n",
      "Picture path: ./datasets\\imagenette-320\\train\\n02979186\\n02979186_5737.JPEG\n",
      "Current picture is not normalize format, since we need picture's shape whose CHW equals to (3, 320, 320), but now shape is torch.Size([3, 320, 320]), so drop it!\n",
      "Picture path: ./datasets\\imagenette-320\\train\\n03000684\\n03000684_11104.JPEG\n",
      "Current picture is not normalize format, since we need picture's shape whose CHW equals to (3, 320, 320), but now shape is torch.Size([3, 320, 320]), so drop it!\n",
      "Picture path: ./datasets\\imagenette-320\\train\\n03000684\\n03000684_11333.JPEG\n",
      "Current picture is not normalize format, since we need picture's shape whose CHW equals to (3, 320, 320), but now shape is torch.Size([3, 320, 320]), so drop it!\n",
      "Picture path: ./datasets\\imagenette-320\\train\\n03000684\\n03000684_1229.JPEG\n",
      "Current picture is not normalize format, since we need picture's shape whose CHW equals to (3, 320, 320), but now shape is torch.Size([3, 320, 320]), so drop it!\n",
      "Picture path: ./datasets\\imagenette-320\\train\\n03000684\\n03000684_14916.JPEG\n",
      "Current picture is not normalize format, since we need picture's shape whose CHW equals to (3, 320, 320), but now shape is torch.Size([3, 320, 320]), so drop it!\n",
      "Picture path: ./datasets\\imagenette-320\\train\\n03000684\\n03000684_16481.JPEG\n",
      "Current picture is not normalize format, since we need picture's shape whose CHW equals to (3, 320, 320), but now shape is torch.Size([3, 320, 320]), so drop it!\n",
      "Picture path: ./datasets\\imagenette-320\\train\\n03000684\\n03000684_19753.JPEG\n",
      "Current picture is not normalize format, since we need picture's shape whose CHW equals to (3, 320, 320), but now shape is torch.Size([3, 320, 320]), so drop it!\n",
      "Picture path: ./datasets\\imagenette-320\\train\\n03000684\\n03000684_2035.JPEG\n",
      "Current picture is not normalize format, since we need picture's shape whose CHW equals to (3, 320, 320), but now shape is torch.Size([3, 320, 320]), so drop it!\n",
      "Picture path: ./datasets\\imagenette-320\\train\\n03000684\\n03000684_33316.JPEG\n",
      "Current picture is not normalize format, since we need picture's shape whose CHW equals to (3, 320, 320), but now shape is torch.Size([3, 320, 320]), so drop it!\n",
      "Picture path: ./datasets\\imagenette-320\\train\\n03000684\\n03000684_34762.JPEG\n",
      "Current picture is not normalize format, since we need picture's shape whose CHW equals to (3, 320, 320), but now shape is torch.Size([3, 320, 320]), so drop it!\n",
      "Picture path: ./datasets\\imagenette-320\\train\\n03000684\\n03000684_426.JPEG\n",
      "Current picture is not normalize format, since we need picture's shape whose CHW equals to (3, 320, 320), but now shape is torch.Size([3, 320, 320]), so drop it!\n",
      "Picture path: ./datasets\\imagenette-320\\train\\n03000684\\n03000684_4636.JPEG\n",
      "Current picture is not normalize format, since we need picture's shape whose CHW equals to (3, 320, 320), but now shape is torch.Size([3, 320, 320]), so drop it!\n",
      "Picture path: ./datasets\\imagenette-320\\train\\n03028079\\n03028079_10425.JPEG\n",
      "Current picture is not normalize format, since we need picture's shape whose CHW equals to (3, 320, 320), but now shape is torch.Size([3, 320, 320]), so drop it!\n",
      "Picture path: ./datasets\\imagenette-320\\train\\n03028079\\n03028079_10494.JPEG\n",
      "Current picture is not normalize format, since we need picture's shape whose CHW equals to (3, 320, 320), but now shape is torch.Size([3, 320, 320]), so drop it!\n",
      "Picture path: ./datasets\\imagenette-320\\train\\n03028079\\n03028079_11578.JPEG\n",
      "Current picture is not normalize format, since we need picture's shape whose CHW equals to (3, 320, 320), but now shape is torch.Size([3, 320, 320]), so drop it!\n",
      "Picture path: ./datasets\\imagenette-320\\train\\n03028079\\n03028079_12802.JPEG\n",
      "Current picture is not normalize format, since we need picture's shape whose CHW equals to (3, 320, 320), but now shape is torch.Size([3, 320, 320]), so drop it!\n",
      "Picture path: ./datasets\\imagenette-320\\train\\n03028079\\n03028079_13311.JPEG\n",
      "Current picture is not normalize format, since we need picture's shape whose CHW equals to (3, 320, 320), but now shape is torch.Size([3, 320, 320]), so drop it!\n",
      "Picture path: ./datasets\\imagenette-320\\train\\n03028079\\n03028079_14263.JPEG\n",
      "Current picture is not normalize format, since we need picture's shape whose CHW equals to (3, 320, 320), but now shape is torch.Size([3, 320, 320]), so drop it!\n",
      "Picture path: ./datasets\\imagenette-320\\train\\n03028079\\n03028079_14278.JPEG\n",
      "Current picture is not normalize format, since we need picture's shape whose CHW equals to (3, 320, 320), but now shape is torch.Size([3, 320, 320]), so drop it!\n",
      "Picture path: ./datasets\\imagenette-320\\train\\n03028079\\n03028079_14604.JPEG\n",
      "Current picture is not normalize format, since we need picture's shape whose CHW equals to (3, 320, 320), but now shape is torch.Size([3, 320, 320]), so drop it!\n",
      "Picture path: ./datasets\\imagenette-320\\train\\n03028079\\n03028079_15381.JPEG\n",
      "Current picture is not normalize format, since we need picture's shape whose CHW equals to (3, 320, 320), but now shape is torch.Size([3, 320, 320]), so drop it!\n",
      "Picture path: ./datasets\\imagenette-320\\train\\n03028079\\n03028079_15946.JPEG\n",
      "Current picture is not normalize format, since we need picture's shape whose CHW equals to (3, 320, 320), but now shape is torch.Size([3, 320, 320]), so drop it!\n",
      "Picture path: ./datasets\\imagenette-320\\train\\n03028079\\n03028079_16924.JPEG\n",
      "Current picture is not normalize format, since we need picture's shape whose CHW equals to (3, 320, 320), but now shape is torch.Size([3, 320, 320]), so drop it!\n",
      "Picture path: ./datasets\\imagenette-320\\train\\n03028079\\n03028079_17715.JPEG\n",
      "Current picture is not normalize format, since we need picture's shape whose CHW equals to (3, 320, 320), but now shape is torch.Size([3, 320, 320]), so drop it!\n",
      "Picture path: ./datasets\\imagenette-320\\train\\n03028079\\n03028079_18097.JPEG\n",
      "Current picture is not normalize format, since we need picture's shape whose CHW equals to (3, 320, 320), but now shape is torch.Size([3, 320, 320]), so drop it!\n",
      "Picture path: ./datasets\\imagenette-320\\train\\n03028079\\n03028079_20186.JPEG\n",
      "Current picture is not normalize format, since we need picture's shape whose CHW equals to (3, 320, 320), but now shape is torch.Size([3, 320, 320]), so drop it!\n",
      "Picture path: ./datasets\\imagenette-320\\train\\n03028079\\n03028079_2342.JPEG\n",
      "Current picture is not normalize format, since we need picture's shape whose CHW equals to (3, 320, 320), but now shape is torch.Size([3, 320, 320]), so drop it!\n",
      "Picture path: ./datasets\\imagenette-320\\train\\n03028079\\n03028079_24595.JPEG\n",
      "Current picture is not normalize format, since we need picture's shape whose CHW equals to (3, 320, 320), but now shape is torch.Size([3, 320, 320]), so drop it!\n",
      "Picture path: ./datasets\\imagenette-320\\train\\n03028079\\n03028079_27545.JPEG\n",
      "Current picture is not normalize format, since we need picture's shape whose CHW equals to (3, 320, 320), but now shape is torch.Size([3, 320, 320]), so drop it!\n",
      "Picture path: ./datasets\\imagenette-320\\train\\n03028079\\n03028079_29556.JPEG\n",
      "Current picture is not normalize format, since we need picture's shape whose CHW equals to (3, 320, 320), but now shape is torch.Size([3, 320, 320]), so drop it!\n",
      "Picture path: ./datasets\\imagenette-320\\train\\n03028079\\n03028079_31753.JPEG\n",
      "Current picture is not normalize format, since we need picture's shape whose CHW equals to (3, 320, 320), but now shape is torch.Size([3, 320, 320]), so drop it!\n",
      "Picture path: ./datasets\\imagenette-320\\train\\n03028079\\n03028079_3193.JPEG\n",
      "Current picture is not normalize format, since we need picture's shape whose CHW equals to (3, 320, 320), but now shape is torch.Size([3, 320, 320]), so drop it!\n",
      "Picture path: ./datasets\\imagenette-320\\train\\n03028079\\n03028079_3260.JPEG\n",
      "Current picture is not normalize format, since we need picture's shape whose CHW equals to (3, 320, 320), but now shape is torch.Size([3, 320, 320]), so drop it!\n",
      "Picture path: ./datasets\\imagenette-320\\train\\n03028079\\n03028079_35048.JPEG\n",
      "Current picture is not normalize format, since we need picture's shape whose CHW equals to (3, 320, 320), but now shape is torch.Size([3, 320, 320]), so drop it!\n",
      "Picture path: ./datasets\\imagenette-320\\train\\n03028079\\n03028079_46967.JPEG\n",
      "Current picture is not normalize format, since we need picture's shape whose CHW equals to (3, 320, 320), but now shape is torch.Size([3, 320, 320]), so drop it!\n",
      "Picture path: ./datasets\\imagenette-320\\train\\n03028079\\n03028079_7233.JPEG\n",
      "Current picture is not normalize format, since we need picture's shape whose CHW equals to (3, 320, 320), but now shape is torch.Size([3, 320, 320]), so drop it!\n",
      "Picture path: ./datasets\\imagenette-320\\train\\n03028079\\n03028079_7260.JPEG\n",
      "Current picture is not normalize format, since we need picture's shape whose CHW equals to (3, 320, 320), but now shape is torch.Size([3, 320, 320]), so drop it!\n",
      "Picture path: ./datasets\\imagenette-320\\train\\n03028079\\n03028079_8990.JPEG\n",
      "Current picture is not normalize format, since we need picture's shape whose CHW equals to (3, 320, 320), but now shape is torch.Size([3, 320, 320]), so drop it!\n",
      "Picture path: ./datasets\\imagenette-320\\train\\n03028079\\n03028079_9127.JPEG\n",
      "Current picture is not normalize format, since we need picture's shape whose CHW equals to (3, 320, 320), but now shape is torch.Size([3, 320, 320]), so drop it!\n",
      "Picture path: ./datasets\\imagenette-320\\train\\n03028079\\n03028079_9683.JPEG\n",
      "Current picture is not normalize format, since we need picture's shape whose CHW equals to (3, 320, 320), but now shape is torch.Size([3, 320, 320]), so drop it!\n",
      "Picture path: ./datasets\\imagenette-320\\train\\n03394916\\n03394916_1149.JPEG\n",
      "Current picture is not normalize format, since we need picture's shape whose CHW equals to (3, 320, 320), but now shape is torch.Size([3, 320, 320]), so drop it!\n",
      "Picture path: ./datasets\\imagenette-320\\train\\n03394916\\n03394916_16246.JPEG\n",
      "Current picture is not normalize format, since we need picture's shape whose CHW equals to (3, 320, 320), but now shape is torch.Size([3, 320, 320]), so drop it!\n",
      "Picture path: ./datasets\\imagenette-320\\train\\n03394916\\n03394916_24023.JPEG\n",
      "Current picture is not normalize format, since we need picture's shape whose CHW equals to (3, 320, 320), but now shape is torch.Size([3, 320, 320]), so drop it!\n",
      "Picture path: ./datasets\\imagenette-320\\train\\n03394916\\n03394916_24024.JPEG\n",
      "Current picture is not normalize format, since we need picture's shape whose CHW equals to (3, 320, 320), but now shape is torch.Size([3, 320, 320]), so drop it!\n",
      "Picture path: ./datasets\\imagenette-320\\train\\n03394916\\n03394916_24385.JPEG\n",
      "Current picture is not normalize format, since we need picture's shape whose CHW equals to (3, 320, 320), but now shape is torch.Size([3, 320, 320]), so drop it!\n",
      "Picture path: ./datasets\\imagenette-320\\train\\n03394916\\n03394916_24391.JPEG\n",
      "Current picture is not normalize format, since we need picture's shape whose CHW equals to (3, 320, 320), but now shape is torch.Size([3, 320, 320]), so drop it!\n",
      "Picture path: ./datasets\\imagenette-320\\train\\n03394916\\n03394916_27139.JPEG\n",
      "Current picture is not normalize format, since we need picture's shape whose CHW equals to (3, 320, 320), but now shape is torch.Size([3, 320, 320]), so drop it!\n",
      "Picture path: ./datasets\\imagenette-320\\train\\n03394916\\n03394916_29106.JPEG\n",
      "Current picture is not normalize format, since we need picture's shape whose CHW equals to (3, 320, 320), but now shape is torch.Size([3, 320, 320]), so drop it!\n",
      "Picture path: ./datasets\\imagenette-320\\train\\n03394916\\n03394916_29536.JPEG\n",
      "Current picture is not normalize format, since we need picture's shape whose CHW equals to (3, 320, 320), but now shape is torch.Size([3, 320, 320]), so drop it!\n",
      "Picture path: ./datasets\\imagenette-320\\train\\n03394916\\n03394916_30289.JPEG\n",
      "Current picture is not normalize format, since we need picture's shape whose CHW equals to (3, 320, 320), but now shape is torch.Size([3, 320, 320]), so drop it!\n",
      "Picture path: ./datasets\\imagenette-320\\train\\n03394916\\n03394916_31032.JPEG\n",
      "Current picture is not normalize format, since we need picture's shape whose CHW equals to (3, 320, 320), but now shape is torch.Size([3, 320, 320]), so drop it!\n",
      "Picture path: ./datasets\\imagenette-320\\train\\n03394916\\n03394916_31453.JPEG\n",
      "Current picture is not normalize format, since we need picture's shape whose CHW equals to (3, 320, 320), but now shape is torch.Size([3, 320, 320]), so drop it!\n",
      "Picture path: ./datasets\\imagenette-320\\train\\n03394916\\n03394916_32272.JPEG\n",
      "Current picture is not normalize format, since we need picture's shape whose CHW equals to (3, 320, 320), but now shape is torch.Size([3, 320, 320]), so drop it!\n",
      "Picture path: ./datasets\\imagenette-320\\train\\n03394916\\n03394916_32505.JPEG\n",
      "Current picture is not normalize format, since we need picture's shape whose CHW equals to (3, 320, 320), but now shape is torch.Size([3, 320, 320]), so drop it!\n",
      "Picture path: ./datasets\\imagenette-320\\train\\n03394916\\n03394916_32870.JPEG\n",
      "Current picture is not normalize format, since we need picture's shape whose CHW equals to (3, 320, 320), but now shape is torch.Size([3, 320, 320]), so drop it!\n",
      "Picture path: ./datasets\\imagenette-320\\train\\n03394916\\n03394916_33101.JPEG\n",
      "Current picture is not normalize format, since we need picture's shape whose CHW equals to (3, 320, 320), but now shape is torch.Size([3, 320, 320]), so drop it!\n",
      "Picture path: ./datasets\\imagenette-320\\train\\n03394916\\n03394916_35408.JPEG\n",
      "Current picture is not normalize format, since we need picture's shape whose CHW equals to (3, 320, 320), but now shape is torch.Size([3, 320, 320]), so drop it!\n",
      "Picture path: ./datasets\\imagenette-320\\train\\n03394916\\n03394916_35544.JPEG\n",
      "Current picture is not normalize format, since we need picture's shape whose CHW equals to (3, 320, 320), but now shape is torch.Size([3, 320, 320]), so drop it!\n",
      "Picture path: ./datasets\\imagenette-320\\train\\n03394916\\n03394916_35811.JPEG\n",
      "Current picture is not normalize format, since we need picture's shape whose CHW equals to (3, 320, 320), but now shape is torch.Size([3, 320, 320]), so drop it!\n",
      "Picture path: ./datasets\\imagenette-320\\train\\n03394916\\n03394916_36924.JPEG\n",
      "Current picture is not normalize format, since we need picture's shape whose CHW equals to (3, 320, 320), but now shape is torch.Size([3, 320, 320]), so drop it!\n",
      "Picture path: ./datasets\\imagenette-320\\train\\n03394916\\n03394916_37171.JPEG\n",
      "Current picture is not normalize format, since we need picture's shape whose CHW equals to (3, 320, 320), but now shape is torch.Size([3, 320, 320]), so drop it!\n",
      "Picture path: ./datasets\\imagenette-320\\train\\n03394916\\n03394916_37365.JPEG\n",
      "Current picture is not normalize format, since we need picture's shape whose CHW equals to (3, 320, 320), but now shape is torch.Size([3, 320, 320]), so drop it!\n",
      "Picture path: ./datasets\\imagenette-320\\train\\n03394916\\n03394916_37415.JPEG\n",
      "Current picture is not normalize format, since we need picture's shape whose CHW equals to (3, 320, 320), but now shape is torch.Size([3, 320, 320]), so drop it!\n",
      "Picture path: ./datasets\\imagenette-320\\train\\n03394916\\n03394916_37510.JPEG\n",
      "Current picture is not normalize format, since we need picture's shape whose CHW equals to (3, 320, 320), but now shape is torch.Size([3, 320, 320]), so drop it!\n",
      "Picture path: ./datasets\\imagenette-320\\train\\n03394916\\n03394916_38223.JPEG\n",
      "Current picture is not normalize format, since we need picture's shape whose CHW equals to (3, 320, 320), but now shape is torch.Size([3, 320, 320]), so drop it!\n",
      "Picture path: ./datasets\\imagenette-320\\train\\n03394916\\n03394916_38313.JPEG\n",
      "Current picture is not normalize format, since we need picture's shape whose CHW equals to (3, 320, 320), but now shape is torch.Size([3, 320, 320]), so drop it!\n",
      "Picture path: ./datasets\\imagenette-320\\train\\n03394916\\n03394916_38326.JPEG\n",
      "Current picture is not normalize format, since we need picture's shape whose CHW equals to (3, 320, 320), but now shape is torch.Size([3, 320, 320]), so drop it!\n",
      "Picture path: ./datasets\\imagenette-320\\train\\n03394916\\n03394916_40087.JPEG\n",
      "Current picture is not normalize format, since we need picture's shape whose CHW equals to (3, 320, 320), but now shape is torch.Size([3, 320, 320]), so drop it!\n",
      "Picture path: ./datasets\\imagenette-320\\train\\n03394916\\n03394916_4023.JPEG\n",
      "Current picture is not normalize format, since we need picture's shape whose CHW equals to (3, 320, 320), but now shape is torch.Size([3, 320, 320]), so drop it!\n",
      "Picture path: ./datasets\\imagenette-320\\train\\n03394916\\n03394916_40257.JPEG\n",
      "Current picture is not normalize format, since we need picture's shape whose CHW equals to (3, 320, 320), but now shape is torch.Size([3, 320, 320]), so drop it!\n",
      "Picture path: ./datasets\\imagenette-320\\train\\n03394916\\n03394916_4156.JPEG\n",
      "Current picture is not normalize format, since we need picture's shape whose CHW equals to (3, 320, 320), but now shape is torch.Size([3, 320, 320]), so drop it!\n",
      "Picture path: ./datasets\\imagenette-320\\train\\n03394916\\n03394916_42422.JPEG\n",
      "Current picture is not normalize format, since we need picture's shape whose CHW equals to (3, 320, 320), but now shape is torch.Size([3, 320, 320]), so drop it!\n",
      "Picture path: ./datasets\\imagenette-320\\train\\n03394916\\n03394916_42671.JPEG\n",
      "Current picture is not normalize format, since we need picture's shape whose CHW equals to (3, 320, 320), but now shape is torch.Size([3, 320, 320]), so drop it!\n",
      "Picture path: ./datasets\\imagenette-320\\train\\n03394916\\n03394916_43058.JPEG\n",
      "Current picture is not normalize format, since we need picture's shape whose CHW equals to (3, 320, 320), but now shape is torch.Size([3, 320, 320]), so drop it!\n",
      "Picture path: ./datasets\\imagenette-320\\train\\n03394916\\n03394916_43382.JPEG\n",
      "Current picture is not normalize format, since we need picture's shape whose CHW equals to (3, 320, 320), but now shape is torch.Size([3, 320, 320]), so drop it!\n",
      "Picture path: ./datasets\\imagenette-320\\train\\n03394916\\n03394916_46607.JPEG\n",
      "Current picture is not normalize format, since we need picture's shape whose CHW equals to (3, 320, 320), but now shape is torch.Size([3, 320, 320]), so drop it!\n",
      "Picture path: ./datasets\\imagenette-320\\train\\n03394916\\n03394916_46858.JPEG\n",
      "Current picture is not normalize format, since we need picture's shape whose CHW equals to (3, 320, 320), but now shape is torch.Size([3, 320, 320]), so drop it!\n",
      "Picture path: ./datasets\\imagenette-320\\train\\n03394916\\n03394916_47296.JPEG\n",
      "Current picture is not normalize format, since we need picture's shape whose CHW equals to (3, 320, 320), but now shape is torch.Size([3, 320, 320]), so drop it!\n",
      "Picture path: ./datasets\\imagenette-320\\train\\n03394916\\n03394916_47330.JPEG\n",
      "Current picture is not normalize format, since we need picture's shape whose CHW equals to (3, 320, 320), but now shape is torch.Size([3, 320, 320]), so drop it!\n",
      "Picture path: ./datasets\\imagenette-320\\train\\n03394916\\n03394916_47688.JPEG\n",
      "Current picture is not normalize format, since we need picture's shape whose CHW equals to (3, 320, 320), but now shape is torch.Size([3, 320, 320]), so drop it!\n",
      "Picture path: ./datasets\\imagenette-320\\train\\n03394916\\n03394916_56850.JPEG\n",
      "Current picture is not normalize format, since we need picture's shape whose CHW equals to (3, 320, 320), but now shape is torch.Size([3, 320, 320]), so drop it!\n",
      "Picture path: ./datasets\\imagenette-320\\train\\n03394916\\n03394916_60810.JPEG\n",
      "Current picture is not normalize format, since we need picture's shape whose CHW equals to (3, 320, 320), but now shape is torch.Size([3, 320, 320]), so drop it!\n",
      "Picture path: ./datasets\\imagenette-320\\train\\n03394916\\n03394916_65604.JPEG\n",
      "Current picture is not normalize format, since we need picture's shape whose CHW equals to (3, 320, 320), but now shape is torch.Size([3, 320, 320]), so drop it!\n",
      "Picture path: ./datasets\\imagenette-320\\train\\n03394916\\n03394916_7045.JPEG\n",
      "Current picture is not normalize format, since we need picture's shape whose CHW equals to (3, 320, 320), but now shape is torch.Size([3, 320, 320]), so drop it!\n",
      "Picture path: ./datasets\\imagenette-320\\train\\n03394916\\n03394916_7616.JPEG\n",
      "Current picture is not normalize format, since we need picture's shape whose CHW equals to (3, 320, 320), but now shape is torch.Size([3, 320, 320]), so drop it!\n",
      "Picture path: ./datasets\\imagenette-320\\train\\n03417042\\n03417042_12105.JPEG\n",
      "Current picture is not normalize format, since we need picture's shape whose CHW equals to (3, 320, 320), but now shape is torch.Size([3, 320, 320]), so drop it!\n",
      "Picture path: ./datasets\\imagenette-320\\train\\n03417042\\n03417042_13279.JPEG\n",
      "Current picture is not normalize format, since we need picture's shape whose CHW equals to (3, 320, 320), but now shape is torch.Size([3, 320, 320]), so drop it!\n",
      "Picture path: ./datasets\\imagenette-320\\train\\n03417042\\n03417042_2156.JPEG\n",
      "Current picture is not normalize format, since we need picture's shape whose CHW equals to (3, 320, 320), but now shape is torch.Size([3, 320, 320]), so drop it!\n",
      "Picture path: ./datasets\\imagenette-320\\train\\n03417042\\n03417042_2236.JPEG\n",
      "Current picture is not normalize format, since we need picture's shape whose CHW equals to (3, 320, 320), but now shape is torch.Size([3, 320, 320]), so drop it!\n",
      "Picture path: ./datasets\\imagenette-320\\train\\n03417042\\n03417042_2654.JPEG\n",
      "Current picture is not normalize format, since we need picture's shape whose CHW equals to (3, 320, 320), but now shape is torch.Size([3, 320, 320]), so drop it!\n",
      "Picture path: ./datasets\\imagenette-320\\train\\n03417042\\n03417042_3264.JPEG\n",
      "Current picture is not normalize format, since we need picture's shape whose CHW equals to (3, 320, 320), but now shape is torch.Size([3, 320, 320]), so drop it!\n",
      "Picture path: ./datasets\\imagenette-320\\train\\n03417042\\n03417042_3796.JPEG\n",
      "Current picture is not normalize format, since we need picture's shape whose CHW equals to (3, 320, 320), but now shape is torch.Size([3, 320, 320]), so drop it!\n",
      "Picture path: ./datasets\\imagenette-320\\train\\n03417042\\n03417042_4516.JPEG\n",
      "Current picture is not normalize format, since we need picture's shape whose CHW equals to (3, 320, 320), but now shape is torch.Size([3, 320, 320]), so drop it!\n",
      "Picture path: ./datasets\\imagenette-320\\train\\n03417042\\n03417042_8966.JPEG\n",
      "Current picture is not normalize format, since we need picture's shape whose CHW equals to (3, 320, 320), but now shape is torch.Size([3, 320, 320]), so drop it!\n",
      "Picture path: ./datasets\\imagenette-320\\train\\n03417042\\n03417042_9239.JPEG\n",
      "Current picture is not normalize format, since we need picture's shape whose CHW equals to (3, 320, 320), but now shape is torch.Size([3, 320, 320]), so drop it!\n",
      "Picture path: ./datasets\\imagenette-320\\train\\n03425413\\n03425413_12092.JPEG\n",
      "Current picture is not normalize format, since we need picture's shape whose CHW equals to (3, 320, 320), but now shape is torch.Size([3, 320, 320]), so drop it!\n",
      "Picture path: ./datasets\\imagenette-320\\train\\n03425413\\n03425413_12685.JPEG\n",
      "Current picture is not normalize format, since we need picture's shape whose CHW equals to (3, 320, 320), but now shape is torch.Size([3, 320, 320]), so drop it!\n",
      "Picture path: ./datasets\\imagenette-320\\train\\n03425413\\n03425413_12686.JPEG\n",
      "Current picture is not normalize format, since we need picture's shape whose CHW equals to (3, 320, 320), but now shape is torch.Size([3, 320, 320]), so drop it!\n",
      "Picture path: ./datasets\\imagenette-320\\train\\n03425413\\n03425413_12712.JPEG\n",
      "Current picture is not normalize format, since we need picture's shape whose CHW equals to (3, 320, 320), but now shape is torch.Size([3, 320, 320]), so drop it!\n",
      "Picture path: ./datasets\\imagenette-320\\train\\n03425413\\n03425413_12839.JPEG\n",
      "Current picture is not normalize format, since we need picture's shape whose CHW equals to (3, 320, 320), but now shape is torch.Size([3, 320, 320]), so drop it!\n",
      "Picture path: ./datasets\\imagenette-320\\train\\n03425413\\n03425413_12980.JPEG\n",
      "Current picture is not normalize format, since we need picture's shape whose CHW equals to (3, 320, 320), but now shape is torch.Size([3, 320, 320]), so drop it!\n",
      "Picture path: ./datasets\\imagenette-320\\train\\n03425413\\n03425413_13072.JPEG\n",
      "Current picture is not normalize format, since we need picture's shape whose CHW equals to (3, 320, 320), but now shape is torch.Size([3, 320, 320]), so drop it!\n",
      "Picture path: ./datasets\\imagenette-320\\train\\n03425413\\n03425413_13096.JPEG\n",
      "Current picture is not normalize format, since we need picture's shape whose CHW equals to (3, 320, 320), but now shape is torch.Size([3, 320, 320]), so drop it!\n",
      "Picture path: ./datasets\\imagenette-320\\train\\n03425413\\n03425413_13353.JPEG\n",
      "Current picture is not normalize format, since we need picture's shape whose CHW equals to (3, 320, 320), but now shape is torch.Size([3, 320, 320]), so drop it!\n",
      "Picture path: ./datasets\\imagenette-320\\train\\n03425413\\n03425413_13381.JPEG\n",
      "Current picture is not normalize format, since we need picture's shape whose CHW equals to (3, 320, 320), but now shape is torch.Size([3, 320, 320]), so drop it!\n",
      "Picture path: ./datasets\\imagenette-320\\train\\n03425413\\n03425413_13390.JPEG\n",
      "Current picture is not normalize format, since we need picture's shape whose CHW equals to (3, 320, 320), but now shape is torch.Size([3, 320, 320]), so drop it!\n",
      "Picture path: ./datasets\\imagenette-320\\train\\n03425413\\n03425413_13971.JPEG\n",
      "Current picture is not normalize format, since we need picture's shape whose CHW equals to (3, 320, 320), but now shape is torch.Size([3, 320, 320]), so drop it!\n",
      "Picture path: ./datasets\\imagenette-320\\train\\n03425413\\n03425413_14249.JPEG\n",
      "Current picture is not normalize format, since we need picture's shape whose CHW equals to (3, 320, 320), but now shape is torch.Size([3, 320, 320]), so drop it!\n",
      "Picture path: ./datasets\\imagenette-320\\train\\n03425413\\n03425413_14395.JPEG\n",
      "Current picture is not normalize format, since we need picture's shape whose CHW equals to (3, 320, 320), but now shape is torch.Size([3, 320, 320]), so drop it!\n",
      "Picture path: ./datasets\\imagenette-320\\train\\n03425413\\n03425413_14722.JPEG\n",
      "Current picture is not normalize format, since we need picture's shape whose CHW equals to (3, 320, 320), but now shape is torch.Size([3, 320, 320]), so drop it!\n",
      "Picture path: ./datasets\\imagenette-320\\train\\n03425413\\n03425413_15026.JPEG\n",
      "Current picture is not normalize format, since we need picture's shape whose CHW equals to (3, 320, 320), but now shape is torch.Size([3, 320, 320]), so drop it!\n",
      "Picture path: ./datasets\\imagenette-320\\train\\n03425413\\n03425413_15035.JPEG\n",
      "Current picture is not normalize format, since we need picture's shape whose CHW equals to (3, 320, 320), but now shape is torch.Size([3, 320, 320]), so drop it!\n",
      "Picture path: ./datasets\\imagenette-320\\train\\n03425413\\n03425413_15312.JPEG\n",
      "Current picture is not normalize format, since we need picture's shape whose CHW equals to (3, 320, 320), but now shape is torch.Size([3, 320, 320]), so drop it!\n",
      "Picture path: ./datasets\\imagenette-320\\train\\n03425413\\n03425413_15397.JPEG\n",
      "Current picture is not normalize format, since we need picture's shape whose CHW equals to (3, 320, 320), but now shape is torch.Size([3, 320, 320]), so drop it!\n",
      "Picture path: ./datasets\\imagenette-320\\train\\n03425413\\n03425413_15528.JPEG\n",
      "Current picture is not normalize format, since we need picture's shape whose CHW equals to (3, 320, 320), but now shape is torch.Size([3, 320, 320]), so drop it!\n",
      "Picture path: ./datasets\\imagenette-320\\train\\n03425413\\n03425413_15630.JPEG\n",
      "Current picture is not normalize format, since we need picture's shape whose CHW equals to (3, 320, 320), but now shape is torch.Size([3, 320, 320]), so drop it!\n",
      "Picture path: ./datasets\\imagenette-320\\train\\n03425413\\n03425413_19117.JPEG\n",
      "Current picture is not normalize format, since we need picture's shape whose CHW equals to (3, 320, 320), but now shape is torch.Size([3, 320, 320]), so drop it!\n",
      "Picture path: ./datasets\\imagenette-320\\train\\n03425413\\n03425413_19208.JPEG\n",
      "Current picture is not normalize format, since we need picture's shape whose CHW equals to (3, 320, 320), but now shape is torch.Size([3, 320, 320]), so drop it!\n",
      "Picture path: ./datasets\\imagenette-320\\train\\n03425413\\n03425413_19271.JPEG\n",
      "Current picture is not normalize format, since we need picture's shape whose CHW equals to (3, 320, 320), but now shape is torch.Size([3, 320, 320]), so drop it!\n",
      "Picture path: ./datasets\\imagenette-320\\train\\n03425413\\n03425413_20484.JPEG\n",
      "Current picture is not normalize format, since we need picture's shape whose CHW equals to (3, 320, 320), but now shape is torch.Size([3, 320, 320]), so drop it!\n",
      "Picture path: ./datasets\\imagenette-320\\train\\n03425413\\n03425413_20676.JPEG\n",
      "Current picture is not normalize format, since we need picture's shape whose CHW equals to (3, 320, 320), but now shape is torch.Size([3, 320, 320]), so drop it!\n",
      "Picture path: ./datasets\\imagenette-320\\train\\n03425413\\n03425413_20786.JPEG\n",
      "Current picture is not normalize format, since we need picture's shape whose CHW equals to (3, 320, 320), but now shape is torch.Size([3, 320, 320]), so drop it!\n",
      "Picture path: ./datasets\\imagenette-320\\train\\n03425413\\n03425413_20918.JPEG\n",
      "Current picture is not normalize format, since we need picture's shape whose CHW equals to (3, 320, 320), but now shape is torch.Size([3, 320, 320]), so drop it!\n",
      "Picture path: ./datasets\\imagenette-320\\train\\n03425413\\n03425413_251.JPEG\n",
      "Current picture is not normalize format, since we need picture's shape whose CHW equals to (3, 320, 320), but now shape is torch.Size([3, 320, 320]), so drop it!\n",
      "Picture path: ./datasets\\imagenette-320\\train\\n03425413\\n03425413_2625.JPEG\n",
      "Current picture is not normalize format, since we need picture's shape whose CHW equals to (3, 320, 320), but now shape is torch.Size([3, 320, 320]), so drop it!\n",
      "Picture path: ./datasets\\imagenette-320\\train\\n03425413\\n03425413_27052.JPEG\n",
      "Current picture is not normalize format, since we need picture's shape whose CHW equals to (3, 320, 320), but now shape is torch.Size([3, 320, 320]), so drop it!\n",
      "Picture path: ./datasets\\imagenette-320\\train\\n03425413\\n03425413_3493.JPEG\n",
      "Current picture is not normalize format, since we need picture's shape whose CHW equals to (3, 320, 320), but now shape is torch.Size([3, 320, 320]), so drop it!\n",
      "Picture path: ./datasets\\imagenette-320\\train\\n03425413\\n03425413_5864.JPEG\n",
      "Current picture is not normalize format, since we need picture's shape whose CHW equals to (3, 320, 320), but now shape is torch.Size([3, 320, 320]), so drop it!\n",
      "Picture path: ./datasets\\imagenette-320\\train\\n03425413\\n03425413_638.JPEG\n",
      "Current picture is not normalize format, since we need picture's shape whose CHW equals to (3, 320, 320), but now shape is torch.Size([3, 320, 320]), so drop it!\n",
      "Picture path: ./datasets\\imagenette-320\\train\\n03425413\\n03425413_7022.JPEG\n",
      "Current picture is not normalize format, since we need picture's shape whose CHW equals to (3, 320, 320), but now shape is torch.Size([3, 320, 320]), so drop it!\n",
      "Picture path: ./datasets\\imagenette-320\\train\\n03425413\\n03425413_9117.JPEG\n",
      "Current picture is not normalize format, since we need picture's shape whose CHW equals to (3, 320, 320), but now shape is torch.Size([3, 320, 320]), so drop it!\n",
      "Picture path: ./datasets\\imagenette-320\\train\\n03445777\\n03445777_10027.JPEG\n",
      "Current picture is not normalize format, since we need picture's shape whose CHW equals to (3, 320, 320), but now shape is torch.Size([3, 320, 320]), so drop it!\n",
      "Picture path: ./datasets\\imagenette-320\\train\\n03445777\\n03445777_11389.JPEG\n",
      "Current picture is not normalize format, since we need picture's shape whose CHW equals to (3, 320, 320), but now shape is torch.Size([3, 320, 320]), so drop it!\n",
      "Picture path: ./datasets\\imagenette-320\\train\\n03445777\\n03445777_11789.JPEG\n",
      "Current picture is not normalize format, since we need picture's shape whose CHW equals to (3, 320, 320), but now shape is torch.Size([3, 320, 320]), so drop it!\n",
      "Picture path: ./datasets\\imagenette-320\\train\\n03445777\\n03445777_13257.JPEG\n",
      "Current picture is not normalize format, since we need picture's shape whose CHW equals to (3, 320, 320), but now shape is torch.Size([3, 320, 320]), so drop it!\n",
      "Picture path: ./datasets\\imagenette-320\\train\\n03445777\\n03445777_16143.JPEG\n",
      "Current picture is not normalize format, since we need picture's shape whose CHW equals to (3, 320, 320), but now shape is torch.Size([3, 320, 320]), so drop it!\n",
      "Picture path: ./datasets\\imagenette-320\\train\\n03445777\\n03445777_16186.JPEG\n",
      "Current picture is not normalize format, since we need picture's shape whose CHW equals to (3, 320, 320), but now shape is torch.Size([3, 320, 320]), so drop it!\n",
      "Picture path: ./datasets\\imagenette-320\\train\\n03445777\\n03445777_16733.JPEG\n",
      "Current picture is not normalize format, since we need picture's shape whose CHW equals to (3, 320, 320), but now shape is torch.Size([3, 320, 320]), so drop it!\n",
      "Picture path: ./datasets\\imagenette-320\\train\\n03445777\\n03445777_16895.JPEG\n",
      "Current picture is not normalize format, since we need picture's shape whose CHW equals to (3, 320, 320), but now shape is torch.Size([3, 320, 320]), so drop it!\n",
      "Picture path: ./datasets\\imagenette-320\\train\\n03445777\\n03445777_19926.JPEG\n",
      "Current picture is not normalize format, since we need picture's shape whose CHW equals to (3, 320, 320), but now shape is torch.Size([3, 320, 320]), so drop it!\n",
      "Picture path: ./datasets\\imagenette-320\\train\\n03445777\\n03445777_19933.JPEG\n",
      "Current picture is not normalize format, since we need picture's shape whose CHW equals to (3, 320, 320), but now shape is torch.Size([3, 320, 320]), so drop it!\n",
      "Picture path: ./datasets\\imagenette-320\\train\\n03445777\\n03445777_2151.JPEG\n",
      "Current picture is not normalize format, since we need picture's shape whose CHW equals to (3, 320, 320), but now shape is torch.Size([3, 320, 320]), so drop it!\n",
      "Picture path: ./datasets\\imagenette-320\\train\\n03445777\\n03445777_2646.JPEG\n",
      "Current picture is not normalize format, since we need picture's shape whose CHW equals to (3, 320, 320), but now shape is torch.Size([3, 320, 320]), so drop it!\n",
      "Picture path: ./datasets\\imagenette-320\\train\\n03445777\\n03445777_3296.JPEG\n",
      "Current picture is not normalize format, since we need picture's shape whose CHW equals to (3, 320, 320), but now shape is torch.Size([3, 320, 320]), so drop it!\n",
      "Picture path: ./datasets\\imagenette-320\\train\\n03445777\\n03445777_3444.JPEG\n",
      "Current picture is not normalize format, since we need picture's shape whose CHW equals to (3, 320, 320), but now shape is torch.Size([3, 320, 320]), so drop it!\n",
      "Picture path: ./datasets\\imagenette-320\\train\\n03445777\\n03445777_4883.JPEG\n",
      "Current picture is not normalize format, since we need picture's shape whose CHW equals to (3, 320, 320), but now shape is torch.Size([3, 320, 320]), so drop it!\n",
      "Picture path: ./datasets\\imagenette-320\\train\\n03445777\\n03445777_5325.JPEG\n",
      "Current picture is not normalize format, since we need picture's shape whose CHW equals to (3, 320, 320), but now shape is torch.Size([3, 320, 320]), so drop it!\n",
      "Picture path: ./datasets\\imagenette-320\\train\\n03445777\\n03445777_5743.JPEG\n",
      "Current picture is not normalize format, since we need picture's shape whose CHW equals to (3, 320, 320), but now shape is torch.Size([3, 320, 320]), so drop it!\n",
      "Picture path: ./datasets\\imagenette-320\\train\\n03445777\\n03445777_624.JPEG\n",
      "Current picture is not normalize format, since we need picture's shape whose CHW equals to (3, 320, 320), but now shape is torch.Size([3, 320, 320]), so drop it!\n",
      "Picture path: ./datasets\\imagenette-320\\train\\n03445777\\n03445777_715.JPEG\n",
      "Current picture is not normalize format, since we need picture's shape whose CHW equals to (3, 320, 320), but now shape is torch.Size([3, 320, 320]), so drop it!\n",
      "Picture path: ./datasets\\imagenette-320\\train\\n03445777\\n03445777_785.JPEG\n",
      "Current picture is not normalize format, since we need picture's shape whose CHW equals to (3, 320, 320), but now shape is torch.Size([3, 320, 320]), so drop it!\n",
      "Picture path: ./datasets\\imagenette-320\\train\\n03445777\\n03445777_8683.JPEG\n",
      "Current picture is not normalize format, since we need picture's shape whose CHW equals to (3, 320, 320), but now shape is torch.Size([3, 320, 320]), so drop it!\n",
      "Picture path: ./datasets\\imagenette-320\\train\\n03445777\\n03445777_8829.JPEG\n",
      "Current picture is not normalize format, since we need picture's shape whose CHW equals to (3, 320, 320), but now shape is torch.Size([3, 320, 320]), so drop it!\n",
      "Picture path: ./datasets\\imagenette-320\\train\\n03445777\\n03445777_8971.JPEG\n",
      "Current picture is not normalize format, since we need picture's shape whose CHW equals to (3, 320, 320), but now shape is torch.Size([3, 320, 320]), so drop it!\n",
      "Picture path: ./datasets\\imagenette-320\\train\\n03445777\\n03445777_9292.JPEG\n",
      "Current picture is not normalize format, since we need picture's shape whose CHW equals to (3, 320, 320), but now shape is torch.Size([3, 320, 320]), so drop it!\n",
      "Picture path: ./datasets\\imagenette-320\\train\\n03445777\\n03445777_9880.JPEG\n",
      "Current picture is not normalize format, since we need picture's shape whose CHW equals to (3, 320, 320), but now shape is torch.Size([3, 320, 320]), so drop it!\n",
      "Picture path: ./datasets\\imagenette-320\\train\\n03888257\\n03888257_1389.JPEG\n",
      "Current picture is not normalize format, since we need picture's shape whose CHW equals to (3, 320, 320), but now shape is torch.Size([3, 320, 320]), so drop it!\n",
      "Picture path: ./datasets\\imagenette-320\\train\\n03888257\\n03888257_16369.JPEG\n",
      "Current picture is not normalize format, since we need picture's shape whose CHW equals to (3, 320, 320), but now shape is torch.Size([3, 320, 320]), so drop it!\n",
      "Picture path: ./datasets\\imagenette-320\\train\\n03888257\\n03888257_16595.JPEG\n",
      "Current picture is not normalize format, since we need picture's shape whose CHW equals to (3, 320, 320), but now shape is torch.Size([3, 320, 320]), so drop it!\n",
      "Picture path: ./datasets\\imagenette-320\\train\\n03888257\\n03888257_28569.JPEG\n",
      "Current picture is not normalize format, since we need picture's shape whose CHW equals to (3, 320, 320), but now shape is torch.Size([3, 320, 320]), so drop it!\n",
      "Picture path: ./datasets\\imagenette-320\\train\\n03888257\\n03888257_29500.JPEG\n",
      "Current picture is not normalize format, since we need picture's shape whose CHW equals to (3, 320, 320), but now shape is torch.Size([3, 320, 320]), so drop it!\n",
      "Picture path: ./datasets\\imagenette-320\\train\\n03888257\\n03888257_36686.JPEG\n",
      "Current picture is not normalize format, since we need picture's shape whose CHW equals to (3, 320, 320), but now shape is torch.Size([3, 320, 320]), so drop it!\n",
      "Picture path: ./datasets\\imagenette-320\\train\\n03888257\\n03888257_49381.JPEG\n",
      "Current picture is not normalize format, since we need picture's shape whose CHW equals to (3, 320, 320), but now shape is torch.Size([3, 320, 320]), so drop it!\n",
      "Picture path: ./datasets\\imagenette-320\\train\\n03888257\\n03888257_5316.JPEG\n",
      "Current picture is not normalize format, since we need picture's shape whose CHW equals to (3, 320, 320), but now shape is torch.Size([3, 320, 320]), so drop it!\n",
      "Picture path: ./datasets\\imagenette-320\\train\\n03888257\\n03888257_64147.JPEG\n",
      "Current picture is not normalize format, since we need picture's shape whose CHW equals to (3, 320, 320), but now shape is torch.Size([3, 320, 320]), so drop it!\n",
      "Picture path: ./datasets\\imagenette-320\\train\\n03888257\\n03888257_9932.JPEG\n",
      "The size of the train_datasets: 10130\n",
      "Current picture is not normalize format, since we need picture's shape whose CHW equals to (3, 320, 320), but now shape is torch.Size([3, 320, 320]), so drop it!\n",
      "Picture path: ./datasets\\imagenette-320\\val\\n02979186\\ILSVRC2012_val_00006787.JPEG\n",
      "Current picture is not normalize format, since we need picture's shape whose CHW equals to (3, 320, 320), but now shape is torch.Size([3, 320, 320]), so drop it!\n",
      "Picture path: ./datasets\\imagenette-320\\val\\n03028079\\ILSVRC2012_val_00003351.JPEG\n",
      "Current picture is not normalize format, since we need picture's shape whose CHW equals to (3, 320, 320), but now shape is torch.Size([3, 320, 320]), so drop it!\n",
      "Picture path: ./datasets\\imagenette-320\\val\\n03028079\\ILSVRC2012_val_00007400.JPEG\n",
      "Current picture is not normalize format, since we need picture's shape whose CHW equals to (3, 320, 320), but now shape is torch.Size([3, 320, 320]), so drop it!\n",
      "Picture path: ./datasets\\imagenette-320\\val\\n03028079\\ILSVRC2012_val_00049943.JPEG\n",
      "Current picture is not normalize format, since we need picture's shape whose CHW equals to (3, 320, 320), but now shape is torch.Size([3, 320, 320]), so drop it!\n",
      "Picture path: ./datasets\\imagenette-320\\val\\n03394916\\ILSVRC2012_val_00003620.JPEG\n",
      "Current picture is not normalize format, since we need picture's shape whose CHW equals to (3, 320, 320), but now shape is torch.Size([3, 320, 320]), so drop it!\n",
      "Picture path: ./datasets\\imagenette-320\\val\\n03394916\\ILSVRC2012_val_00015542.JPEG\n",
      "Current picture is not normalize format, since we need picture's shape whose CHW equals to (3, 320, 320), but now shape is torch.Size([3, 320, 320]), so drop it!\n",
      "Picture path: ./datasets\\imagenette-320\\val\\n03394916\\ILSVRC2012_val_00025761.JPEG\n",
      "Current picture is not normalize format, since we need picture's shape whose CHW equals to (3, 320, 320), but now shape is torch.Size([3, 320, 320]), so drop it!\n",
      "Picture path: ./datasets\\imagenette-320\\val\\n03394916\\ILSVRC2012_val_00030728.JPEG\n",
      "Current picture is not normalize format, since we need picture's shape whose CHW equals to (3, 320, 320), but now shape is torch.Size([3, 320, 320]), so drop it!\n",
      "Picture path: ./datasets\\imagenette-320\\val\\n03425413\\ILSVRC2012_val_00029203.JPEG\n",
      "Current picture is not normalize format, since we need picture's shape whose CHW equals to (3, 320, 320), but now shape is torch.Size([3, 320, 320]), so drop it!\n",
      "Picture path: ./datasets\\imagenette-320\\val\\n03445777\\ILSVRC2012_val_00007755.JPEG\n",
      "Current picture is not normalize format, since we need picture's shape whose CHW equals to (3, 320, 320), but now shape is torch.Size([3, 320, 320]), so drop it!\n",
      "Picture path: ./datasets\\imagenette-320\\val\\n03445777\\ILSVRC2012_val_00012634.JPEG\n",
      "Current picture is not normalize format, since we need picture's shape whose CHW equals to (3, 320, 320), but now shape is torch.Size([3, 320, 320]), so drop it!\n",
      "Picture path: ./datasets\\imagenette-320\\val\\n03445777\\ILSVRC2012_val_00025591.JPEG\n",
      "Current picture is not normalize format, since we need picture's shape whose CHW equals to (3, 320, 320), but now shape is torch.Size([3, 320, 320]), so drop it!\n",
      "Picture path: ./datasets\\imagenette-320\\val\\n03445777\\ILSVRC2012_val_00035918.JPEG\n",
      "The size of the val_datasets: 487\n"
     ]
    }
   ],
   "source": [
    "# 读取训练数据集\n",
    "train_datasets = Imagenette_320_Dataset(dataset_root_path, 'train', transformer=transformer)\n",
    "print(f\"The size of the train_datasets: {len(train_datasets)}\")\n",
    "val_datasets = Imagenette_320_Dataset(dataset_root_path, 'val', transformer=transformer)\n",
    "print(f\"The size of the val_datasets: {len(val_datasets)}\")"
   ]
  },
  {
   "cell_type": "code",
   "execution_count": 13,
   "metadata": {
    "pycharm": {
     "name": "#%%\n"
    }
   },
   "outputs": [],
   "source": [
    "# 加载数据，以batch_size_setting为一批加载数据并显示，多余的不丢弃，然后这边将数据进行事件记录，以train_dataset_{label}来显示一下即将进行训练的真实数据集\n",
    "dataset_loader = DataLoader(train_datasets, batch_size=batch_size_setting, shuffle=True)\n",
    "if is_record_events:\n",
    "    # 写入到事件记录中，以方便查看数据\n",
    "    writer = SummaryWriter(\"logs\")\n",
    "    # 显示输入的数据集\n",
    "    step = 0\n",
    "    for imgs, labels in dataset_loader:\n",
    "        # 加载部分imgs\n",
    "        if step % 50 == 0:\n",
    "            writer.add_images(f\"train_dataset\", imgs, step)\n",
    "        step += 1\n",
    "    # 记得关闭流\n",
    "    writer.close()"
   ]
  },
  {
   "cell_type": "markdown",
   "metadata": {
    "pycharm": {
     "name": "#%% md\n"
    }
   },
   "source": [
    "# Do some research on the model which have been trained by office."
   ]
  },
  {
   "cell_type": "markdown",
   "metadata": {
    "pycharm": {
     "name": "#%% md\n"
    }
   },
   "source": [
    "Teacher ask me to use model named 'mobilenet_v2'"
   ]
  },
  {
   "cell_type": "code",
   "execution_count": 14,
   "metadata": {
    "pycharm": {
     "name": "#%%\n"
    }
   },
   "outputs": [
    {
     "name": "stdout",
     "output_type": "stream",
     "text": [
      "MobileNetV2's structure is \n",
      "MobileNetV2(\n",
      "  (features): Sequential(\n",
      "    (0): ConvNormActivation(\n",
      "      (0): Conv2d(3, 32, kernel_size=(3, 3), stride=(2, 2), padding=(1, 1), bias=False)\n",
      "      (1): BatchNorm2d(32, eps=1e-05, momentum=0.1, affine=True, track_running_stats=True)\n",
      "      (2): ReLU6(inplace=True)\n",
      "    )\n",
      "    (1): InvertedResidual(\n",
      "      (conv): Sequential(\n",
      "        (0): ConvNormActivation(\n",
      "          (0): Conv2d(32, 32, kernel_size=(3, 3), stride=(1, 1), padding=(1, 1), groups=32, bias=False)\n",
      "          (1): BatchNorm2d(32, eps=1e-05, momentum=0.1, affine=True, track_running_stats=True)\n",
      "          (2): ReLU6(inplace=True)\n",
      "        )\n",
      "        (1): Conv2d(32, 16, kernel_size=(1, 1), stride=(1, 1), bias=False)\n",
      "        (2): BatchNorm2d(16, eps=1e-05, momentum=0.1, affine=True, track_running_stats=True)\n",
      "      )\n",
      "    )\n",
      "    (2): InvertedResidual(\n",
      "      (conv): Sequential(\n",
      "        (0): ConvNormActivation(\n",
      "          (0): Conv2d(16, 96, kernel_size=(1, 1), stride=(1, 1), bias=False)\n",
      "          (1): BatchNorm2d(96, eps=1e-05, momentum=0.1, affine=True, track_running_stats=True)\n",
      "          (2): ReLU6(inplace=True)\n",
      "        )\n",
      "        (1): ConvNormActivation(\n",
      "          (0): Conv2d(96, 96, kernel_size=(3, 3), stride=(2, 2), padding=(1, 1), groups=96, bias=False)\n",
      "          (1): BatchNorm2d(96, eps=1e-05, momentum=0.1, affine=True, track_running_stats=True)\n",
      "          (2): ReLU6(inplace=True)\n",
      "        )\n",
      "        (2): Conv2d(96, 24, kernel_size=(1, 1), stride=(1, 1), bias=False)\n",
      "        (3): BatchNorm2d(24, eps=1e-05, momentum=0.1, affine=True, track_running_stats=True)\n",
      "      )\n",
      "    )\n",
      "    (3): InvertedResidual(\n",
      "      (conv): Sequential(\n",
      "        (0): ConvNormActivation(\n",
      "          (0): Conv2d(24, 144, kernel_size=(1, 1), stride=(1, 1), bias=False)\n",
      "          (1): BatchNorm2d(144, eps=1e-05, momentum=0.1, affine=True, track_running_stats=True)\n",
      "          (2): ReLU6(inplace=True)\n",
      "        )\n",
      "        (1): ConvNormActivation(\n",
      "          (0): Conv2d(144, 144, kernel_size=(3, 3), stride=(1, 1), padding=(1, 1), groups=144, bias=False)\n",
      "          (1): BatchNorm2d(144, eps=1e-05, momentum=0.1, affine=True, track_running_stats=True)\n",
      "          (2): ReLU6(inplace=True)\n",
      "        )\n",
      "        (2): Conv2d(144, 24, kernel_size=(1, 1), stride=(1, 1), bias=False)\n",
      "        (3): BatchNorm2d(24, eps=1e-05, momentum=0.1, affine=True, track_running_stats=True)\n",
      "      )\n",
      "    )\n",
      "    (4): InvertedResidual(\n",
      "      (conv): Sequential(\n",
      "        (0): ConvNormActivation(\n",
      "          (0): Conv2d(24, 144, kernel_size=(1, 1), stride=(1, 1), bias=False)\n",
      "          (1): BatchNorm2d(144, eps=1e-05, momentum=0.1, affine=True, track_running_stats=True)\n",
      "          (2): ReLU6(inplace=True)\n",
      "        )\n",
      "        (1): ConvNormActivation(\n",
      "          (0): Conv2d(144, 144, kernel_size=(3, 3), stride=(2, 2), padding=(1, 1), groups=144, bias=False)\n",
      "          (1): BatchNorm2d(144, eps=1e-05, momentum=0.1, affine=True, track_running_stats=True)\n",
      "          (2): ReLU6(inplace=True)\n",
      "        )\n",
      "        (2): Conv2d(144, 32, kernel_size=(1, 1), stride=(1, 1), bias=False)\n",
      "        (3): BatchNorm2d(32, eps=1e-05, momentum=0.1, affine=True, track_running_stats=True)\n",
      "      )\n",
      "    )\n",
      "    (5): InvertedResidual(\n",
      "      (conv): Sequential(\n",
      "        (0): ConvNormActivation(\n",
      "          (0): Conv2d(32, 192, kernel_size=(1, 1), stride=(1, 1), bias=False)\n",
      "          (1): BatchNorm2d(192, eps=1e-05, momentum=0.1, affine=True, track_running_stats=True)\n",
      "          (2): ReLU6(inplace=True)\n",
      "        )\n",
      "        (1): ConvNormActivation(\n",
      "          (0): Conv2d(192, 192, kernel_size=(3, 3), stride=(1, 1), padding=(1, 1), groups=192, bias=False)\n",
      "          (1): BatchNorm2d(192, eps=1e-05, momentum=0.1, affine=True, track_running_stats=True)\n",
      "          (2): ReLU6(inplace=True)\n",
      "        )\n",
      "        (2): Conv2d(192, 32, kernel_size=(1, 1), stride=(1, 1), bias=False)\n",
      "        (3): BatchNorm2d(32, eps=1e-05, momentum=0.1, affine=True, track_running_stats=True)\n",
      "      )\n",
      "    )\n",
      "    (6): InvertedResidual(\n",
      "      (conv): Sequential(\n",
      "        (0): ConvNormActivation(\n",
      "          (0): Conv2d(32, 192, kernel_size=(1, 1), stride=(1, 1), bias=False)\n",
      "          (1): BatchNorm2d(192, eps=1e-05, momentum=0.1, affine=True, track_running_stats=True)\n",
      "          (2): ReLU6(inplace=True)\n",
      "        )\n",
      "        (1): ConvNormActivation(\n",
      "          (0): Conv2d(192, 192, kernel_size=(3, 3), stride=(1, 1), padding=(1, 1), groups=192, bias=False)\n",
      "          (1): BatchNorm2d(192, eps=1e-05, momentum=0.1, affine=True, track_running_stats=True)\n",
      "          (2): ReLU6(inplace=True)\n",
      "        )\n",
      "        (2): Conv2d(192, 32, kernel_size=(1, 1), stride=(1, 1), bias=False)\n",
      "        (3): BatchNorm2d(32, eps=1e-05, momentum=0.1, affine=True, track_running_stats=True)\n",
      "      )\n",
      "    )\n",
      "    (7): InvertedResidual(\n",
      "      (conv): Sequential(\n",
      "        (0): ConvNormActivation(\n",
      "          (0): Conv2d(32, 192, kernel_size=(1, 1), stride=(1, 1), bias=False)\n",
      "          (1): BatchNorm2d(192, eps=1e-05, momentum=0.1, affine=True, track_running_stats=True)\n",
      "          (2): ReLU6(inplace=True)\n",
      "        )\n",
      "        (1): ConvNormActivation(\n",
      "          (0): Conv2d(192, 192, kernel_size=(3, 3), stride=(2, 2), padding=(1, 1), groups=192, bias=False)\n",
      "          (1): BatchNorm2d(192, eps=1e-05, momentum=0.1, affine=True, track_running_stats=True)\n",
      "          (2): ReLU6(inplace=True)\n",
      "        )\n",
      "        (2): Conv2d(192, 64, kernel_size=(1, 1), stride=(1, 1), bias=False)\n",
      "        (3): BatchNorm2d(64, eps=1e-05, momentum=0.1, affine=True, track_running_stats=True)\n",
      "      )\n",
      "    )\n",
      "    (8): InvertedResidual(\n",
      "      (conv): Sequential(\n",
      "        (0): ConvNormActivation(\n",
      "          (0): Conv2d(64, 384, kernel_size=(1, 1), stride=(1, 1), bias=False)\n",
      "          (1): BatchNorm2d(384, eps=1e-05, momentum=0.1, affine=True, track_running_stats=True)\n",
      "          (2): ReLU6(inplace=True)\n",
      "        )\n",
      "        (1): ConvNormActivation(\n",
      "          (0): Conv2d(384, 384, kernel_size=(3, 3), stride=(1, 1), padding=(1, 1), groups=384, bias=False)\n",
      "          (1): BatchNorm2d(384, eps=1e-05, momentum=0.1, affine=True, track_running_stats=True)\n",
      "          (2): ReLU6(inplace=True)\n",
      "        )\n",
      "        (2): Conv2d(384, 64, kernel_size=(1, 1), stride=(1, 1), bias=False)\n",
      "        (3): BatchNorm2d(64, eps=1e-05, momentum=0.1, affine=True, track_running_stats=True)\n",
      "      )\n",
      "    )\n",
      "    (9): InvertedResidual(\n",
      "      (conv): Sequential(\n",
      "        (0): ConvNormActivation(\n",
      "          (0): Conv2d(64, 384, kernel_size=(1, 1), stride=(1, 1), bias=False)\n",
      "          (1): BatchNorm2d(384, eps=1e-05, momentum=0.1, affine=True, track_running_stats=True)\n",
      "          (2): ReLU6(inplace=True)\n",
      "        )\n",
      "        (1): ConvNormActivation(\n",
      "          (0): Conv2d(384, 384, kernel_size=(3, 3), stride=(1, 1), padding=(1, 1), groups=384, bias=False)\n",
      "          (1): BatchNorm2d(384, eps=1e-05, momentum=0.1, affine=True, track_running_stats=True)\n",
      "          (2): ReLU6(inplace=True)\n",
      "        )\n",
      "        (2): Conv2d(384, 64, kernel_size=(1, 1), stride=(1, 1), bias=False)\n",
      "        (3): BatchNorm2d(64, eps=1e-05, momentum=0.1, affine=True, track_running_stats=True)\n",
      "      )\n",
      "    )\n",
      "    (10): InvertedResidual(\n",
      "      (conv): Sequential(\n",
      "        (0): ConvNormActivation(\n",
      "          (0): Conv2d(64, 384, kernel_size=(1, 1), stride=(1, 1), bias=False)\n",
      "          (1): BatchNorm2d(384, eps=1e-05, momentum=0.1, affine=True, track_running_stats=True)\n",
      "          (2): ReLU6(inplace=True)\n",
      "        )\n",
      "        (1): ConvNormActivation(\n",
      "          (0): Conv2d(384, 384, kernel_size=(3, 3), stride=(1, 1), padding=(1, 1), groups=384, bias=False)\n",
      "          (1): BatchNorm2d(384, eps=1e-05, momentum=0.1, affine=True, track_running_stats=True)\n",
      "          (2): ReLU6(inplace=True)\n",
      "        )\n",
      "        (2): Conv2d(384, 64, kernel_size=(1, 1), stride=(1, 1), bias=False)\n",
      "        (3): BatchNorm2d(64, eps=1e-05, momentum=0.1, affine=True, track_running_stats=True)\n",
      "      )\n",
      "    )\n",
      "    (11): InvertedResidual(\n",
      "      (conv): Sequential(\n",
      "        (0): ConvNormActivation(\n",
      "          (0): Conv2d(64, 384, kernel_size=(1, 1), stride=(1, 1), bias=False)\n",
      "          (1): BatchNorm2d(384, eps=1e-05, momentum=0.1, affine=True, track_running_stats=True)\n",
      "          (2): ReLU6(inplace=True)\n",
      "        )\n",
      "        (1): ConvNormActivation(\n",
      "          (0): Conv2d(384, 384, kernel_size=(3, 3), stride=(1, 1), padding=(1, 1), groups=384, bias=False)\n",
      "          (1): BatchNorm2d(384, eps=1e-05, momentum=0.1, affine=True, track_running_stats=True)\n",
      "          (2): ReLU6(inplace=True)\n",
      "        )\n",
      "        (2): Conv2d(384, 96, kernel_size=(1, 1), stride=(1, 1), bias=False)\n",
      "        (3): BatchNorm2d(96, eps=1e-05, momentum=0.1, affine=True, track_running_stats=True)\n",
      "      )\n",
      "    )\n",
      "    (12): InvertedResidual(\n",
      "      (conv): Sequential(\n",
      "        (0): ConvNormActivation(\n",
      "          (0): Conv2d(96, 576, kernel_size=(1, 1), stride=(1, 1), bias=False)\n",
      "          (1): BatchNorm2d(576, eps=1e-05, momentum=0.1, affine=True, track_running_stats=True)\n",
      "          (2): ReLU6(inplace=True)\n",
      "        )\n",
      "        (1): ConvNormActivation(\n",
      "          (0): Conv2d(576, 576, kernel_size=(3, 3), stride=(1, 1), padding=(1, 1), groups=576, bias=False)\n",
      "          (1): BatchNorm2d(576, eps=1e-05, momentum=0.1, affine=True, track_running_stats=True)\n",
      "          (2): ReLU6(inplace=True)\n",
      "        )\n",
      "        (2): Conv2d(576, 96, kernel_size=(1, 1), stride=(1, 1), bias=False)\n",
      "        (3): BatchNorm2d(96, eps=1e-05, momentum=0.1, affine=True, track_running_stats=True)\n",
      "      )\n",
      "    )\n",
      "    (13): InvertedResidual(\n",
      "      (conv): Sequential(\n",
      "        (0): ConvNormActivation(\n",
      "          (0): Conv2d(96, 576, kernel_size=(1, 1), stride=(1, 1), bias=False)\n",
      "          (1): BatchNorm2d(576, eps=1e-05, momentum=0.1, affine=True, track_running_stats=True)\n",
      "          (2): ReLU6(inplace=True)\n",
      "        )\n",
      "        (1): ConvNormActivation(\n",
      "          (0): Conv2d(576, 576, kernel_size=(3, 3), stride=(1, 1), padding=(1, 1), groups=576, bias=False)\n",
      "          (1): BatchNorm2d(576, eps=1e-05, momentum=0.1, affine=True, track_running_stats=True)\n",
      "          (2): ReLU6(inplace=True)\n",
      "        )\n",
      "        (2): Conv2d(576, 96, kernel_size=(1, 1), stride=(1, 1), bias=False)\n",
      "        (3): BatchNorm2d(96, eps=1e-05, momentum=0.1, affine=True, track_running_stats=True)\n",
      "      )\n",
      "    )\n",
      "    (14): InvertedResidual(\n",
      "      (conv): Sequential(\n",
      "        (0): ConvNormActivation(\n",
      "          (0): Conv2d(96, 576, kernel_size=(1, 1), stride=(1, 1), bias=False)\n",
      "          (1): BatchNorm2d(576, eps=1e-05, momentum=0.1, affine=True, track_running_stats=True)\n",
      "          (2): ReLU6(inplace=True)\n",
      "        )\n",
      "        (1): ConvNormActivation(\n",
      "          (0): Conv2d(576, 576, kernel_size=(3, 3), stride=(2, 2), padding=(1, 1), groups=576, bias=False)\n",
      "          (1): BatchNorm2d(576, eps=1e-05, momentum=0.1, affine=True, track_running_stats=True)\n",
      "          (2): ReLU6(inplace=True)\n",
      "        )\n",
      "        (2): Conv2d(576, 160, kernel_size=(1, 1), stride=(1, 1), bias=False)\n",
      "        (3): BatchNorm2d(160, eps=1e-05, momentum=0.1, affine=True, track_running_stats=True)\n",
      "      )\n",
      "    )\n",
      "    (15): InvertedResidual(\n",
      "      (conv): Sequential(\n",
      "        (0): ConvNormActivation(\n",
      "          (0): Conv2d(160, 960, kernel_size=(1, 1), stride=(1, 1), bias=False)\n",
      "          (1): BatchNorm2d(960, eps=1e-05, momentum=0.1, affine=True, track_running_stats=True)\n",
      "          (2): ReLU6(inplace=True)\n",
      "        )\n",
      "        (1): ConvNormActivation(\n",
      "          (0): Conv2d(960, 960, kernel_size=(3, 3), stride=(1, 1), padding=(1, 1), groups=960, bias=False)\n",
      "          (1): BatchNorm2d(960, eps=1e-05, momentum=0.1, affine=True, track_running_stats=True)\n",
      "          (2): ReLU6(inplace=True)\n",
      "        )\n",
      "        (2): Conv2d(960, 160, kernel_size=(1, 1), stride=(1, 1), bias=False)\n",
      "        (3): BatchNorm2d(160, eps=1e-05, momentum=0.1, affine=True, track_running_stats=True)\n",
      "      )\n",
      "    )\n",
      "    (16): InvertedResidual(\n",
      "      (conv): Sequential(\n",
      "        (0): ConvNormActivation(\n",
      "          (0): Conv2d(160, 960, kernel_size=(1, 1), stride=(1, 1), bias=False)\n",
      "          (1): BatchNorm2d(960, eps=1e-05, momentum=0.1, affine=True, track_running_stats=True)\n",
      "          (2): ReLU6(inplace=True)\n",
      "        )\n",
      "        (1): ConvNormActivation(\n",
      "          (0): Conv2d(960, 960, kernel_size=(3, 3), stride=(1, 1), padding=(1, 1), groups=960, bias=False)\n",
      "          (1): BatchNorm2d(960, eps=1e-05, momentum=0.1, affine=True, track_running_stats=True)\n",
      "          (2): ReLU6(inplace=True)\n",
      "        )\n",
      "        (2): Conv2d(960, 160, kernel_size=(1, 1), stride=(1, 1), bias=False)\n",
      "        (3): BatchNorm2d(160, eps=1e-05, momentum=0.1, affine=True, track_running_stats=True)\n",
      "      )\n",
      "    )\n",
      "    (17): InvertedResidual(\n",
      "      (conv): Sequential(\n",
      "        (0): ConvNormActivation(\n",
      "          (0): Conv2d(160, 960, kernel_size=(1, 1), stride=(1, 1), bias=False)\n",
      "          (1): BatchNorm2d(960, eps=1e-05, momentum=0.1, affine=True, track_running_stats=True)\n",
      "          (2): ReLU6(inplace=True)\n",
      "        )\n",
      "        (1): ConvNormActivation(\n",
      "          (0): Conv2d(960, 960, kernel_size=(3, 3), stride=(1, 1), padding=(1, 1), groups=960, bias=False)\n",
      "          (1): BatchNorm2d(960, eps=1e-05, momentum=0.1, affine=True, track_running_stats=True)\n",
      "          (2): ReLU6(inplace=True)\n",
      "        )\n",
      "        (2): Conv2d(960, 320, kernel_size=(1, 1), stride=(1, 1), bias=False)\n",
      "        (3): BatchNorm2d(320, eps=1e-05, momentum=0.1, affine=True, track_running_stats=True)\n",
      "      )\n",
      "    )\n",
      "    (18): ConvNormActivation(\n",
      "      (0): Conv2d(320, 1280, kernel_size=(1, 1), stride=(1, 1), bias=False)\n",
      "      (1): BatchNorm2d(1280, eps=1e-05, momentum=0.1, affine=True, track_running_stats=True)\n",
      "      (2): ReLU6(inplace=True)\n",
      "    )\n",
      "  )\n",
      "  (classifier): Sequential(\n",
      "    (0): Dropout(p=0.2, inplace=False)\n",
      "    (1): Linear(in_features=1280, out_features=1000, bias=True)\n",
      "  )\n",
      ")\n"
     ]
    }
   ],
   "source": [
    "# 加载神经网络模型（已训练）\n",
    "mobilenet_v2_trained = models.mobilenet_v2(pretrained=True)\n",
    "print(f\"MobileNetV2's structure is \\n{mobilenet_v2_trained}\")"
   ]
  },
  {
   "cell_type": "code",
   "execution_count": 15,
   "metadata": {
    "pycharm": {
     "name": "#%%\n"
    }
   },
   "outputs": [],
   "source": [
    "# 利用tensorboard去查看神经网络结构\n",
    "if is_record_events:\n",
    "    # 构建输入，我们知道MobileNetV2的神经网络需要输入为[N,C,H,W]\n",
    "    input_tensor = torch.tensor(np.random.random((32, 3, 3, 3)) * 255, dtype=torch.float32)\n",
    "    # 写入网络到日志记录\n",
    "    writer = SummaryWriter(\"logs\")\n",
    "    writer.add_graph(mobilenet_v2_trained, input_to_model=input_tensor)\n",
    "    writer.close()\n",
    "# 发现了很多InvertedResidual，尝试去理解这个东西是什么\n",
    "# 我们可以知道InvertedResidual其实就是由一堆小的神经网络组成的，由ConvNormActivation（这个也是MobileNetV2自己构建的神经网络，其中经过了Conv2d，BatchNorm2d，ReLU6这些pytorch中定义的神经网络的基本结构），Conv2d还有BatchNormal2d组成\n",
    "# Conv2d 层 相关解释 https://github.com/vdumoulin/conv_arithmetic/blob/master/README.md 这一层是为了数据膨胀，更好的提取数据信息，升维，默认6倍\n",
    "# BatchNorm2d 层 相关解释 https://arxiv.org/abs/1502.03167 这一层是为了加速运算，解决由于学习率较低时，效率过低的问题，加速运算\n",
    "# ReLU6 层 这一层线性整流激活函数 同样用于简化运算，加快反向传播以及梯度下降的效率，降维，保证输入输出一致\n",
    "# 整个MobileNetV2 是根据 这篇论文所实现的 https://arxiv.org/abs/1801.04381 主要思想就是将在数据训练时，将数据输入即输出进行压缩，数据中间计算进行膨胀，从而达到一个运算效率和预测质量的平衡"
   ]
  },
  {
   "cell_type": "markdown",
   "source": [
    "We can use below command to watch the model and train datasets which have been saved just know\n",
    "```xshell\n",
    "tensorboard --logdir='logs'\n",
    "```"
   ],
   "metadata": {
    "collapsed": false
   }
  },
  {
   "cell_type": "markdown",
   "source": [
    "## Conv2d relation algorithm\n",
    "$\\operatorname{out}\\left(N_{i}, C_{\\text {out }_{j}}\\right)=\\operatorname{bias}\\left(C_{\\text {out }_{j}}\\right)+\\sum_{k=0}^{C_{\\text {in }-1}} \\operatorname{weight}\\left(C_{\\text {out }_{j}}, k\\right) \\star \\operatorname{input}\\left(N_{i}, k\\right)$\n",
    "\n",
    "## BatchNorm2d relation algorithm\n",
    "$y=\\frac{x-\\mathrm{E}[x]}{\\sqrt{\\operatorname{Var}[x]+\\epsilon}} * \\gamma+\\beta$\n",
    "\n",
    "## ReLU6 relation algorithm\n",
    "$\\operatorname{ReLU} 6(x)=\\min (\\max (0, x), 6)$"
   ],
   "metadata": {
    "collapsed": false
   }
  },
  {
   "cell_type": "markdown",
   "metadata": {
    "pycharm": {
     "name": "#%% md\n"
    }
   },
   "source": [
    "# train model"
   ]
  },
  {
   "cell_type": "code",
   "execution_count": 21,
   "metadata": {
    "pycharm": {
     "name": "#%%\n"
    }
   },
   "outputs": [
    {
     "name": "stdout",
     "output_type": "stream",
     "text": [
      "Current device is cuda:0\n"
     ]
    }
   ],
   "source": [
    "# 设置当前设备类型\n",
    "device = torch.device('cuda:0') if torch.cuda.is_available() else torch.device('cpu')\n",
    "print(f\"Current device is {device}\")\n",
    "# 加载神经网络模型（未训练）, num_classes 为分类数，这样我就不用手动修改最后的线性层了，width_mult这个参数是膨胀的倍数，每一层的通道数\n",
    "mobilenet_v2 = models.mobilenet_v2(pretrained=False, num_classes=10).to(device)"
   ]
  },
  {
   "cell_type": "code",
   "execution_count": 22,
   "outputs": [],
   "source": [
    "def train(model, optimizer, scheduler, loss_func, dataset_loader):\n",
    "    running_loss = 0.0\n",
    "    running_corrects = 0\n",
    "    # 设置训练模式\n",
    "    model.train()\n",
    "    for imgs, labels in tqdm(dataset_loader):\n",
    "        imgs = imgs.to(device)\n",
    "        labels = labels.to(device)\n",
    "        # 将当前梯度设置为0防止对后续轮次的数据产生影响\n",
    "        optimizer.zero_grad()\n",
    "        outputs = model(imgs)\n",
    "        # 提取最高得分所在位置\n",
    "        _, preds = torch.max(outputs, 1)\n",
    "        loss = loss_func(outputs, labels)\n",
    "        # 反向传播，为调整参数做准备\n",
    "        loss.backward()\n",
    "        # 参数调优\n",
    "        optimizer.step()\n",
    "        # 计算当前损失\n",
    "        running_loss += loss.item() * imgs.size(0)\n",
    "        # 计算当前精确个数\n",
    "        running_corrects += torch.sum(preds == labels.data)\n",
    "\n",
    "    # 学习率调整\n",
    "    scheduler.step()\n",
    "\n",
    "    data_size = len(dataset_loader.dataset)\n",
    "    acc = running_corrects.double() / data_size\n",
    "    loss = running_loss / data_size\n",
    "    print(\n",
    "        f\"===== Current train loss: {loss}, acc: {acc * 100}% =====\")\n",
    "    return loss, acc\n",
    "\n",
    "\n",
    "def val(model: nn.Module, loss_func, dataset_loader):\n",
    "    running_loss = 0.0\n",
    "    running_corrects = 0\n",
    "    # 非训练模式，防止某些参数产生影响\n",
    "    model.eval()\n",
    "    # 验证集无需进行模型调优,防止梯度影响\n",
    "    with torch.set_grad_enabled(False):\n",
    "        for imgs, labels in tqdm(dataset_loader):\n",
    "            imgs = imgs.to(device)\n",
    "            labels = labels.to(device)\n",
    "            outputs = model(imgs)\n",
    "            # 提取最高位位置\n",
    "            _, preds = torch.max(outputs, 1)\n",
    "            loss = loss_func(outputs, labels)\n",
    "            # 计算当前损失\n",
    "            running_loss += loss.item() * imgs.size(0)\n",
    "            # 计算当前精确个数\n",
    "            running_corrects += torch.sum(preds == labels.data)\n",
    "\n",
    "        data_size = len(dataset_loader.dataset)\n",
    "        acc = running_corrects.double() / data_size\n",
    "        loss = running_loss / data_size\n",
    "        print(\n",
    "            f\"===== Current val loss: {loss}, acc: {acc * 100}% =====\")\n",
    "        return loss, acc\n",
    "\n",
    "\n",
    "# 定义训练方法\n",
    "def train_model(model: nn.Module, optimizer, scheduler, loss_func, max_epoch, train_dataset_loader, val_dataset_loader):\n",
    "    print(\"===== Start training model =====\")\n",
    "    last_acc = 0.0\n",
    "    writer = SummaryWriter(\"logs\")\n",
    "    for i in range(max_epoch):\n",
    "        # 记录时间\n",
    "        enter_time = time.time()\n",
    "        train_loss, train_acc = train(model, optimizer, scheduler, loss_func, train_dataset_loader)\n",
    "        val_loss, val_acc = val(model, loss_func, val_dataset_loader)\n",
    "        if val_acc > last_acc:\n",
    "            last_acc = val_acc\n",
    "            torch.save(model.state_dict(), f'imagenette_state_{i + 1}')\n",
    "            torch.save(model.state_dict(), f'imagenette_best_state')\n",
    "\n",
    "        writer.add_scalar(\"train_loss_function\", train_loss, i)\n",
    "        writer.add_scalar(\"train_criterion\", train_acc, i)\n",
    "        writer.add_scalar(\"val_loss_function\", val_loss, i)\n",
    "        writer.add_scalar(\"val_criterion\", val_acc, i)\n",
    "        outer_time = time.time()\n",
    "        print(\n",
    "            f\"===== Current epoch: {i + 1}, spend time: {(outer_time - enter_time)} s, learning rate: {scheduler.get_last_lr()[0]} =====\")\n",
    "        print(\n",
    "            f\"------------------------------------------------------------------------------------------------------------------------\")\n",
    "    writer.close()"
   ],
   "metadata": {
    "collapsed": false,
    "pycharm": {
     "name": "#%%\n"
    }
   }
  },
  {
   "cell_type": "code",
   "execution_count": 25,
   "outputs": [
    {
     "name": "stdout",
     "output_type": "stream",
     "text": [
      "===== Start training model =====\n"
     ]
    },
    {
     "name": "stderr",
     "output_type": "stream",
     "text": [
      "100%|██████████| 634/634 [01:02<00:00, 10.21it/s]\n"
     ]
    },
    {
     "name": "stdout",
     "output_type": "stream",
     "text": [
      "===== Current train loss: 1.9588986149191974, acc: 28.084896347482726% =====\n"
     ]
    },
    {
     "name": "stderr",
     "output_type": "stream",
     "text": [
      "100%|██████████| 634/634 [00:25<00:00, 24.40it/s]\n"
     ]
    },
    {
     "name": "stdout",
     "output_type": "stream",
     "text": [
      "===== Current val loss: 1.672773598918557, acc: 39.624876604146095% =====\n",
      "===== Current epoch: 1, spend time: 88.6360924243927 s, learning rate: 0.001 =====\n",
      "------------------------------------------------------------------------------------------------------------------------\n"
     ]
    },
    {
     "name": "stderr",
     "output_type": "stream",
     "text": [
      "100%|██████████| 634/634 [01:01<00:00, 10.34it/s]\n"
     ]
    },
    {
     "name": "stdout",
     "output_type": "stream",
     "text": [
      "===== Current train loss: 1.62578667238693, acc: 41.71767028627838% =====\n"
     ]
    },
    {
     "name": "stderr",
     "output_type": "stream",
     "text": [
      "100%|██████████| 634/634 [00:25<00:00, 25.06it/s]\n"
     ]
    },
    {
     "name": "stdout",
     "output_type": "stream",
     "text": [
      "===== Current val loss: 1.4195105241528856, acc: 49.47680157946693% =====\n",
      "===== Current epoch: 2, spend time: 87.16330909729004 s, learning rate: 0.001 =====\n",
      "------------------------------------------------------------------------------------------------------------------------\n"
     ]
    },
    {
     "name": "stderr",
     "output_type": "stream",
     "text": [
      "100%|██████████| 634/634 [01:07<00:00,  9.42it/s]\n"
     ]
    },
    {
     "name": "stdout",
     "output_type": "stream",
     "text": [
      "===== Current train loss: 1.4590064794854845, acc: 49.39782823297137% =====\n"
     ]
    },
    {
     "name": "stderr",
     "output_type": "stream",
     "text": [
      "100%|██████████| 634/634 [00:26<00:00, 24.37it/s]\n"
     ]
    },
    {
     "name": "stdout",
     "output_type": "stream",
     "text": [
      "===== Current val loss: 1.2400099409768046, acc: 58.055281342546884% =====\n",
      "===== Current epoch: 3, spend time: 93.80710792541504 s, learning rate: 0.001 =====\n",
      "------------------------------------------------------------------------------------------------------------------------\n"
     ]
    },
    {
     "name": "stderr",
     "output_type": "stream",
     "text": [
      "100%|██████████| 634/634 [01:04<00:00,  9.87it/s]\n"
     ]
    },
    {
     "name": "stdout",
     "output_type": "stream",
     "text": [
      "===== Current train loss: 1.3172025365161049, acc: 55.18262586377097% =====\n"
     ]
    },
    {
     "name": "stderr",
     "output_type": "stream",
     "text": [
      "100%|██████████| 634/634 [00:28<00:00, 22.41it/s]\n"
     ]
    },
    {
     "name": "stdout",
     "output_type": "stream",
     "text": [
      "===== Current val loss: 1.0982575985662795, acc: 63.32675222112537% =====\n",
      "===== Current epoch: 4, spend time: 92.93751764297485 s, learning rate: 0.001 =====\n",
      "------------------------------------------------------------------------------------------------------------------------\n"
     ]
    },
    {
     "name": "stderr",
     "output_type": "stream",
     "text": [
      "100%|██████████| 634/634 [01:00<00:00, 10.55it/s]\n"
     ]
    },
    {
     "name": "stdout",
     "output_type": "stream",
     "text": [
      "===== Current train loss: 1.1820070723790643, acc: 60.306021717670276% =====\n"
     ]
    },
    {
     "name": "stderr",
     "output_type": "stream",
     "text": [
      "100%|██████████| 634/634 [00:25<00:00, 24.49it/s]\n"
     ]
    },
    {
     "name": "stdout",
     "output_type": "stream",
     "text": [
      "===== Current val loss: 1.0133141550707088, acc: 66.50542941757156% =====\n",
      "===== Current epoch: 5, spend time: 86.37091112136841 s, learning rate: 0.001 =====\n",
      "------------------------------------------------------------------------------------------------------------------------\n"
     ]
    },
    {
     "name": "stderr",
     "output_type": "stream",
     "text": [
      "100%|██████████| 634/634 [00:59<00:00, 10.72it/s]\n"
     ]
    },
    {
     "name": "stdout",
     "output_type": "stream",
     "text": [
      "===== Current train loss: 1.0545766459518688, acc: 64.99506416584401% =====\n"
     ]
    },
    {
     "name": "stderr",
     "output_type": "stream",
     "text": [
      "100%|██████████| 634/634 [00:21<00:00, 29.50it/s]\n"
     ]
    },
    {
     "name": "stdout",
     "output_type": "stream",
     "text": [
      "===== Current val loss: 0.827032231396066, acc: 72.70483711747285% =====\n",
      "===== Current epoch: 6, spend time: 81.18083167076111 s, learning rate: 0.001 =====\n",
      "------------------------------------------------------------------------------------------------------------------------\n"
     ]
    },
    {
     "name": "stderr",
     "output_type": "stream",
     "text": [
      "100%|██████████| 634/634 [00:58<00:00, 10.81it/s]\n"
     ]
    },
    {
     "name": "stdout",
     "output_type": "stream",
     "text": [
      "===== Current train loss: 0.947058877540129, acc: 68.89437314906218% =====\n"
     ]
    },
    {
     "name": "stderr",
     "output_type": "stream",
     "text": [
      "100%|██████████| 634/634 [00:23<00:00, 26.46it/s]\n"
     ]
    },
    {
     "name": "stdout",
     "output_type": "stream",
     "text": [
      "===== Current val loss: 0.7927348713531193, acc: 73.8203356367226% =====\n",
      "===== Current epoch: 7, spend time: 83.15168738365173 s, learning rate: 0.001 =====\n",
      "------------------------------------------------------------------------------------------------------------------------\n"
     ]
    },
    {
     "name": "stderr",
     "output_type": "stream",
     "text": [
      "100%|██████████| 634/634 [01:03<00:00, 10.02it/s]\n"
     ]
    },
    {
     "name": "stdout",
     "output_type": "stream",
     "text": [
      "===== Current train loss: 0.8687027187008495, acc: 71.35241855873642% =====\n"
     ]
    },
    {
     "name": "stderr",
     "output_type": "stream",
     "text": [
      "100%|██████████| 634/634 [00:27<00:00, 22.72it/s]\n"
     ]
    },
    {
     "name": "stdout",
     "output_type": "stream",
     "text": [
      "===== Current val loss: 0.7096978931306234, acc: 76.69299111549851% =====\n",
      "===== Current epoch: 8, spend time: 92.24216914176941 s, learning rate: 0.001 =====\n",
      "------------------------------------------------------------------------------------------------------------------------\n"
     ]
    },
    {
     "name": "stderr",
     "output_type": "stream",
     "text": [
      "100%|██████████| 634/634 [01:04<00:00,  9.86it/s]\n"
     ]
    },
    {
     "name": "stdout",
     "output_type": "stream",
     "text": [
      "===== Current train loss: 0.8120637033204571, acc: 73.74136229022704% =====\n"
     ]
    },
    {
     "name": "stderr",
     "output_type": "stream",
     "text": [
      "100%|██████████| 634/634 [00:24<00:00, 25.43it/s]\n"
     ]
    },
    {
     "name": "stdout",
     "output_type": "stream",
     "text": [
      "===== Current val loss: 0.6685309440677164, acc: 78.52912142152023% =====\n",
      "===== Current epoch: 9, spend time: 89.66496443748474 s, learning rate: 0.001 =====\n",
      "------------------------------------------------------------------------------------------------------------------------\n"
     ]
    },
    {
     "name": "stderr",
     "output_type": "stream",
     "text": [
      "100%|██████████| 634/634 [01:02<00:00, 10.14it/s]\n"
     ]
    },
    {
     "name": "stdout",
     "output_type": "stream",
     "text": [
      "===== Current train loss: 0.7451722277352275, acc: 76.11056268509377% =====\n"
     ]
    },
    {
     "name": "stderr",
     "output_type": "stream",
     "text": [
      "100%|██████████| 634/634 [00:24<00:00, 26.38it/s]\n"
     ]
    },
    {
     "name": "stdout",
     "output_type": "stream",
     "text": [
      "===== Current val loss: 0.6100116822232381, acc: 80.35538005923001% =====\n",
      "===== Current epoch: 10, spend time: 87.11222267150879 s, learning rate: 0.0001 =====\n",
      "------------------------------------------------------------------------------------------------------------------------\n"
     ]
    },
    {
     "name": "stderr",
     "output_type": "stream",
     "text": [
      "100%|██████████| 634/634 [01:03<00:00,  9.96it/s]\n"
     ]
    },
    {
     "name": "stdout",
     "output_type": "stream",
     "text": [
      "===== Current train loss: 0.5810827044896995, acc: 81.15498519249753% =====\n"
     ]
    },
    {
     "name": "stderr",
     "output_type": "stream",
     "text": [
      "100%|██████████| 634/634 [00:21<00:00, 28.85it/s]\n"
     ]
    },
    {
     "name": "stdout",
     "output_type": "stream",
     "text": [
      "===== Current val loss: 0.4010646022672361, acc: 87.44323790720631% =====\n",
      "===== Current epoch: 11, spend time: 87.16419744491577 s, learning rate: 0.0001 =====\n",
      "------------------------------------------------------------------------------------------------------------------------\n"
     ]
    },
    {
     "name": "stderr",
     "output_type": "stream",
     "text": [
      "100%|██████████| 634/634 [01:02<00:00, 10.16it/s]\n"
     ]
    },
    {
     "name": "stdout",
     "output_type": "stream",
     "text": [
      "===== Current train loss: 0.5204854458482221, acc: 83.38598223099703% =====\n"
     ]
    },
    {
     "name": "stderr",
     "output_type": "stream",
     "text": [
      "100%|██████████| 634/634 [00:23<00:00, 27.37it/s]\n"
     ]
    },
    {
     "name": "stdout",
     "output_type": "stream",
     "text": [
      "===== Current val loss: 0.3442568102687862, acc: 89.29911154985192% =====\n",
      "===== Current epoch: 12, spend time: 86.12600755691528 s, learning rate: 0.0001 =====\n",
      "------------------------------------------------------------------------------------------------------------------------\n"
     ]
    },
    {
     "name": "stderr",
     "output_type": "stream",
     "text": [
      "100%|██████████| 634/634 [01:00<00:00, 10.41it/s]\n"
     ]
    },
    {
     "name": "stdout",
     "output_type": "stream",
     "text": [
      "===== Current train loss: 0.47724031574163595, acc: 84.53109575518262% =====\n"
     ]
    },
    {
     "name": "stderr",
     "output_type": "stream",
     "text": [
      "100%|██████████| 634/634 [00:24<00:00, 25.68it/s]\n"
     ]
    },
    {
     "name": "stdout",
     "output_type": "stream",
     "text": [
      "===== Current val loss: 0.3134106751928531, acc: 90.39486673247778% =====\n",
      "===== Current epoch: 13, spend time: 86.13600516319275 s, learning rate: 0.0001 =====\n",
      "------------------------------------------------------------------------------------------------------------------------\n"
     ]
    },
    {
     "name": "stderr",
     "output_type": "stream",
     "text": [
      "100%|██████████| 634/634 [01:00<00:00, 10.51it/s]\n"
     ]
    },
    {
     "name": "stdout",
     "output_type": "stream",
     "text": [
      "===== Current train loss: 0.44953910967322236, acc: 85.11352418558737% =====\n"
     ]
    },
    {
     "name": "stderr",
     "output_type": "stream",
     "text": [
      "100%|██████████| 634/634 [00:23<00:00, 27.33it/s]\n"
     ]
    },
    {
     "name": "stdout",
     "output_type": "stream",
     "text": [
      "===== Current val loss: 0.2991258961210158, acc: 90.51332675222112% =====\n",
      "===== Current epoch: 14, spend time: 84.08111834526062 s, learning rate: 0.0001 =====\n",
      "------------------------------------------------------------------------------------------------------------------------\n"
     ]
    },
    {
     "name": "stderr",
     "output_type": "stream",
     "text": [
      "100%|██████████| 634/634 [01:01<00:00, 10.35it/s]\n"
     ]
    },
    {
     "name": "stdout",
     "output_type": "stream",
     "text": [
      "===== Current train loss: 0.4322926607324952, acc: 85.92300098716683% =====\n"
     ]
    },
    {
     "name": "stderr",
     "output_type": "stream",
     "text": [
      "100%|██████████| 634/634 [00:23<00:00, 27.27it/s]\n"
     ]
    },
    {
     "name": "stdout",
     "output_type": "stream",
     "text": [
      "===== Current val loss: 0.2671630528552305, acc: 91.77690029615005% =====\n",
      "===== Current epoch: 15, spend time: 85.05671501159668 s, learning rate: 0.0001 =====\n",
      "------------------------------------------------------------------------------------------------------------------------\n"
     ]
    },
    {
     "name": "stderr",
     "output_type": "stream",
     "text": [
      "100%|██████████| 634/634 [00:59<00:00, 10.67it/s]\n"
     ]
    },
    {
     "name": "stdout",
     "output_type": "stream",
     "text": [
      "===== Current train loss: 0.4068697699613185, acc: 87.02862783810463% =====\n"
     ]
    },
    {
     "name": "stderr",
     "output_type": "stream",
     "text": [
      "100%|██████████| 634/634 [00:22<00:00, 27.67it/s]\n"
     ]
    },
    {
     "name": "stdout",
     "output_type": "stream",
     "text": [
      "===== Current val loss: 0.24865254691865402, acc: 92.92201382033562% =====\n",
      "===== Current epoch: 16, spend time: 82.86701393127441 s, learning rate: 0.0001 =====\n",
      "------------------------------------------------------------------------------------------------------------------------\n"
     ]
    },
    {
     "name": "stderr",
     "output_type": "stream",
     "text": [
      "100%|██████████| 634/634 [01:00<00:00, 10.45it/s]\n"
     ]
    },
    {
     "name": "stdout",
     "output_type": "stream",
     "text": [
      "===== Current train loss: 0.3861243410677689, acc: 87.56169792694965% =====\n"
     ]
    },
    {
     "name": "stderr",
     "output_type": "stream",
     "text": [
      "100%|██████████| 634/634 [00:25<00:00, 24.94it/s]\n"
     ]
    },
    {
     "name": "stdout",
     "output_type": "stream",
     "text": [
      "===== Current val loss: 0.21617357242629043, acc: 93.6426456071076% =====\n",
      "===== Current epoch: 17, spend time: 86.77704906463623 s, learning rate: 0.0001 =====\n",
      "------------------------------------------------------------------------------------------------------------------------\n"
     ]
    },
    {
     "name": "stderr",
     "output_type": "stream",
     "text": [
      "100%|██████████| 634/634 [00:59<00:00, 10.62it/s]\n"
     ]
    },
    {
     "name": "stdout",
     "output_type": "stream",
     "text": [
      "===== Current train loss: 0.3661684825825197, acc: 88.18361303060217% =====\n"
     ]
    },
    {
     "name": "stderr",
     "output_type": "stream",
     "text": [
      "100%|██████████| 634/634 [00:22<00:00, 28.34it/s]\n"
     ]
    },
    {
     "name": "stdout",
     "output_type": "stream",
     "text": [
      "===== Current val loss: 0.20670869226912442, acc: 94.34353405725567% =====\n",
      "===== Current epoch: 18, spend time: 82.56410241127014 s, learning rate: 0.0001 =====\n",
      "------------------------------------------------------------------------------------------------------------------------\n"
     ]
    },
    {
     "name": "stderr",
     "output_type": "stream",
     "text": [
      "100%|██████████| 634/634 [01:01<00:00, 10.28it/s]\n"
     ]
    },
    {
     "name": "stdout",
     "output_type": "stream",
     "text": [
      "===== Current train loss: 0.3506308201211344, acc: 88.46001974333662% =====\n"
     ]
    },
    {
     "name": "stderr",
     "output_type": "stream",
     "text": [
      "100%|██████████| 634/634 [00:23<00:00, 26.94it/s]\n"
     ]
    },
    {
     "name": "stdout",
     "output_type": "stream",
     "text": [
      "===== Current val loss: 0.18945238909813752, acc: 94.7680157946693% =====\n",
      "===== Current epoch: 19, spend time: 85.8926260471344 s, learning rate: 0.0001 =====\n",
      "------------------------------------------------------------------------------------------------------------------------\n"
     ]
    },
    {
     "name": "stderr",
     "output_type": "stream",
     "text": [
      "100%|██████████| 634/634 [01:00<00:00, 10.43it/s]\n"
     ]
    },
    {
     "name": "stdout",
     "output_type": "stream",
     "text": [
      "===== Current train loss: 0.3310187431190233, acc: 89.11154985192496% =====\n"
     ]
    },
    {
     "name": "stderr",
     "output_type": "stream",
     "text": [
      "100%|██████████| 634/634 [00:22<00:00, 27.81it/s]\n"
     ]
    },
    {
     "name": "stdout",
     "output_type": "stream",
     "text": [
      "===== Current val loss: 0.17651830363838483, acc: 95.17275419545904% =====\n",
      "===== Current epoch: 20, spend time: 84.14653897285461 s, learning rate: 1e-05 =====\n",
      "------------------------------------------------------------------------------------------------------------------------\n"
     ]
    },
    {
     "name": "stderr",
     "output_type": "stream",
     "text": [
      "100%|██████████| 634/634 [00:59<00:00, 10.65it/s]\n"
     ]
    },
    {
     "name": "stdout",
     "output_type": "stream",
     "text": [
      "===== Current train loss: 0.29263616370189816, acc: 90.89832181638697% =====\n"
     ]
    },
    {
     "name": "stderr",
     "output_type": "stream",
     "text": [
      "100%|██████████| 634/634 [00:24<00:00, 25.56it/s]\n"
     ]
    },
    {
     "name": "stdout",
     "output_type": "stream",
     "text": [
      "===== Current val loss: 0.1585980766673498, acc: 95.84402764067127% =====\n",
      "===== Current epoch: 21, spend time: 84.81921982765198 s, learning rate: 1e-05 =====\n",
      "------------------------------------------------------------------------------------------------------------------------\n"
     ]
    },
    {
     "name": "stderr",
     "output_type": "stream",
     "text": [
      "100%|██████████| 634/634 [01:01<00:00, 10.30it/s]\n"
     ]
    },
    {
     "name": "stdout",
     "output_type": "stream",
     "text": [
      "===== Current train loss: 0.28835535158291975, acc: 90.9279368213228% =====\n"
     ]
    },
    {
     "name": "stderr",
     "output_type": "stream",
     "text": [
      "100%|██████████| 634/634 [00:22<00:00, 27.77it/s]\n"
     ]
    },
    {
     "name": "stdout",
     "output_type": "stream",
     "text": [
      "===== Current val loss: 0.15123323050915077, acc: 95.97235932872655% =====\n",
      "===== Current epoch: 22, spend time: 84.98491334915161 s, learning rate: 1e-05 =====\n",
      "------------------------------------------------------------------------------------------------------------------------\n"
     ]
    },
    {
     "name": "stderr",
     "output_type": "stream",
     "text": [
      "100%|██████████| 634/634 [00:59<00:00, 10.71it/s]\n"
     ]
    },
    {
     "name": "stdout",
     "output_type": "stream",
     "text": [
      "===== Current train loss: 0.2835820282141054, acc: 91.14511352418559% =====\n"
     ]
    },
    {
     "name": "stderr",
     "output_type": "stream",
     "text": [
      "100%|██████████| 634/634 [00:22<00:00, 28.15it/s]\n"
     ]
    },
    {
     "name": "stdout",
     "output_type": "stream",
     "text": [
      "===== Current val loss: 0.15855993803881058, acc: 95.76505429417571% =====\n",
      "===== Current epoch: 23, spend time: 82.39802145957947 s, learning rate: 1e-05 =====\n",
      "------------------------------------------------------------------------------------------------------------------------\n"
     ]
    },
    {
     "name": "stderr",
     "output_type": "stream",
     "text": [
      "100%|██████████| 634/634 [01:02<00:00, 10.15it/s]\n"
     ]
    },
    {
     "name": "stdout",
     "output_type": "stream",
     "text": [
      "===== Current train loss: 0.2872894860855566, acc: 90.84896347482724% =====\n"
     ]
    },
    {
     "name": "stderr",
     "output_type": "stream",
     "text": [
      "100%|██████████| 634/634 [00:25<00:00, 25.16it/s]\n"
     ]
    },
    {
     "name": "stdout",
     "output_type": "stream",
     "text": [
      "===== Current val loss: 0.15325240463019338, acc: 96.10069101678182% =====\n",
      "===== Current epoch: 24, spend time: 88.22390627861023 s, learning rate: 1e-05 =====\n",
      "------------------------------------------------------------------------------------------------------------------------\n"
     ]
    },
    {
     "name": "stderr",
     "output_type": "stream",
     "text": [
      "100%|██████████| 634/634 [00:59<00:00, 10.57it/s]\n"
     ]
    },
    {
     "name": "stdout",
     "output_type": "stream",
     "text": [
      "===== Current train loss: 0.2867592665308908, acc: 90.88845014807502% =====\n"
     ]
    },
    {
     "name": "stderr",
     "output_type": "stream",
     "text": [
      "100%|██████████| 634/634 [00:22<00:00, 28.23it/s]\n"
     ]
    },
    {
     "name": "stdout",
     "output_type": "stream",
     "text": [
      "===== Current val loss: 0.1530963074069894, acc: 95.93287265547877% =====\n",
      "===== Current epoch: 25, spend time: 82.69206285476685 s, learning rate: 1e-05 =====\n",
      "------------------------------------------------------------------------------------------------------------------------\n"
     ]
    },
    {
     "name": "stderr",
     "output_type": "stream",
     "text": [
      "100%|██████████| 634/634 [00:59<00:00, 10.61it/s]\n"
     ]
    },
    {
     "name": "stdout",
     "output_type": "stream",
     "text": [
      "===== Current train loss: 0.2769557800721322, acc: 91.55972359328726% =====\n"
     ]
    },
    {
     "name": "stderr",
     "output_type": "stream",
     "text": [
      "100%|██████████| 634/634 [00:22<00:00, 28.35it/s]\n"
     ]
    },
    {
     "name": "stdout",
     "output_type": "stream",
     "text": [
      "===== Current val loss: 0.14871865728465972, acc: 96.15992102665349% =====\n",
      "===== Current epoch: 26, spend time: 82.62522602081299 s, learning rate: 1e-05 =====\n",
      "------------------------------------------------------------------------------------------------------------------------\n"
     ]
    },
    {
     "name": "stderr",
     "output_type": "stream",
     "text": [
      "100%|██████████| 634/634 [01:02<00:00, 10.16it/s]\n"
     ]
    },
    {
     "name": "stdout",
     "output_type": "stream",
     "text": [
      "===== Current train loss: 0.2850026811599025, acc: 91.02665350444225% =====\n"
     ]
    },
    {
     "name": "stderr",
     "output_type": "stream",
     "text": [
      "100%|██████████| 634/634 [00:23<00:00, 26.45it/s]\n"
     ]
    },
    {
     "name": "stdout",
     "output_type": "stream",
     "text": [
      "===== Current val loss: 0.1466429999394219, acc: 96.28825271470878% =====\n",
      "===== Current epoch: 27, spend time: 86.9220917224884 s, learning rate: 1e-05 =====\n",
      "------------------------------------------------------------------------------------------------------------------------\n"
     ]
    },
    {
     "name": "stderr",
     "output_type": "stream",
     "text": [
      "100%|██████████| 634/634 [01:00<00:00, 10.41it/s]\n"
     ]
    },
    {
     "name": "stdout",
     "output_type": "stream",
     "text": [
      "===== Current train loss: 0.2694618195677792, acc: 91.3721618953603% =====\n"
     ]
    },
    {
     "name": "stderr",
     "output_type": "stream",
     "text": [
      "100%|██████████| 634/634 [00:22<00:00, 27.60it/s]\n"
     ]
    },
    {
     "name": "stdout",
     "output_type": "stream",
     "text": [
      "===== Current val loss: 0.15104830646767903, acc: 95.93287265547877% =====\n",
      "===== Current epoch: 28, spend time: 84.40033459663391 s, learning rate: 1e-05 =====\n",
      "------------------------------------------------------------------------------------------------------------------------\n"
     ]
    },
    {
     "name": "stderr",
     "output_type": "stream",
     "text": [
      "100%|██████████| 634/634 [01:00<00:00, 10.52it/s]\n"
     ]
    },
    {
     "name": "stdout",
     "output_type": "stream",
     "text": [
      "===== Current train loss: 0.27308208742064055, acc: 91.16485686080948% =====\n"
     ]
    },
    {
     "name": "stderr",
     "output_type": "stream",
     "text": [
      "100%|██████████| 634/634 [00:23<00:00, 27.25it/s]\n"
     ]
    },
    {
     "name": "stdout",
     "output_type": "stream",
     "text": [
      "===== Current val loss: 0.1397509127391798, acc: 96.52517275419545% =====\n",
      "===== Current epoch: 29, spend time: 84.06828427314758 s, learning rate: 1e-05 =====\n",
      "------------------------------------------------------------------------------------------------------------------------\n"
     ]
    },
    {
     "name": "stderr",
     "output_type": "stream",
     "text": [
      "100%|██████████| 634/634 [01:03<00:00, 10.04it/s]\n"
     ]
    },
    {
     "name": "stdout",
     "output_type": "stream",
     "text": [
      "===== Current train loss: 0.27396515838632696, acc: 91.11549851924975% =====\n"
     ]
    },
    {
     "name": "stderr",
     "output_type": "stream",
     "text": [
      "100%|██████████| 634/634 [00:31<00:00, 20.38it/s]\n"
     ]
    },
    {
     "name": "stdout",
     "output_type": "stream",
     "text": [
      "===== Current val loss: 0.13730740848274098, acc: 96.58440276406712% =====\n",
      "===== Current epoch: 30, spend time: 94.62912487983704 s, learning rate: 1.0000000000000002e-06 =====\n",
      "------------------------------------------------------------------------------------------------------------------------\n"
     ]
    },
    {
     "name": "stderr",
     "output_type": "stream",
     "text": [
      "100%|██████████| 634/634 [01:02<00:00, 10.15it/s]\n"
     ]
    },
    {
     "name": "stdout",
     "output_type": "stream",
     "text": [
      "===== Current train loss: 0.2637799579720036, acc: 92.00394866732478% =====\n"
     ]
    },
    {
     "name": "stderr",
     "output_type": "stream",
     "text": [
      "100%|██████████| 634/634 [00:24<00:00, 25.96it/s]\n"
     ]
    },
    {
     "name": "stdout",
     "output_type": "stream",
     "text": [
      "===== Current val loss: 0.15198482245959483, acc: 96.15992102665349% =====\n",
      "===== Current epoch: 31, spend time: 87.83884358406067 s, learning rate: 1.0000000000000002e-06 =====\n",
      "------------------------------------------------------------------------------------------------------------------------\n"
     ]
    },
    {
     "name": "stderr",
     "output_type": "stream",
     "text": [
      "100%|██████████| 634/634 [01:00<00:00, 10.52it/s]\n"
     ]
    },
    {
     "name": "stdout",
     "output_type": "stream",
     "text": [
      "===== Current train loss: 0.2612424093858511, acc: 91.72754195459032% =====\n"
     ]
    },
    {
     "name": "stderr",
     "output_type": "stream",
     "text": [
      "100%|██████████| 634/634 [00:23<00:00, 26.61it/s]\n"
     ]
    },
    {
     "name": "stdout",
     "output_type": "stream",
     "text": [
      "===== Current val loss: 0.13632759846080622, acc: 96.55478775913129% =====\n",
      "===== Current epoch: 32, spend time: 84.29419875144958 s, learning rate: 1.0000000000000002e-06 =====\n",
      "------------------------------------------------------------------------------------------------------------------------\n"
     ]
    },
    {
     "name": "stderr",
     "output_type": "stream",
     "text": [
      "100%|██████████| 634/634 [00:59<00:00, 10.67it/s]\n"
     ]
    },
    {
     "name": "stdout",
     "output_type": "stream",
     "text": [
      "===== Current train loss: 0.2732680773835074, acc: 91.24383020730504% =====\n"
     ]
    },
    {
     "name": "stderr",
     "output_type": "stream",
     "text": [
      "100%|██████████| 634/634 [00:22<00:00, 28.14it/s]\n"
     ]
    },
    {
     "name": "stdout",
     "output_type": "stream",
     "text": [
      "===== Current val loss: 0.13474906366116202, acc: 96.63376110562685% =====\n",
      "===== Current epoch: 33, spend time: 83.20507144927979 s, learning rate: 1.0000000000000002e-06 =====\n",
      "------------------------------------------------------------------------------------------------------------------------\n"
     ]
    },
    {
     "name": "stderr",
     "output_type": "stream",
     "text": [
      "100%|██████████| 634/634 [01:01<00:00, 10.27it/s]\n"
     ]
    },
    {
     "name": "stdout",
     "output_type": "stream",
     "text": [
      "===== Current train loss: 0.26896384192625133, acc: 91.19447186574531% =====\n"
     ]
    },
    {
     "name": "stderr",
     "output_type": "stream",
     "text": [
      "100%|██████████| 634/634 [00:22<00:00, 27.92it/s]\n"
     ]
    },
    {
     "name": "stdout",
     "output_type": "stream",
     "text": [
      "===== Current val loss: 0.13636097010530288, acc: 96.78183613030602% =====\n",
      "===== Current epoch: 34, spend time: 87.095388174057 s, learning rate: 1.0000000000000002e-06 =====\n",
      "------------------------------------------------------------------------------------------------------------------------\n"
     ]
    },
    {
     "name": "stderr",
     "output_type": "stream",
     "text": [
      "100%|██████████| 634/634 [01:00<00:00, 10.42it/s]\n"
     ]
    },
    {
     "name": "stdout",
     "output_type": "stream",
     "text": [
      "===== Current train loss: 0.2616069684965354, acc: 91.78677196446199% =====\n"
     ]
    },
    {
     "name": "stderr",
     "output_type": "stream",
     "text": [
      "100%|██████████| 634/634 [00:24<00:00, 25.73it/s]\n"
     ]
    },
    {
     "name": "stdout",
     "output_type": "stream",
     "text": [
      "===== Current val loss: 0.1435526563607842, acc: 96.50542941757156% =====\n",
      "===== Current epoch: 35, spend time: 85.69152736663818 s, learning rate: 1.0000000000000002e-06 =====\n",
      "------------------------------------------------------------------------------------------------------------------------\n"
     ]
    },
    {
     "name": "stderr",
     "output_type": "stream",
     "text": [
      "100%|██████████| 634/634 [01:00<00:00, 10.56it/s]\n"
     ]
    },
    {
     "name": "stdout",
     "output_type": "stream",
     "text": [
      "===== Current train loss: 0.273879279930288, acc: 91.10562685093781% =====\n"
     ]
    },
    {
     "name": "stderr",
     "output_type": "stream",
     "text": [
      "100%|██████████| 634/634 [00:22<00:00, 27.61it/s]\n"
     ]
    },
    {
     "name": "stdout",
     "output_type": "stream",
     "text": [
      "===== Current val loss: 0.13690142875917896, acc: 96.7127344521224% =====\n",
      "===== Current epoch: 36, spend time: 83.6105055809021 s, learning rate: 1.0000000000000002e-06 =====\n",
      "------------------------------------------------------------------------------------------------------------------------\n"
     ]
    },
    {
     "name": "stderr",
     "output_type": "stream",
     "text": [
      "100%|██████████| 634/634 [01:00<00:00, 10.39it/s]\n"
     ]
    },
    {
     "name": "stdout",
     "output_type": "stream",
     "text": [
      "===== Current train loss: 0.26126002855267955, acc: 92.03356367226061% =====\n"
     ]
    },
    {
     "name": "stderr",
     "output_type": "stream",
     "text": [
      "100%|██████████| 634/634 [00:22<00:00, 28.35it/s]\n"
     ]
    },
    {
     "name": "stdout",
     "output_type": "stream",
     "text": [
      "===== Current val loss: 0.14357659924565747, acc: 96.47581441263573% =====\n",
      "===== Current epoch: 37, spend time: 83.6935715675354 s, learning rate: 1.0000000000000002e-06 =====\n",
      "------------------------------------------------------------------------------------------------------------------------\n"
     ]
    },
    {
     "name": "stderr",
     "output_type": "stream",
     "text": [
      "100%|██████████| 634/634 [01:00<00:00, 10.50it/s]\n"
     ]
    },
    {
     "name": "stdout",
     "output_type": "stream",
     "text": [
      "===== Current train loss: 0.2603980293249213, acc: 91.6781836130306% =====\n"
     ]
    },
    {
     "name": "stderr",
     "output_type": "stream",
     "text": [
      "100%|██████████| 634/634 [00:25<00:00, 25.34it/s]\n"
     ]
    },
    {
     "name": "stdout",
     "output_type": "stream",
     "text": [
      "===== Current val loss: 0.14092827502119576, acc: 96.68311944718657% =====\n",
      "===== Current epoch: 38, spend time: 86.07861590385437 s, learning rate: 1.0000000000000002e-06 =====\n",
      "------------------------------------------------------------------------------------------------------------------------\n"
     ]
    },
    {
     "name": "stderr",
     "output_type": "stream",
     "text": [
      "100%|██████████| 634/634 [01:01<00:00, 10.37it/s]\n"
     ]
    },
    {
     "name": "stdout",
     "output_type": "stream",
     "text": [
      "===== Current train loss: 0.27228543956682216, acc: 91.26357354392893% =====\n"
     ]
    },
    {
     "name": "stderr",
     "output_type": "stream",
     "text": [
      "100%|██████████| 634/634 [00:22<00:00, 28.25it/s]\n"
     ]
    },
    {
     "name": "stdout",
     "output_type": "stream",
     "text": [
      "===== Current val loss: 0.13739209003150757, acc: 96.7127344521224% =====\n",
      "===== Current epoch: 39, spend time: 83.86052966117859 s, learning rate: 1.0000000000000002e-06 =====\n",
      "------------------------------------------------------------------------------------------------------------------------\n"
     ]
    },
    {
     "name": "stderr",
     "output_type": "stream",
     "text": [
      "100%|██████████| 634/634 [00:59<00:00, 10.63it/s]\n"
     ]
    },
    {
     "name": "stdout",
     "output_type": "stream",
     "text": [
      "===== Current train loss: 0.26079522520450826, acc: 91.81638696939783% =====\n"
     ]
    },
    {
     "name": "stderr",
     "output_type": "stream",
     "text": [
      "100%|██████████| 634/634 [00:24<00:00, 25.58it/s]\n"
     ]
    },
    {
     "name": "stdout",
     "output_type": "stream",
     "text": [
      "===== Current val loss: 0.14612729110812947, acc: 96.3376110562685% =====\n",
      "===== Current epoch: 40, spend time: 84.68157720565796 s, learning rate: 1.0000000000000002e-07 =====\n",
      "------------------------------------------------------------------------------------------------------------------------\n"
     ]
    },
    {
     "name": "stderr",
     "output_type": "stream",
     "text": [
      "100%|██████████| 634/634 [01:00<00:00, 10.42it/s]\n"
     ]
    },
    {
     "name": "stdout",
     "output_type": "stream",
     "text": [
      "===== Current train loss: 0.26864641728017546, acc: 91.2142152023692% =====\n"
     ]
    },
    {
     "name": "stderr",
     "output_type": "stream",
     "text": [
      "100%|██████████| 634/634 [00:22<00:00, 28.36it/s]\n"
     ]
    },
    {
     "name": "stdout",
     "output_type": "stream",
     "text": [
      "===== Current val loss: 0.13517959207701585, acc: 96.64363277393879% =====\n",
      "===== Current epoch: 41, spend time: 83.51792216300964 s, learning rate: 1.0000000000000002e-07 =====\n",
      "------------------------------------------------------------------------------------------------------------------------\n"
     ]
    },
    {
     "name": "stderr",
     "output_type": "stream",
     "text": [
      "100%|██████████| 634/634 [01:00<00:00, 10.49it/s]\n"
     ]
    },
    {
     "name": "stdout",
     "output_type": "stream",
     "text": [
      "===== Current train loss: 0.26988811788883754, acc: 91.57946692991115% =====\n"
     ]
    },
    {
     "name": "stderr",
     "output_type": "stream",
     "text": [
      "100%|██████████| 634/634 [00:22<00:00, 27.98it/s]\n"
     ]
    },
    {
     "name": "stdout",
     "output_type": "stream",
     "text": [
      "===== Current val loss: 0.13046286101034693, acc: 96.65350444225074% =====\n",
      "===== Current epoch: 42, spend time: 84.43338370323181 s, learning rate: 1.0000000000000002e-07 =====\n",
      "------------------------------------------------------------------------------------------------------------------------\n"
     ]
    },
    {
     "name": "stderr",
     "output_type": "stream",
     "text": [
      "100%|██████████| 634/634 [01:01<00:00, 10.26it/s]\n"
     ]
    },
    {
     "name": "stdout",
     "output_type": "stream",
     "text": [
      "===== Current train loss: 0.2576821027126858, acc: 92.09279368213228% =====\n"
     ]
    },
    {
     "name": "stderr",
     "output_type": "stream",
     "text": [
      "100%|██████████| 634/634 [00:24<00:00, 26.08it/s]\n"
     ]
    },
    {
     "name": "stdout",
     "output_type": "stream",
     "text": [
      "===== Current val loss: 0.14621639108021678, acc: 96.36722606120433% =====\n",
      "===== Current epoch: 43, spend time: 86.28039026260376 s, learning rate: 1.0000000000000002e-07 =====\n",
      "------------------------------------------------------------------------------------------------------------------------\n"
     ]
    },
    {
     "name": "stderr",
     "output_type": "stream",
     "text": [
      "100%|██████████| 634/634 [00:59<00:00, 10.60it/s]\n"
     ]
    },
    {
     "name": "stdout",
     "output_type": "stream",
     "text": [
      "===== Current train loss: 0.263943617347433, acc: 91.69792694965449% =====\n"
     ]
    },
    {
     "name": "stderr",
     "output_type": "stream",
     "text": [
      "100%|██████████| 634/634 [00:22<00:00, 28.15it/s]\n"
     ]
    },
    {
     "name": "stdout",
     "output_type": "stream",
     "text": [
      "===== Current val loss: 0.14133458589842618, acc: 96.45607107601184% =====\n",
      "===== Current epoch: 44, spend time: 82.58219718933105 s, learning rate: 1.0000000000000002e-07 =====\n",
      "------------------------------------------------------------------------------------------------------------------------\n"
     ]
    },
    {
     "name": "stderr",
     "output_type": "stream",
     "text": [
      "100%|██████████| 634/634 [01:00<00:00, 10.44it/s]\n"
     ]
    },
    {
     "name": "stdout",
     "output_type": "stream",
     "text": [
      "===== Current train loss: 0.26342957313416154, acc: 91.49062191510365% =====\n"
     ]
    },
    {
     "name": "stderr",
     "output_type": "stream",
     "text": [
      "100%|██████████| 634/634 [00:24<00:00, 26.32it/s]\n"
     ]
    },
    {
     "name": "stdout",
     "output_type": "stream",
     "text": [
      "===== Current val loss: 0.13753886863095327, acc: 96.65350444225074% =====\n",
      "===== Current epoch: 45, spend time: 85.14724659919739 s, learning rate: 1.0000000000000002e-07 =====\n",
      "------------------------------------------------------------------------------------------------------------------------\n"
     ]
    },
    {
     "name": "stderr",
     "output_type": "stream",
     "text": [
      "100%|██████████| 634/634 [01:01<00:00, 10.27it/s]\n"
     ]
    },
    {
     "name": "stdout",
     "output_type": "stream",
     "text": [
      "===== Current train loss: 0.26393070968800214, acc: 91.43139190523198% =====\n"
     ]
    },
    {
     "name": "stderr",
     "output_type": "stream",
     "text": [
      "100%|██████████| 634/634 [00:22<00:00, 28.62it/s]\n"
     ]
    },
    {
     "name": "stdout",
     "output_type": "stream",
     "text": [
      "===== Current val loss: 0.13713719330103802, acc: 96.7127344521224% =====\n",
      "===== Current epoch: 46, spend time: 84.153000831604 s, learning rate: 1.0000000000000002e-07 =====\n",
      "------------------------------------------------------------------------------------------------------------------------\n"
     ]
    },
    {
     "name": "stderr",
     "output_type": "stream",
     "text": [
      "100%|██████████| 634/634 [01:00<00:00, 10.52it/s]\n"
     ]
    },
    {
     "name": "stdout",
     "output_type": "stream",
     "text": [
      "===== Current train loss: 0.2600915866272353, acc: 91.59921026653504% =====\n"
     ]
    },
    {
     "name": "stderr",
     "output_type": "stream",
     "text": [
      "100%|██████████| 634/634 [00:23<00:00, 26.61it/s]\n"
     ]
    },
    {
     "name": "stdout",
     "output_type": "stream",
     "text": [
      "===== Current val loss: 0.1348800299992566, acc: 96.83119447186573% =====\n",
      "===== Current epoch: 47, spend time: 85.20118546485901 s, learning rate: 1.0000000000000002e-07 =====\n",
      "------------------------------------------------------------------------------------------------------------------------\n"
     ]
    },
    {
     "name": "stderr",
     "output_type": "stream",
     "text": [
      "100%|██████████| 634/634 [01:00<00:00, 10.56it/s]\n"
     ]
    },
    {
     "name": "stdout",
     "output_type": "stream",
     "text": [
      "===== Current train loss: 0.256025952056624, acc: 91.964461994077% =====\n"
     ]
    },
    {
     "name": "stderr",
     "output_type": "stream",
     "text": [
      "100%|██████████| 634/634 [00:24<00:00, 26.00it/s]\n"
     ]
    },
    {
     "name": "stdout",
     "output_type": "stream",
     "text": [
      "===== Current val loss: 0.14682668677364777, acc: 96.40671273445211% =====\n",
      "===== Current epoch: 48, spend time: 85.07956314086914 s, learning rate: 1.0000000000000002e-07 =====\n",
      "------------------------------------------------------------------------------------------------------------------------\n"
     ]
    },
    {
     "name": "stderr",
     "output_type": "stream",
     "text": [
      "100%|██████████| 634/634 [01:01<00:00, 10.28it/s]\n"
     ]
    },
    {
     "name": "stdout",
     "output_type": "stream",
     "text": [
      "===== Current train loss: 0.2581054422132825, acc: 91.89536031589338% =====\n"
     ]
    },
    {
     "name": "stderr",
     "output_type": "stream",
     "text": [
      "100%|██████████| 634/634 [00:24<00:00, 26.28it/s]\n"
     ]
    },
    {
     "name": "stdout",
     "output_type": "stream",
     "text": [
      "===== Current val loss: 0.13682212597232676, acc: 96.46594274432378% =====\n",
      "===== Current epoch: 49, spend time: 86.12161755561829 s, learning rate: 1.0000000000000002e-07 =====\n",
      "------------------------------------------------------------------------------------------------------------------------\n"
     ]
    },
    {
     "name": "stderr",
     "output_type": "stream",
     "text": [
      "100%|██████████| 634/634 [01:01<00:00, 10.35it/s]\n"
     ]
    },
    {
     "name": "stdout",
     "output_type": "stream",
     "text": [
      "===== Current train loss: 0.2659254763315837, acc: 91.93484698914116% =====\n"
     ]
    },
    {
     "name": "stderr",
     "output_type": "stream",
     "text": [
      "100%|██████████| 634/634 [00:25<00:00, 24.43it/s]\n"
     ]
    },
    {
     "name": "stdout",
     "output_type": "stream",
     "text": [
      "===== Current val loss: 0.14731510490756428, acc: 96.16979269496544% =====\n",
      "===== Current epoch: 50, spend time: 87.46765875816345 s, learning rate: 1.0000000000000004e-08 =====\n",
      "------------------------------------------------------------------------------------------------------------------------\n"
     ]
    },
    {
     "name": "stderr",
     "output_type": "stream",
     "text": [
      "100%|██████████| 634/634 [01:00<00:00, 10.40it/s]\n"
     ]
    },
    {
     "name": "stdout",
     "output_type": "stream",
     "text": [
      "===== Current train loss: 0.2616227949712966, acc: 91.51036525172753% =====\n"
     ]
    },
    {
     "name": "stderr",
     "output_type": "stream",
     "text": [
      "100%|██████████| 634/634 [00:23<00:00, 26.68it/s]\n"
     ]
    },
    {
     "name": "stdout",
     "output_type": "stream",
     "text": [
      "===== Current val loss: 0.13409398613223641, acc: 96.50542941757156% =====\n",
      "===== Current epoch: 51, spend time: 84.9731855392456 s, learning rate: 1.0000000000000004e-08 =====\n",
      "------------------------------------------------------------------------------------------------------------------------\n"
     ]
    },
    {
     "name": "stderr",
     "output_type": "stream",
     "text": [
      "100%|██████████| 634/634 [01:02<00:00, 10.18it/s]\n"
     ]
    },
    {
     "name": "stdout",
     "output_type": "stream",
     "text": [
      "===== Current train loss: 0.26386590649439107, acc: 92.03356367226061% =====\n"
     ]
    },
    {
     "name": "stderr",
     "output_type": "stream",
     "text": [
      "100%|██████████| 634/634 [00:23<00:00, 26.61it/s]\n"
     ]
    },
    {
     "name": "stdout",
     "output_type": "stream",
     "text": [
      "===== Current val loss: 0.13786351699083846, acc: 96.72260612043435% =====\n",
      "===== Current epoch: 52, spend time: 86.32512283325195 s, learning rate: 1.0000000000000004e-08 =====\n",
      "------------------------------------------------------------------------------------------------------------------------\n"
     ]
    },
    {
     "name": "stderr",
     "output_type": "stream",
     "text": [
      "100%|██████████| 634/634 [01:01<00:00, 10.23it/s]\n"
     ]
    },
    {
     "name": "stdout",
     "output_type": "stream",
     "text": [
      "===== Current train loss: 0.2581086516851028, acc: 91.94471865745311% =====\n"
     ]
    },
    {
     "name": "stderr",
     "output_type": "stream",
     "text": [
      "100%|██████████| 634/634 [00:23<00:00, 26.73it/s]\n"
     ]
    },
    {
     "name": "stdout",
     "output_type": "stream",
     "text": [
      "===== Current val loss: 0.1365387633156035, acc: 96.7324777887463% =====\n",
      "===== Current epoch: 53, spend time: 85.88231992721558 s, learning rate: 1.0000000000000004e-08 =====\n",
      "------------------------------------------------------------------------------------------------------------------------\n"
     ]
    },
    {
     "name": "stderr",
     "output_type": "stream",
     "text": [
      "100%|██████████| 634/634 [01:04<00:00,  9.85it/s]\n"
     ]
    },
    {
     "name": "stdout",
     "output_type": "stream",
     "text": [
      "===== Current train loss: 0.26264616275998703, acc: 91.64856860809476% =====\n"
     ]
    },
    {
     "name": "stderr",
     "output_type": "stream",
     "text": [
      "100%|██████████| 634/634 [00:31<00:00, 20.37it/s]\n"
     ]
    },
    {
     "name": "stdout",
     "output_type": "stream",
     "text": [
      "===== Current val loss: 0.14295219547333157, acc: 96.426456071076% =====\n",
      "===== Current epoch: 54, spend time: 95.82546854019165 s, learning rate: 1.0000000000000004e-08 =====\n",
      "------------------------------------------------------------------------------------------------------------------------\n"
     ]
    },
    {
     "name": "stderr",
     "output_type": "stream",
     "text": [
      "100%|██████████| 634/634 [01:03<00:00, 10.02it/s]\n"
     ]
    },
    {
     "name": "stdout",
     "output_type": "stream",
     "text": [
      "===== Current train loss: 0.26390997144041506, acc: 91.83613030602172% =====\n"
     ]
    },
    {
     "name": "stderr",
     "output_type": "stream",
     "text": [
      "100%|██████████| 634/634 [00:25<00:00, 24.52it/s]\n"
     ]
    },
    {
     "name": "stdout",
     "output_type": "stream",
     "text": [
      "===== Current val loss: 0.14510577006186456, acc: 96.36722606120433% =====\n",
      "===== Current epoch: 55, spend time: 89.34770131111145 s, learning rate: 1.0000000000000004e-08 =====\n",
      "------------------------------------------------------------------------------------------------------------------------\n"
     ]
    },
    {
     "name": "stderr",
     "output_type": "stream",
     "text": [
      "100%|██████████| 634/634 [01:04<00:00,  9.78it/s]\n"
     ]
    },
    {
     "name": "stdout",
     "output_type": "stream",
     "text": [
      "===== Current train loss: 0.2653462505381764, acc: 91.57946692991115% =====\n"
     ]
    },
    {
     "name": "stderr",
     "output_type": "stream",
     "text": [
      "100%|██████████| 634/634 [00:25<00:00, 24.88it/s]\n"
     ]
    },
    {
     "name": "stdout",
     "output_type": "stream",
     "text": [
      "===== Current val loss: 0.13923621640347392, acc: 96.54491609081934% =====\n",
      "===== Current epoch: 56, spend time: 90.5386278629303 s, learning rate: 1.0000000000000004e-08 =====\n",
      "------------------------------------------------------------------------------------------------------------------------\n"
     ]
    },
    {
     "name": "stderr",
     "output_type": "stream",
     "text": [
      "100%|██████████| 634/634 [01:01<00:00, 10.27it/s]\n"
     ]
    },
    {
     "name": "stdout",
     "output_type": "stream",
     "text": [
      "===== Current train loss: 0.2604368241862389, acc: 91.69792694965449% =====\n"
     ]
    },
    {
     "name": "stderr",
     "output_type": "stream",
     "text": [
      "100%|██████████| 634/634 [00:22<00:00, 28.38it/s]\n"
     ]
    },
    {
     "name": "stdout",
     "output_type": "stream",
     "text": [
      "===== Current val loss: 0.13670076557746763, acc: 96.59427443237907% =====\n",
      "===== Current epoch: 57, spend time: 84.24453020095825 s, learning rate: 1.0000000000000004e-08 =====\n",
      "------------------------------------------------------------------------------------------------------------------------\n"
     ]
    },
    {
     "name": "stderr",
     "output_type": "stream",
     "text": [
      "100%|██████████| 634/634 [01:00<00:00, 10.49it/s]\n"
     ]
    },
    {
     "name": "stdout",
     "output_type": "stream",
     "text": [
      "===== Current train loss: 0.26872038147232963, acc: 91.3919052319842% =====\n"
     ]
    },
    {
     "name": "stderr",
     "output_type": "stream",
     "text": [
      "100%|██████████| 634/634 [00:25<00:00, 24.48it/s]\n"
     ]
    },
    {
     "name": "stdout",
     "output_type": "stream",
     "text": [
      "===== Current val loss: 0.1338521089165785, acc: 96.66337611056268% =====\n",
      "===== Current epoch: 58, spend time: 86.48516249656677 s, learning rate: 1.0000000000000004e-08 =====\n",
      "------------------------------------------------------------------------------------------------------------------------\n"
     ]
    },
    {
     "name": "stderr",
     "output_type": "stream",
     "text": [
      "100%|██████████| 634/634 [00:59<00:00, 10.69it/s]\n"
     ]
    },
    {
     "name": "stdout",
     "output_type": "stream",
     "text": [
      "===== Current train loss: 0.2602145530923333, acc: 91.77690029615005% =====\n"
     ]
    },
    {
     "name": "stderr",
     "output_type": "stream",
     "text": [
      "100%|██████████| 634/634 [00:22<00:00, 28.24it/s]\n"
     ]
    },
    {
     "name": "stdout",
     "output_type": "stream",
     "text": [
      "===== Current val loss: 0.14041405624736686, acc: 96.70286278381046% =====\n",
      "===== Current epoch: 59, spend time: 81.94016432762146 s, learning rate: 1.0000000000000004e-08 =====\n",
      "------------------------------------------------------------------------------------------------------------------------\n"
     ]
    },
    {
     "name": "stderr",
     "output_type": "stream",
     "text": [
      "100%|██████████| 634/634 [01:00<00:00, 10.50it/s]\n"
     ]
    },
    {
     "name": "stdout",
     "output_type": "stream",
     "text": [
      "===== Current train loss: 0.2658621691336519, acc: 91.52023692003948% =====\n"
     ]
    },
    {
     "name": "stderr",
     "output_type": "stream",
     "text": [
      "100%|██████████| 634/634 [00:22<00:00, 27.91it/s]\n"
     ]
    },
    {
     "name": "stdout",
     "output_type": "stream",
     "text": [
      "===== Current val loss: 0.1329324264266884, acc: 96.80157946692991% =====\n",
      "===== Current epoch: 60, spend time: 83.33267068862915 s, learning rate: 1.0000000000000005e-09 =====\n",
      "------------------------------------------------------------------------------------------------------------------------\n"
     ]
    },
    {
     "name": "stderr",
     "output_type": "stream",
     "text": [
      "100%|██████████| 634/634 [00:59<00:00, 10.58it/s]\n"
     ]
    },
    {
     "name": "stdout",
     "output_type": "stream",
     "text": [
      "===== Current train loss: 0.2633795257587894, acc: 91.84600197433366% =====\n"
     ]
    },
    {
     "name": "stderr",
     "output_type": "stream",
     "text": [
      "100%|██████████| 634/634 [00:24<00:00, 25.41it/s]\n"
     ]
    },
    {
     "name": "stdout",
     "output_type": "stream",
     "text": [
      "===== Current val loss: 0.1407136110918043, acc: 96.25863770977294% =====\n",
      "===== Current epoch: 61, spend time: 85.2329568862915 s, learning rate: 1.0000000000000005e-09 =====\n",
      "------------------------------------------------------------------------------------------------------------------------\n"
     ]
    },
    {
     "name": "stderr",
     "output_type": "stream",
     "text": [
      "100%|██████████| 634/634 [00:59<00:00, 10.74it/s]\n"
     ]
    },
    {
     "name": "stdout",
     "output_type": "stream",
     "text": [
      "===== Current train loss: 0.2520291032039754, acc: 92.02369200394867% =====\n"
     ]
    },
    {
     "name": "stderr",
     "output_type": "stream",
     "text": [
      "100%|██████████| 634/634 [00:21<00:00, 29.41it/s]\n"
     ]
    },
    {
     "name": "stdout",
     "output_type": "stream",
     "text": [
      "===== Current val loss: 0.1360853385897344, acc: 96.69299111549851% =====\n",
      "===== Current epoch: 62, spend time: 81.04071760177612 s, learning rate: 1.0000000000000005e-09 =====\n",
      "------------------------------------------------------------------------------------------------------------------------\n"
     ]
    },
    {
     "name": "stderr",
     "output_type": "stream",
     "text": [
      "100%|██████████| 634/634 [01:00<00:00, 10.41it/s]\n"
     ]
    },
    {
     "name": "stdout",
     "output_type": "stream",
     "text": [
      "===== Current train loss: 0.2652094654981617, acc: 91.74728529121421% =====\n"
     ]
    },
    {
     "name": "stderr",
     "output_type": "stream",
     "text": [
      "100%|██████████| 634/634 [00:21<00:00, 28.96it/s]\n"
     ]
    },
    {
     "name": "stdout",
     "output_type": "stream",
     "text": [
      "===== Current val loss: 0.1392326425323364, acc: 96.52517275419545% =====\n",
      "===== Current epoch: 63, spend time: 83.05180788040161 s, learning rate: 1.0000000000000005e-09 =====\n",
      "------------------------------------------------------------------------------------------------------------------------\n"
     ]
    },
    {
     "name": "stderr",
     "output_type": "stream",
     "text": [
      "100%|██████████| 634/634 [01:00<00:00, 10.50it/s]\n"
     ]
    },
    {
     "name": "stdout",
     "output_type": "stream",
     "text": [
      "===== Current train loss: 0.26489928490670744, acc: 91.6781836130306% =====\n"
     ]
    },
    {
     "name": "stderr",
     "output_type": "stream",
     "text": [
      "100%|██████████| 634/634 [00:22<00:00, 28.24it/s]\n"
     ]
    },
    {
     "name": "stdout",
     "output_type": "stream",
     "text": [
      "===== Current val loss: 0.14735309772803895, acc: 96.21915103652516% =====\n",
      "===== Current epoch: 64, spend time: 83.116446018219 s, learning rate: 1.0000000000000005e-09 =====\n",
      "------------------------------------------------------------------------------------------------------------------------\n"
     ]
    },
    {
     "name": "stderr",
     "output_type": "stream",
     "text": [
      "100%|██████████| 634/634 [00:57<00:00, 11.05it/s]\n"
     ]
    },
    {
     "name": "stdout",
     "output_type": "stream",
     "text": [
      "===== Current train loss: 0.25971057239666157, acc: 91.89536031589338% =====\n"
     ]
    },
    {
     "name": "stderr",
     "output_type": "stream",
     "text": [
      "100%|██████████| 634/634 [00:22<00:00, 28.65it/s]\n"
     ]
    },
    {
     "name": "stdout",
     "output_type": "stream",
     "text": [
      "===== Current val loss: 0.13241523516172246, acc: 96.8904244817374% =====\n",
      "===== Current epoch: 65, spend time: 81.06084251403809 s, learning rate: 1.0000000000000005e-09 =====\n",
      "------------------------------------------------------------------------------------------------------------------------\n"
     ]
    },
    {
     "name": "stderr",
     "output_type": "stream",
     "text": [
      "100%|██████████| 634/634 [00:59<00:00, 10.64it/s]\n"
     ]
    },
    {
     "name": "stdout",
     "output_type": "stream",
     "text": [
      "===== Current train loss: 0.26645107681753605, acc: 91.69792694965449% =====\n"
     ]
    },
    {
     "name": "stderr",
     "output_type": "stream",
     "text": [
      "100%|██████████| 634/634 [00:25<00:00, 25.23it/s]\n"
     ]
    },
    {
     "name": "stdout",
     "output_type": "stream",
     "text": [
      "===== Current val loss: 0.13422273141488264, acc: 96.64363277393879% =====\n",
      "===== Current epoch: 66, spend time: 84.9647274017334 s, learning rate: 1.0000000000000005e-09 =====\n",
      "------------------------------------------------------------------------------------------------------------------------\n"
     ]
    },
    {
     "name": "stderr",
     "output_type": "stream",
     "text": [
      "100%|██████████| 634/634 [01:00<00:00, 10.53it/s]\n"
     ]
    },
    {
     "name": "stdout",
     "output_type": "stream",
     "text": [
      "===== Current train loss: 0.26027147946741364, acc: 91.99407699901283% =====\n"
     ]
    },
    {
     "name": "stderr",
     "output_type": "stream",
     "text": [
      "100%|██████████| 634/634 [00:20<00:00, 30.45it/s]\n"
     ]
    },
    {
     "name": "stdout",
     "output_type": "stream",
     "text": [
      "===== Current val loss: 0.14014253262168408, acc: 96.69299111549851% =====\n",
      "===== Current epoch: 67, spend time: 81.23394250869751 s, learning rate: 1.0000000000000005e-09 =====\n",
      "------------------------------------------------------------------------------------------------------------------------\n"
     ]
    },
    {
     "name": "stderr",
     "output_type": "stream",
     "text": [
      "100%|██████████| 634/634 [00:59<00:00, 10.72it/s]\n"
     ]
    },
    {
     "name": "stdout",
     "output_type": "stream",
     "text": [
      "===== Current train loss: 0.26431736374478, acc: 91.59921026653504% =====\n"
     ]
    },
    {
     "name": "stderr",
     "output_type": "stream",
     "text": [
      "100%|██████████| 634/634 [00:21<00:00, 29.21it/s]\n"
     ]
    },
    {
     "name": "stdout",
     "output_type": "stream",
     "text": [
      "===== Current val loss: 0.1404138544271447, acc: 96.37709772951628% =====\n",
      "===== Current epoch: 68, spend time: 81.40266013145447 s, learning rate: 1.0000000000000005e-09 =====\n",
      "------------------------------------------------------------------------------------------------------------------------\n"
     ]
    },
    {
     "name": "stderr",
     "output_type": "stream",
     "text": [
      "100%|██████████| 634/634 [01:02<00:00, 10.17it/s]\n"
     ]
    },
    {
     "name": "stdout",
     "output_type": "stream",
     "text": [
      "===== Current train loss: 0.2678369511121117, acc: 91.68805528134254% =====\n"
     ]
    },
    {
     "name": "stderr",
     "output_type": "stream",
     "text": [
      "100%|██████████| 634/634 [00:24<00:00, 25.55it/s]\n"
     ]
    },
    {
     "name": "stdout",
     "output_type": "stream",
     "text": [
      "===== Current val loss: 0.1363922541830523, acc: 96.63376110562685% =====\n",
      "===== Current epoch: 69, spend time: 88.1020495891571 s, learning rate: 1.0000000000000005e-09 =====\n",
      "------------------------------------------------------------------------------------------------------------------------\n"
     ]
    },
    {
     "name": "stderr",
     "output_type": "stream",
     "text": [
      "100%|██████████| 634/634 [00:59<00:00, 10.72it/s]\n"
     ]
    },
    {
     "name": "stdout",
     "output_type": "stream",
     "text": [
      "===== Current train loss: 0.27502025854199214, acc: 91.50049358341559% =====\n"
     ]
    },
    {
     "name": "stderr",
     "output_type": "stream",
     "text": [
      "100%|██████████| 634/634 [00:21<00:00, 29.23it/s]\n"
     ]
    },
    {
     "name": "stdout",
     "output_type": "stream",
     "text": [
      "===== Current val loss: 0.14357754199203426, acc: 96.20927936821322% =====\n",
      "===== Current epoch: 70, spend time: 81.12525391578674 s, learning rate: 1.0000000000000006e-10 =====\n",
      "------------------------------------------------------------------------------------------------------------------------\n"
     ]
    },
    {
     "name": "stderr",
     "output_type": "stream",
     "text": [
      "100%|██████████| 634/634 [00:59<00:00, 10.69it/s]\n"
     ]
    },
    {
     "name": "stdout",
     "output_type": "stream",
     "text": [
      "===== Current train loss: 0.26589315957357595, acc: 91.3919052319842% =====\n"
     ]
    },
    {
     "name": "stderr",
     "output_type": "stream",
     "text": [
      "100%|██████████| 634/634 [00:23<00:00, 27.22it/s]\n"
     ]
    },
    {
     "name": "stdout",
     "output_type": "stream",
     "text": [
      "===== Current val loss: 0.13696735333890342, acc: 96.69299111549851% =====\n",
      "===== Current epoch: 71, spend time: 82.89695572853088 s, learning rate: 1.0000000000000006e-10 =====\n",
      "------------------------------------------------------------------------------------------------------------------------\n"
     ]
    },
    {
     "name": "stderr",
     "output_type": "stream",
     "text": [
      "100%|██████████| 634/634 [00:59<00:00, 10.67it/s]\n"
     ]
    },
    {
     "name": "stdout",
     "output_type": "stream",
     "text": [
      "===== Current train loss: 0.26019361615769365, acc: 91.66831194471865% =====\n"
     ]
    },
    {
     "name": "stderr",
     "output_type": "stream",
     "text": [
      "100%|██████████| 634/634 [00:21<00:00, 29.06it/s]\n"
     ]
    },
    {
     "name": "stdout",
     "output_type": "stream",
     "text": [
      "===== Current val loss: 0.13865876532245247, acc: 96.6238894373149% =====\n",
      "===== Current epoch: 72, spend time: 81.53245186805725 s, learning rate: 1.0000000000000006e-10 =====\n",
      "------------------------------------------------------------------------------------------------------------------------\n"
     ]
    },
    {
     "name": "stderr",
     "output_type": "stream",
     "text": [
      "100%|██████████| 634/634 [00:58<00:00, 10.78it/s]\n"
     ]
    },
    {
     "name": "stdout",
     "output_type": "stream",
     "text": [
      "===== Current train loss: 0.26282326149858115, acc: 91.71767028627838% =====\n"
     ]
    },
    {
     "name": "stderr",
     "output_type": "stream",
     "text": [
      "100%|██████████| 634/634 [00:22<00:00, 28.75it/s]\n"
     ]
    },
    {
     "name": "stdout",
     "output_type": "stream",
     "text": [
      "===== Current val loss: 0.1414604400496963, acc: 96.31786771964461% =====\n",
      "===== Current epoch: 73, spend time: 81.17513585090637 s, learning rate: 1.0000000000000006e-10 =====\n",
      "------------------------------------------------------------------------------------------------------------------------\n"
     ]
    },
    {
     "name": "stderr",
     "output_type": "stream",
     "text": [
      "100%|██████████| 634/634 [01:00<00:00, 10.51it/s]\n"
     ]
    },
    {
     "name": "stdout",
     "output_type": "stream",
     "text": [
      "===== Current train loss: 0.26256554753971006, acc: 91.88548864758144% =====\n"
     ]
    },
    {
     "name": "stderr",
     "output_type": "stream",
     "text": [
      "100%|██████████| 634/634 [00:24<00:00, 26.18it/s]\n"
     ]
    },
    {
     "name": "stdout",
     "output_type": "stream",
     "text": [
      "===== Current val loss: 0.1350044105183572, acc: 96.6238894373149% =====\n",
      "===== Current epoch: 74, spend time: 84.73505759239197 s, learning rate: 1.0000000000000006e-10 =====\n",
      "------------------------------------------------------------------------------------------------------------------------\n"
     ]
    },
    {
     "name": "stderr",
     "output_type": "stream",
     "text": [
      "100%|██████████| 634/634 [01:00<00:00, 10.55it/s]\n"
     ]
    },
    {
     "name": "stdout",
     "output_type": "stream",
     "text": [
      "===== Current train loss: 0.2682837432252219, acc: 91.71767028627838% =====\n"
     ]
    },
    {
     "name": "stderr",
     "output_type": "stream",
     "text": [
      "100%|██████████| 634/634 [00:24<00:00, 25.43it/s]\n"
     ]
    },
    {
     "name": "stdout",
     "output_type": "stream",
     "text": [
      "===== Current val loss: 0.13813192977809954, acc: 96.56465942744323% =====\n",
      "===== Current epoch: 75, spend time: 85.2811017036438 s, learning rate: 1.0000000000000006e-10 =====\n",
      "------------------------------------------------------------------------------------------------------------------------\n"
     ]
    },
    {
     "name": "stderr",
     "output_type": "stream",
     "text": [
      "100%|██████████| 634/634 [01:00<00:00, 10.44it/s]\n"
     ]
    },
    {
     "name": "stdout",
     "output_type": "stream",
     "text": [
      "===== Current train loss: 0.25831713750590696, acc: 91.90523198420533% =====\n"
     ]
    },
    {
     "name": "stderr",
     "output_type": "stream",
     "text": [
      "100%|██████████| 634/634 [00:25<00:00, 24.77it/s]\n"
     ]
    },
    {
     "name": "stdout",
     "output_type": "stream",
     "text": [
      "===== Current val loss: 0.14208202461095165, acc: 96.50542941757156% =====\n",
      "===== Current epoch: 76, spend time: 86.48901963233948 s, learning rate: 1.0000000000000006e-10 =====\n",
      "------------------------------------------------------------------------------------------------------------------------\n"
     ]
    },
    {
     "name": "stderr",
     "output_type": "stream",
     "text": [
      "100%|██████████| 634/634 [01:02<00:00, 10.16it/s]\n"
     ]
    },
    {
     "name": "stdout",
     "output_type": "stream",
     "text": [
      "===== Current train loss: 0.26562918320312906, acc: 91.47087857847976% =====\n"
     ]
    },
    {
     "name": "stderr",
     "output_type": "stream",
     "text": [
      "100%|██████████| 634/634 [00:24<00:00, 25.97it/s]\n"
     ]
    },
    {
     "name": "stdout",
     "output_type": "stream",
     "text": [
      "===== Current val loss: 0.1457857162438826, acc: 96.31786771964461% =====\n",
      "===== Current epoch: 77, spend time: 87.17586731910706 s, learning rate: 1.0000000000000006e-10 =====\n",
      "------------------------------------------------------------------------------------------------------------------------\n"
     ]
    },
    {
     "name": "stderr",
     "output_type": "stream",
     "text": [
      "100%|██████████| 634/634 [01:02<00:00, 10.12it/s]\n"
     ]
    },
    {
     "name": "stdout",
     "output_type": "stream",
     "text": [
      "===== Current train loss: 0.26854228554744003, acc: 91.43139190523198% =====\n"
     ]
    },
    {
     "name": "stderr",
     "output_type": "stream",
     "text": [
      "100%|██████████| 634/634 [00:23<00:00, 27.04it/s]\n"
     ]
    },
    {
     "name": "stdout",
     "output_type": "stream",
     "text": [
      "===== Current val loss: 0.13290175033663376, acc: 96.83119447186573% =====\n",
      "===== Current epoch: 78, spend time: 86.37297105789185 s, learning rate: 1.0000000000000006e-10 =====\n",
      "------------------------------------------------------------------------------------------------------------------------\n"
     ]
    },
    {
     "name": "stderr",
     "output_type": "stream",
     "text": [
      "100%|██████████| 634/634 [00:59<00:00, 10.59it/s]\n"
     ]
    },
    {
     "name": "stdout",
     "output_type": "stream",
     "text": [
      "===== Current train loss: 0.2613471995307333, acc: 91.50049358341559% =====\n"
     ]
    },
    {
     "name": "stderr",
     "output_type": "stream",
     "text": [
      "100%|██████████| 634/634 [00:22<00:00, 28.16it/s]\n"
     ]
    },
    {
     "name": "stdout",
     "output_type": "stream",
     "text": [
      "===== Current val loss: 0.13774778191738019, acc: 96.51530108588351% =====\n",
      "===== Current epoch: 79, spend time: 82.62552452087402 s, learning rate: 1.0000000000000006e-10 =====\n",
      "------------------------------------------------------------------------------------------------------------------------\n"
     ]
    },
    {
     "name": "stderr",
     "output_type": "stream",
     "text": [
      "100%|██████████| 634/634 [01:04<00:00,  9.78it/s]\n"
     ]
    },
    {
     "name": "stdout",
     "output_type": "stream",
     "text": [
      "===== Current train loss: 0.26256356019258265, acc: 91.8558736426456% =====\n"
     ]
    },
    {
     "name": "stderr",
     "output_type": "stream",
     "text": [
      "100%|██████████| 634/634 [00:23<00:00, 26.72it/s]\n"
     ]
    },
    {
     "name": "stdout",
     "output_type": "stream",
     "text": [
      "===== Current val loss: 0.1338941585382875, acc: 96.55478775913129% =====\n",
      "===== Current epoch: 80, spend time: 88.78081512451172 s, learning rate: 1.0000000000000006e-11 =====\n",
      "------------------------------------------------------------------------------------------------------------------------\n"
     ]
    },
    {
     "name": "stderr",
     "output_type": "stream",
     "text": [
      "100%|██████████| 634/634 [01:00<00:00, 10.45it/s]\n"
     ]
    },
    {
     "name": "stdout",
     "output_type": "stream",
     "text": [
      "===== Current train loss: 0.26578123647745366, acc: 91.54985192497531% =====\n"
     ]
    },
    {
     "name": "stderr",
     "output_type": "stream",
     "text": [
      "100%|██████████| 634/634 [00:23<00:00, 27.04it/s]\n"
     ]
    },
    {
     "name": "stdout",
     "output_type": "stream",
     "text": [
      "===== Current val loss: 0.1478624205234638, acc: 95.97235932872655% =====\n",
      "===== Current epoch: 81, spend time: 84.35755491256714 s, learning rate: 1.0000000000000006e-11 =====\n",
      "------------------------------------------------------------------------------------------------------------------------\n"
     ]
    },
    {
     "name": "stderr",
     "output_type": "stream",
     "text": [
      "100%|██████████| 634/634 [00:59<00:00, 10.59it/s]\n"
     ]
    },
    {
     "name": "stdout",
     "output_type": "stream",
     "text": [
      "===== Current train loss: 0.2694245097020536, acc: 91.45113524185587% =====\n"
     ]
    },
    {
     "name": "stderr",
     "output_type": "stream",
     "text": [
      "100%|██████████| 634/634 [00:23<00:00, 26.89it/s]\n"
     ]
    },
    {
     "name": "stdout",
     "output_type": "stream",
     "text": [
      "===== Current val loss: 0.1425459540806718, acc: 96.61401776900296% =====\n",
      "===== Current epoch: 82, spend time: 83.71153926849365 s, learning rate: 1.0000000000000006e-11 =====\n",
      "------------------------------------------------------------------------------------------------------------------------\n"
     ]
    },
    {
     "name": "stderr",
     "output_type": "stream",
     "text": [
      "100%|██████████| 634/634 [01:00<00:00, 10.53it/s]\n"
     ]
    },
    {
     "name": "stdout",
     "output_type": "stream",
     "text": [
      "===== Current train loss: 0.2601458848346492, acc: 91.74728529121421% =====\n"
     ]
    },
    {
     "name": "stderr",
     "output_type": "stream",
     "text": [
      "100%|██████████| 634/634 [00:25<00:00, 24.97it/s]\n"
     ]
    },
    {
     "name": "stdout",
     "output_type": "stream",
     "text": [
      "===== Current val loss: 0.13949992233282368, acc: 96.58440276406712% =====\n",
      "===== Current epoch: 83, spend time: 85.84760928153992 s, learning rate: 1.0000000000000006e-11 =====\n",
      "------------------------------------------------------------------------------------------------------------------------\n"
     ]
    },
    {
     "name": "stderr",
     "output_type": "stream",
     "text": [
      "100%|██████████| 634/634 [01:00<00:00, 10.41it/s]\n"
     ]
    },
    {
     "name": "stdout",
     "output_type": "stream",
     "text": [
      "===== Current train loss: 0.262365305985656, acc: 91.66831194471865% =====\n"
     ]
    },
    {
     "name": "stderr",
     "output_type": "stream",
     "text": [
      "100%|██████████| 634/634 [00:24<00:00, 26.17it/s]\n"
     ]
    },
    {
     "name": "stdout",
     "output_type": "stream",
     "text": [
      "===== Current val loss: 0.1369321537405429, acc: 96.69299111549851% =====\n",
      "===== Current epoch: 84, spend time: 85.4926826953888 s, learning rate: 1.0000000000000006e-11 =====\n",
      "------------------------------------------------------------------------------------------------------------------------\n"
     ]
    },
    {
     "name": "stderr",
     "output_type": "stream",
     "text": [
      "100%|██████████| 634/634 [01:04<00:00,  9.87it/s]\n"
     ]
    },
    {
     "name": "stdout",
     "output_type": "stream",
     "text": [
      "===== Current train loss: 0.2529756955044879, acc: 92.319842053307% =====\n"
     ]
    },
    {
     "name": "stderr",
     "output_type": "stream",
     "text": [
      "100%|██████████| 634/634 [00:20<00:00, 30.26it/s]\n"
     ]
    },
    {
     "name": "stdout",
     "output_type": "stream",
     "text": [
      "===== Current val loss: 0.14069869787986633, acc: 96.32773938795656% =====\n",
      "===== Current epoch: 85, spend time: 85.67311310768127 s, learning rate: 1.0000000000000006e-11 =====\n",
      "------------------------------------------------------------------------------------------------------------------------\n"
     ]
    },
    {
     "name": "stderr",
     "output_type": "stream",
     "text": [
      "100%|██████████| 634/634 [00:58<00:00, 10.82it/s]\n"
     ]
    },
    {
     "name": "stdout",
     "output_type": "stream",
     "text": [
      "===== Current train loss: 0.26300337245763233, acc: 91.61895360315893% =====\n"
     ]
    },
    {
     "name": "stderr",
     "output_type": "stream",
     "text": [
      "100%|██████████| 634/634 [00:22<00:00, 27.72it/s]\n"
     ]
    },
    {
     "name": "stdout",
     "output_type": "stream",
     "text": [
      "===== Current val loss: 0.14041979615551284, acc: 96.64363277393879% =====\n",
      "===== Current epoch: 86, spend time: 81.74287796020508 s, learning rate: 1.0000000000000006e-11 =====\n",
      "------------------------------------------------------------------------------------------------------------------------\n"
     ]
    },
    {
     "name": "stderr",
     "output_type": "stream",
     "text": [
      "100%|██████████| 634/634 [01:01<00:00, 10.31it/s]\n"
     ]
    },
    {
     "name": "stdout",
     "output_type": "stream",
     "text": [
      "===== Current train loss: 0.2677940259460518, acc: 91.51036525172753% =====\n"
     ]
    },
    {
     "name": "stderr",
     "output_type": "stream",
     "text": [
      "100%|██████████| 634/634 [00:21<00:00, 28.93it/s]\n"
     ]
    },
    {
     "name": "stdout",
     "output_type": "stream",
     "text": [
      "===== Current val loss: 0.14204704181290242, acc: 96.37709772951628% =====\n",
      "===== Current epoch: 87, spend time: 83.67991971969604 s, learning rate: 1.0000000000000006e-11 =====\n",
      "------------------------------------------------------------------------------------------------------------------------\n"
     ]
    },
    {
     "name": "stderr",
     "output_type": "stream",
     "text": [
      "100%|██████████| 634/634 [01:01<00:00, 10.29it/s]\n"
     ]
    },
    {
     "name": "stdout",
     "output_type": "stream",
     "text": [
      "===== Current train loss: 0.26702407286644925, acc: 91.61895360315893% =====\n"
     ]
    },
    {
     "name": "stderr",
     "output_type": "stream",
     "text": [
      "100%|██████████| 634/634 [00:22<00:00, 27.65it/s]\n"
     ]
    },
    {
     "name": "stdout",
     "output_type": "stream",
     "text": [
      "===== Current val loss: 0.1342828539589021, acc: 96.5350444225074% =====\n",
      "===== Current epoch: 88, spend time: 84.79224133491516 s, learning rate: 1.0000000000000006e-11 =====\n",
      "------------------------------------------------------------------------------------------------------------------------\n"
     ]
    },
    {
     "name": "stderr",
     "output_type": "stream",
     "text": [
      "100%|██████████| 634/634 [01:00<00:00, 10.51it/s]\n"
     ]
    },
    {
     "name": "stdout",
     "output_type": "stream",
     "text": [
      "===== Current train loss: 0.2536528465954949, acc: 91.964461994077% =====\n"
     ]
    },
    {
     "name": "stderr",
     "output_type": "stream",
     "text": [
      "100%|██████████| 634/634 [00:23<00:00, 27.43it/s]\n"
     ]
    },
    {
     "name": "stdout",
     "output_type": "stream",
     "text": [
      "===== Current val loss: 0.13404396399855614, acc: 96.99901283316879% =====\n",
      "===== Current epoch: 89, spend time: 83.99308896064758 s, learning rate: 1.0000000000000006e-11 =====\n",
      "------------------------------------------------------------------------------------------------------------------------\n"
     ]
    },
    {
     "name": "stderr",
     "output_type": "stream",
     "text": [
      "100%|██████████| 634/634 [01:01<00:00, 10.31it/s]\n"
     ]
    },
    {
     "name": "stdout",
     "output_type": "stream",
     "text": [
      "===== Current train loss: 0.2705862567196476, acc: 91.64856860809476% =====\n"
     ]
    },
    {
     "name": "stderr",
     "output_type": "stream",
     "text": [
      "100%|██████████| 634/634 [00:22<00:00, 27.64it/s]\n"
     ]
    },
    {
     "name": "stdout",
     "output_type": "stream",
     "text": [
      "===== Current val loss: 0.13814271143053797, acc: 96.3376110562685% =====\n",
      "===== Current epoch: 90, spend time: 84.70416212081909 s, learning rate: 1.0000000000000006e-12 =====\n",
      "------------------------------------------------------------------------------------------------------------------------\n"
     ]
    },
    {
     "name": "stderr",
     "output_type": "stream",
     "text": [
      "100%|██████████| 634/634 [01:00<00:00, 10.53it/s]\n"
     ]
    },
    {
     "name": "stdout",
     "output_type": "stream",
     "text": [
      "===== Current train loss: 0.2676025320649853, acc: 91.52023692003948% =====\n"
     ]
    },
    {
     "name": "stderr",
     "output_type": "stream",
     "text": [
      "100%|██████████| 634/634 [00:22<00:00, 27.69it/s]\n"
     ]
    },
    {
     "name": "stdout",
     "output_type": "stream",
     "text": [
      "===== Current val loss: 0.15037352059547662, acc: 96.18953603158933% =====\n",
      "===== Current epoch: 91, spend time: 83.33134698867798 s, learning rate: 1.0000000000000006e-12 =====\n",
      "------------------------------------------------------------------------------------------------------------------------\n"
     ]
    },
    {
     "name": "stderr",
     "output_type": "stream",
     "text": [
      "100%|██████████| 634/634 [00:59<00:00, 10.60it/s]\n"
     ]
    },
    {
     "name": "stdout",
     "output_type": "stream",
     "text": [
      "===== Current train loss: 0.2607815642229779, acc: 92.02369200394867% =====\n"
     ]
    },
    {
     "name": "stderr",
     "output_type": "stream",
     "text": [
      "100%|██████████| 634/634 [00:25<00:00, 25.29it/s]\n"
     ]
    },
    {
     "name": "stdout",
     "output_type": "stream",
     "text": [
      "===== Current val loss: 0.13493600605195435, acc: 96.7324777887463% =====\n",
      "===== Current epoch: 92, spend time: 85.13983368873596 s, learning rate: 1.0000000000000006e-12 =====\n",
      "------------------------------------------------------------------------------------------------------------------------\n"
     ]
    },
    {
     "name": "stderr",
     "output_type": "stream",
     "text": [
      "100%|██████████| 634/634 [01:00<00:00, 10.53it/s]\n"
     ]
    },
    {
     "name": "stdout",
     "output_type": "stream",
     "text": [
      "===== Current train loss: 0.2644846093795848, acc: 91.78677196446199% =====\n"
     ]
    },
    {
     "name": "stderr",
     "output_type": "stream",
     "text": [
      "100%|██████████| 634/634 [00:22<00:00, 28.03it/s]\n"
     ]
    },
    {
     "name": "stdout",
     "output_type": "stream",
     "text": [
      "===== Current val loss: 0.13493054170025418, acc: 96.83119447186573% =====\n",
      "===== Current epoch: 93, spend time: 83.10408282279968 s, learning rate: 1.0000000000000006e-12 =====\n",
      "------------------------------------------------------------------------------------------------------------------------\n"
     ]
    },
    {
     "name": "stderr",
     "output_type": "stream",
     "text": [
      "100%|██████████| 634/634 [00:59<00:00, 10.58it/s]\n"
     ]
    },
    {
     "name": "stdout",
     "output_type": "stream",
     "text": [
      "===== Current train loss: 0.26440408148040656, acc: 91.66831194471865% =====\n"
     ]
    },
    {
     "name": "stderr",
     "output_type": "stream",
     "text": [
      "100%|██████████| 634/634 [00:25<00:00, 24.91it/s]\n"
     ]
    },
    {
     "name": "stdout",
     "output_type": "stream",
     "text": [
      "===== Current val loss: 0.13814623791682698, acc: 96.47581441263573% =====\n",
      "===== Current epoch: 94, spend time: 85.62127947807312 s, learning rate: 1.0000000000000006e-12 =====\n",
      "------------------------------------------------------------------------------------------------------------------------\n"
     ]
    },
    {
     "name": "stderr",
     "output_type": "stream",
     "text": [
      "100%|██████████| 634/634 [01:00<00:00, 10.47it/s]\n"
     ]
    },
    {
     "name": "stdout",
     "output_type": "stream",
     "text": [
      "===== Current train loss: 0.2636097047341894, acc: 91.66831194471865% =====\n"
     ]
    },
    {
     "name": "stderr",
     "output_type": "stream",
     "text": [
      "100%|██████████| 634/634 [00:23<00:00, 27.13it/s]\n"
     ]
    },
    {
     "name": "stdout",
     "output_type": "stream",
     "text": [
      "===== Current val loss: 0.1523426229959797, acc: 95.77492596248766% =====\n",
      "===== Current epoch: 95, spend time: 84.18437790870667 s, learning rate: 1.0000000000000006e-12 =====\n",
      "------------------------------------------------------------------------------------------------------------------------\n"
     ]
    },
    {
     "name": "stderr",
     "output_type": "stream",
     "text": [
      "100%|██████████| 634/634 [01:00<00:00, 10.50it/s]\n"
     ]
    },
    {
     "name": "stdout",
     "output_type": "stream",
     "text": [
      "===== Current train loss: 0.2625327674769461, acc: 91.61895360315893% =====\n"
     ]
    },
    {
     "name": "stderr",
     "output_type": "stream",
     "text": [
      "100%|██████████| 634/634 [00:22<00:00, 27.66it/s]\n"
     ]
    },
    {
     "name": "stdout",
     "output_type": "stream",
     "text": [
      "===== Current val loss: 0.13819844938983805, acc: 96.49555774925962% =====\n",
      "===== Current epoch: 96, spend time: 83.94317722320557 s, learning rate: 1.0000000000000006e-12 =====\n",
      "------------------------------------------------------------------------------------------------------------------------\n"
     ]
    },
    {
     "name": "stderr",
     "output_type": "stream",
     "text": [
      "100%|██████████| 634/634 [01:01<00:00, 10.33it/s]\n"
     ]
    },
    {
     "name": "stdout",
     "output_type": "stream",
     "text": [
      "===== Current train loss: 0.26903469109170414, acc: 91.64856860809476% =====\n"
     ]
    },
    {
     "name": "stderr",
     "output_type": "stream",
     "text": [
      "100%|██████████| 634/634 [00:23<00:00, 27.11it/s]\n"
     ]
    },
    {
     "name": "stdout",
     "output_type": "stream",
     "text": [
      "===== Current val loss: 0.1393148369487717, acc: 96.46594274432378% =====\n",
      "===== Current epoch: 97, spend time: 84.97919797897339 s, learning rate: 1.0000000000000006e-12 =====\n",
      "------------------------------------------------------------------------------------------------------------------------\n"
     ]
    },
    {
     "name": "stderr",
     "output_type": "stream",
     "text": [
      "100%|██████████| 634/634 [01:00<00:00, 10.52it/s]\n"
     ]
    },
    {
     "name": "stdout",
     "output_type": "stream",
     "text": [
      "===== Current train loss: 0.2622998750751134, acc: 91.6781836130306% =====\n"
     ]
    },
    {
     "name": "stderr",
     "output_type": "stream",
     "text": [
      "100%|██████████| 634/634 [00:22<00:00, 28.06it/s]\n"
     ]
    },
    {
     "name": "stdout",
     "output_type": "stream",
     "text": [
      "===== Current val loss: 0.13486830664601873, acc: 96.47581441263573% =====\n",
      "===== Current epoch: 98, spend time: 83.09861731529236 s, learning rate: 1.0000000000000006e-12 =====\n",
      "------------------------------------------------------------------------------------------------------------------------\n"
     ]
    },
    {
     "name": "stderr",
     "output_type": "stream",
     "text": [
      "100%|██████████| 634/634 [01:00<00:00, 10.46it/s]\n"
     ]
    },
    {
     "name": "stdout",
     "output_type": "stream",
     "text": [
      "===== Current train loss: 0.26760598435512534, acc: 91.50049358341559% =====\n"
     ]
    },
    {
     "name": "stderr",
     "output_type": "stream",
     "text": [
      "100%|██████████| 634/634 [00:25<00:00, 24.63it/s]\n"
     ]
    },
    {
     "name": "stdout",
     "output_type": "stream",
     "text": [
      "===== Current val loss: 0.13797722083037428, acc: 96.72260612043435% =====\n",
      "===== Current epoch: 99, spend time: 86.62803864479065 s, learning rate: 1.0000000000000006e-12 =====\n",
      "------------------------------------------------------------------------------------------------------------------------\n"
     ]
    },
    {
     "name": "stderr",
     "output_type": "stream",
     "text": [
      "100%|██████████| 634/634 [01:00<00:00, 10.41it/s]\n"
     ]
    },
    {
     "name": "stdout",
     "output_type": "stream",
     "text": [
      "===== Current train loss: 0.2548367091310224, acc: 91.74728529121421% =====\n"
     ]
    },
    {
     "name": "stderr",
     "output_type": "stream",
     "text": [
      "100%|██████████| 634/634 [00:25<00:00, 24.59it/s]\n"
     ]
    },
    {
     "name": "stdout",
     "output_type": "stream",
     "text": [
      "===== Current val loss: 0.1380214623422872, acc: 96.6238894373149% =====\n",
      "===== Current epoch: 100, spend time: 87.01411509513855 s, learning rate: 1.0000000000000007e-13 =====\n",
      "------------------------------------------------------------------------------------------------------------------------\n"
     ]
    }
   ],
   "source": [
    "# 是否需要训练，因为模型以及训练过了，所以默认False\n",
    "need_train = False\n",
    "if need_train:\n",
    "    # 最大训练迭代\n",
    "    max_epoch = 100\n",
    "    # 学习率\n",
    "    learning_rate = 1e-3\n",
    "    # 使用用于n分类的 交叉熵 损失函数 https://pytorch.org/docs/stable/generated/torch.nn.CrossEntropyLoss.html#torch.nn.CrossEntropyLoss\n",
    "    loss_func = nn.CrossEntropyLoss().to(device)\n",
    "    # 使用Adam 调优器来进行自动调优，调整当前模型的所有参数，初始学习率为learning_rate\n",
    "    optimizer = optim.Adam(mobilenet_v2.parameters(), lr=learning_rate)\n",
    "    # 衰减学习率，每十步衰减至当前的10%\n",
    "    exp_lr_scheduler = lr_scheduler.StepLR(optimizer, step_size=10, gamma=0.1)\n",
    "    # 清理内存\n",
    "    if hasattr(torch.cuda, 'empty_cache'):\n",
    "        torch.cuda.empty_cache()\n",
    "    # 加载验证集读取器\n",
    "    val_dataset_loader = DataLoader(train_datasets, batch_size=batch_size_setting, shuffle=True)\n",
    "    train_model(mobilenet_v2, optimizer, exp_lr_scheduler, loss_func, max_epoch, dataset_loader, val_dataset_loader)"
   ],
   "metadata": {
    "collapsed": false,
    "pycharm": {
     "name": "#%%\n"
    }
   }
  },
  {
   "cell_type": "markdown",
   "source": [
    "# visualize\n",
    "We can use below command to watch the model and train data that we have saved just now.\n",
    "```xshell\n",
    "tensorboard --logdir='logs'\n",
    "```"
   ],
   "metadata": {
    "collapsed": false
   }
  },
  {
   "cell_type": "markdown",
   "source": [
    "# test model"
   ],
   "metadata": {
    "collapsed": false
   }
  },
  {
   "cell_type": "code",
   "execution_count": 26,
   "outputs": [
    {
     "name": "stdout",
     "output_type": "stream",
     "text": [
      "Current picture is not normalize format, since we need picture's shape whose CHW equals to (3, 320, 320), but now shape is torch.Size([3, 320, 320]), so drop it!\n",
      "Picture path: ./datasets\\imagenette-320\\test\\n02102040\\n02102040_173.JPEG\n",
      "Current picture is not normalize format, since we need picture's shape whose CHW equals to (3, 320, 320), but now shape is torch.Size([3, 320, 320]), so drop it!\n",
      "Picture path: ./datasets\\imagenette-320\\test\\n02102040\\n02102040_2149.JPEG\n",
      "Current picture is not normalize format, since we need picture's shape whose CHW equals to (3, 320, 320), but now shape is torch.Size([3, 320, 320]), so drop it!\n",
      "Picture path: ./datasets\\imagenette-320\\test\\n02102040\\n02102040_3183.JPEG\n",
      "Current picture is not normalize format, since we need picture's shape whose CHW equals to (3, 320, 320), but now shape is torch.Size([3, 320, 320]), so drop it!\n",
      "Picture path: ./datasets\\imagenette-320\\test\\n02102040\\n02102040_4070.JPEG\n",
      "Current picture is not normalize format, since we need picture's shape whose CHW equals to (3, 320, 320), but now shape is torch.Size([3, 320, 320]), so drop it!\n",
      "Picture path: ./datasets\\imagenette-320\\test\\n02979186\\n02979186_13722.JPEG\n",
      "Current picture is not normalize format, since we need picture's shape whose CHW equals to (3, 320, 320), but now shape is torch.Size([3, 320, 320]), so drop it!\n",
      "Picture path: ./datasets\\imagenette-320\\test\\n02979186\\n02979186_14758.JPEG\n",
      "Current picture is not normalize format, since we need picture's shape whose CHW equals to (3, 320, 320), but now shape is torch.Size([3, 320, 320]), so drop it!\n",
      "Picture path: ./datasets\\imagenette-320\\test\\n02979186\\n02979186_1587.JPEG\n",
      "Current picture is not normalize format, since we need picture's shape whose CHW equals to (3, 320, 320), but now shape is torch.Size([3, 320, 320]), so drop it!\n",
      "Picture path: ./datasets\\imagenette-320\\test\\n02979186\\n02979186_8971.JPEG\n",
      "Current picture is not normalize format, since we need picture's shape whose CHW equals to (3, 320, 320), but now shape is torch.Size([3, 320, 320]), so drop it!\n",
      "Picture path: ./datasets\\imagenette-320\\test\\n03000684\\n03000684_13255.JPEG\n",
      "Current picture is not normalize format, since we need picture's shape whose CHW equals to (3, 320, 320), but now shape is torch.Size([3, 320, 320]), so drop it!\n",
      "Picture path: ./datasets\\imagenette-320\\test\\n03000684\\n03000684_14043.JPEG\n",
      "Current picture is not normalize format, since we need picture's shape whose CHW equals to (3, 320, 320), but now shape is torch.Size([3, 320, 320]), so drop it!\n",
      "Picture path: ./datasets\\imagenette-320\\test\\n03000684\\n03000684_2220.JPEG\n",
      "Current picture is not normalize format, since we need picture's shape whose CHW equals to (3, 320, 320), but now shape is torch.Size([3, 320, 320]), so drop it!\n",
      "Picture path: ./datasets\\imagenette-320\\test\\n03000684\\n03000684_5243.JPEG\n",
      "Current picture is not normalize format, since we need picture's shape whose CHW equals to (3, 320, 320), but now shape is torch.Size([3, 320, 320]), so drop it!\n",
      "Picture path: ./datasets\\imagenette-320\\test\\n03028079\\n03028079_10014.JPEG\n",
      "Current picture is not normalize format, since we need picture's shape whose CHW equals to (3, 320, 320), but now shape is torch.Size([3, 320, 320]), so drop it!\n",
      "Picture path: ./datasets\\imagenette-320\\test\\n03028079\\n03028079_10576.JPEG\n",
      "Current picture is not normalize format, since we need picture's shape whose CHW equals to (3, 320, 320), but now shape is torch.Size([3, 320, 320]), so drop it!\n",
      "Picture path: ./datasets\\imagenette-320\\test\\n03028079\\n03028079_116072.JPEG\n",
      "Current picture is not normalize format, since we need picture's shape whose CHW equals to (3, 320, 320), but now shape is torch.Size([3, 320, 320]), so drop it!\n",
      "Picture path: ./datasets\\imagenette-320\\test\\n03028079\\n03028079_16705.JPEG\n",
      "Current picture is not normalize format, since we need picture's shape whose CHW equals to (3, 320, 320), but now shape is torch.Size([3, 320, 320]), so drop it!\n",
      "Picture path: ./datasets\\imagenette-320\\test\\n03028079\\n03028079_23510.JPEG\n",
      "Current picture is not normalize format, since we need picture's shape whose CHW equals to (3, 320, 320), but now shape is torch.Size([3, 320, 320]), so drop it!\n",
      "Picture path: ./datasets\\imagenette-320\\test\\n03028079\\n03028079_24681.JPEG\n",
      "Current picture is not normalize format, since we need picture's shape whose CHW equals to (3, 320, 320), but now shape is torch.Size([3, 320, 320]), so drop it!\n",
      "Picture path: ./datasets\\imagenette-320\\test\\n03028079\\n03028079_3362.JPEG\n",
      "Current picture is not normalize format, since we need picture's shape whose CHW equals to (3, 320, 320), but now shape is torch.Size([3, 320, 320]), so drop it!\n",
      "Picture path: ./datasets\\imagenette-320\\test\\n03028079\\n03028079_3956.JPEG\n",
      "Current picture is not normalize format, since we need picture's shape whose CHW equals to (3, 320, 320), but now shape is torch.Size([3, 320, 320]), so drop it!\n",
      "Picture path: ./datasets\\imagenette-320\\test\\n03028079\\n03028079_5484.JPEG\n",
      "Current picture is not normalize format, since we need picture's shape whose CHW equals to (3, 320, 320), but now shape is torch.Size([3, 320, 320]), so drop it!\n",
      "Picture path: ./datasets\\imagenette-320\\test\\n03028079\\n03028079_72470.JPEG\n",
      "Current picture is not normalize format, since we need picture's shape whose CHW equals to (3, 320, 320), but now shape is torch.Size([3, 320, 320]), so drop it!\n",
      "Picture path: ./datasets\\imagenette-320\\test\\n03028079\\n03028079_901.JPEG\n",
      "Current picture is not normalize format, since we need picture's shape whose CHW equals to (3, 320, 320), but now shape is torch.Size([3, 320, 320]), so drop it!\n",
      "Picture path: ./datasets\\imagenette-320\\test\\n03394916\\n03394916_2688.JPEG\n",
      "Current picture is not normalize format, since we need picture's shape whose CHW equals to (3, 320, 320), but now shape is torch.Size([3, 320, 320]), so drop it!\n",
      "Picture path: ./datasets\\imagenette-320\\test\\n03394916\\n03394916_35376.JPEG\n",
      "Current picture is not normalize format, since we need picture's shape whose CHW equals to (3, 320, 320), but now shape is torch.Size([3, 320, 320]), so drop it!\n",
      "Picture path: ./datasets\\imagenette-320\\test\\n03394916\\n03394916_3705.JPEG\n",
      "Current picture is not normalize format, since we need picture's shape whose CHW equals to (3, 320, 320), but now shape is torch.Size([3, 320, 320]), so drop it!\n",
      "Picture path: ./datasets\\imagenette-320\\test\\n03394916\\n03394916_37095.JPEG\n",
      "Current picture is not normalize format, since we need picture's shape whose CHW equals to (3, 320, 320), but now shape is torch.Size([3, 320, 320]), so drop it!\n",
      "Picture path: ./datasets\\imagenette-320\\test\\n03394916\\n03394916_37874.JPEG\n",
      "Current picture is not normalize format, since we need picture's shape whose CHW equals to (3, 320, 320), but now shape is torch.Size([3, 320, 320]), so drop it!\n",
      "Picture path: ./datasets\\imagenette-320\\test\\n03394916\\n03394916_40416.JPEG\n",
      "Current picture is not normalize format, since we need picture's shape whose CHW equals to (3, 320, 320), but now shape is torch.Size([3, 320, 320]), so drop it!\n",
      "Picture path: ./datasets\\imagenette-320\\test\\n03394916\\n03394916_41133.JPEG\n",
      "Current picture is not normalize format, since we need picture's shape whose CHW equals to (3, 320, 320), but now shape is torch.Size([3, 320, 320]), so drop it!\n",
      "Picture path: ./datasets\\imagenette-320\\test\\n03394916\\n03394916_42167.JPEG\n",
      "Current picture is not normalize format, since we need picture's shape whose CHW equals to (3, 320, 320), but now shape is torch.Size([3, 320, 320]), so drop it!\n",
      "Picture path: ./datasets\\imagenette-320\\test\\n03394916\\n03394916_45517.JPEG\n",
      "Current picture is not normalize format, since we need picture's shape whose CHW equals to (3, 320, 320), but now shape is torch.Size([3, 320, 320]), so drop it!\n",
      "Picture path: ./datasets\\imagenette-320\\test\\n03394916\\n03394916_4747.JPEG\n",
      "Current picture is not normalize format, since we need picture's shape whose CHW equals to (3, 320, 320), but now shape is torch.Size([3, 320, 320]), so drop it!\n",
      "Picture path: ./datasets\\imagenette-320\\test\\n03394916\\n03394916_57578.JPEG\n",
      "Current picture is not normalize format, since we need picture's shape whose CHW equals to (3, 320, 320), but now shape is torch.Size([3, 320, 320]), so drop it!\n",
      "Picture path: ./datasets\\imagenette-320\\test\\n03417042\\n03417042_2159.JPEG\n",
      "Current picture is not normalize format, since we need picture's shape whose CHW equals to (3, 320, 320), but now shape is torch.Size([3, 320, 320]), so drop it!\n",
      "Picture path: ./datasets\\imagenette-320\\test\\n03417042\\n03417042_27997.JPEG\n",
      "Current picture is not normalize format, since we need picture's shape whose CHW equals to (3, 320, 320), but now shape is torch.Size([3, 320, 320]), so drop it!\n",
      "Picture path: ./datasets\\imagenette-320\\test\\n03417042\\n03417042_3005.JPEG\n",
      "Current picture is not normalize format, since we need picture's shape whose CHW equals to (3, 320, 320), but now shape is torch.Size([3, 320, 320]), so drop it!\n",
      "Picture path: ./datasets\\imagenette-320\\test\\n03417042\\n03417042_7670.JPEG\n",
      "Current picture is not normalize format, since we need picture's shape whose CHW equals to (3, 320, 320), but now shape is torch.Size([3, 320, 320]), so drop it!\n",
      "Picture path: ./datasets\\imagenette-320\\test\\n03425413\\n03425413_13034.JPEG\n",
      "Current picture is not normalize format, since we need picture's shape whose CHW equals to (3, 320, 320), but now shape is torch.Size([3, 320, 320]), so drop it!\n",
      "Picture path: ./datasets\\imagenette-320\\test\\n03425413\\n03425413_19251.JPEG\n",
      "Current picture is not normalize format, since we need picture's shape whose CHW equals to (3, 320, 320), but now shape is torch.Size([3, 320, 320]), so drop it!\n",
      "Picture path: ./datasets\\imagenette-320\\test\\n03425413\\n03425413_20360.JPEG\n",
      "Current picture is not normalize format, since we need picture's shape whose CHW equals to (3, 320, 320), but now shape is torch.Size([3, 320, 320]), so drop it!\n",
      "Picture path: ./datasets\\imagenette-320\\test\\n03425413\\n03425413_20578.JPEG\n",
      "Current picture is not normalize format, since we need picture's shape whose CHW equals to (3, 320, 320), but now shape is torch.Size([3, 320, 320]), so drop it!\n",
      "Picture path: ./datasets\\imagenette-320\\test\\n03888257\\n03888257_40359.JPEG\n",
      "The size of the val_datasets: 2535\n"
     ]
    }
   ],
   "source": [
    "# 加载训练好的模型\n",
    "mobilenet_v2 = models.mobilenet_v2(pretrained=False, num_classes=10).to(device)\n",
    "mobilenet_v2.load_state_dict(torch.load(\"./imagenette_best_state\"))\n",
    "# 加载测试集\n",
    "test_datasets = Imagenette_320_Dataset(dataset_root_path, 'test', transformer=transformer)\n",
    "print(f\"The size of the val_datasets: {len(test_datasets)}\")\n",
    "test_loader = DataLoader(test_datasets, batch_size=batch_size_setting, shuffle=True)"
   ],
   "metadata": {
    "collapsed": false,
    "pycharm": {
     "name": "#%%\n"
    }
   }
  },
  {
   "cell_type": "code",
   "execution_count": 27,
   "outputs": [],
   "source": [
    "def imshow(inp, title=None):\n",
    "    \"\"\"Imshow for Tensor.\"\"\"\n",
    "    inp = inp.numpy().transpose((1, 2, 0))\n",
    "    mean = np.array([0.485, 0.456, 0.406])\n",
    "    std = np.array([0.229, 0.224, 0.225])\n",
    "    inp = std * inp + mean\n",
    "    inp = np.clip(inp, 0, 1)\n",
    "    plt.imshow(inp)\n",
    "    if title is not None:\n",
    "        plt.title(title)\n",
    "    plt.pause(0.001)  # pause a bit so that plots are updated\n",
    "\n",
    "\n",
    "def visualize_model(model, num_images=6):\n",
    "    model.eval()\n",
    "    images_so_far = 0\n",
    "    with torch.no_grad():\n",
    "        for i, (inputs, labels) in enumerate(test_loader):\n",
    "            inputs = inputs.to(device)\n",
    "\n",
    "            outputs = model(inputs)\n",
    "            _, preds = torch.max(outputs, 1)\n",
    "\n",
    "            for j in range(inputs.size()[0]):\n",
    "                images_so_far += 1\n",
    "                if images_so_far > num_images:\n",
    "                    break\n",
    "                ax = plt.subplot(num_images // 2, 2, images_so_far)\n",
    "                ax.axis('off')\n",
    "                ax.set_title('predicted: {}'.format(Imagenette_320_Dataset.map_to_name(int(preds[j]))))\n",
    "                imshow(inputs.cpu().data[j])"
   ],
   "metadata": {
    "collapsed": false,
    "pycharm": {
     "name": "#%%\n"
    }
   }
  },
  {
   "cell_type": "code",
   "execution_count": 36,
   "outputs": [
    {
     "data": {
      "text/plain": "<Figure size 432x288 with 1 Axes>",
      "image/png": "[encoded data removed]"
     },
     "metadata": {
      "needs_background": "light"
     },
     "output_type": "display_data"
    },
    {
     "data": {
      "text/plain": "<Figure size 432x288 with 1 Axes>",
      "image/png": "[encoded data removed]"
     },
     "metadata": {
      "needs_background": "light"
     },
     "output_type": "display_data"
    },
    {
     "data": {
      "text/plain": "<Figure size 432x288 with 1 Axes>",
      "image/png": "[encoded data removed]"
     },
     "metadata": {
      "needs_background": "light"
     },
     "output_type": "display_data"
    },
    {
     "data": {
      "text/plain": "<Figure size 432x288 with 1 Axes>",
      "image/png": "[encoded data removed]"
     },
     "metadata": {
      "needs_background": "light"
     },
     "output_type": "display_data"
    },
    {
     "data": {
      "text/plain": "<Figure size 432x288 with 1 Axes>",
      "image/png": "[encoded data removed]"
     },
     "metadata": {
      "needs_background": "light"
     },
     "output_type": "display_data"
    },
    {
     "data": {
      "text/plain": "<Figure size 432x288 with 1 Axes>",
      "image/png": "[encoded data removed]"
     },
     "metadata": {
      "needs_background": "light"
     },
     "output_type": "display_data"
    }
   ],
   "source": [
    "visualize_model(mobilenet_v2)  # all correct"
   ],
   "metadata": {
    "collapsed": false,
    "pycharm": {
     "name": "#%%\n"
    }
   }
  },
  {
   "cell_type": "markdown",
   "source": [
    "# Comparing with official model\n",
    "\n",
    "**official model works on 1000 classes, so I think my model's criterion will be better than it**"
   ],
   "metadata": {
    "collapsed": false
   }
  },
  {
   "cell_type": "code",
   "execution_count": 35,
   "outputs": [
    {
     "data": {
      "text/plain": "<All keys matched successfully>"
     },
     "execution_count": 35,
     "metadata": {},
     "output_type": "execute_result"
    }
   ],
   "source": [
    "# 下载官方模型\n",
    "official_model = models.mobilenet_v2(pretrained=True).to(device)\n",
    "# 加载自己的模型\n",
    "my_model = models.mobilenet_v2(pretrained=False, num_classes=10).to(device)\n",
    "my_model.load_state_dict(torch.load(\"./imagenette_best_state\"))"
   ],
   "metadata": {
    "collapsed": false,
    "pycharm": {
     "name": "#%%\n"
    }
   }
  },
  {
   "cell_type": "markdown",
   "source": [
    "## For discovering official model's label about our test dataset,I need do preparations"
   ],
   "metadata": {
    "collapsed": false
   }
  },
  {
   "cell_type": "code",
   "execution_count": 56,
   "outputs": [],
   "source": [
    "def find_official_model_labels(model):\n",
    "    model.eval()\n",
    "    index = 0\n",
    "    pre_dict = {\n",
    "        'Tench': {},\n",
    "        'English springer': {},\n",
    "        'Cassette player': {},\n",
    "        'Chain saw': {},\n",
    "        'Church': {},\n",
    "        'French horn': {},\n",
    "        'Garbage truck': {},\n",
    "        'Gas pump': {},\n",
    "        'Golf ball': {},\n",
    "        'Parachute': {},\n",
    "    }\n",
    "    with torch.no_grad():\n",
    "        for i, (inputs, labels) in enumerate(test_loader):\n",
    "            inputs = inputs.to(device)\n",
    "            outputs = model(inputs)\n",
    "            _, preds = torch.max(outputs, 1)\n",
    "\n",
    "            for j in range(inputs.size()[0]):\n",
    "                index += 1\n",
    "                real_label = Imagenette_320_Dataset.map_to_name(int(labels.data[j]))\n",
    "                pre_num = int(preds[j])\n",
    "                print(f'Predicted num: {pre_num}, Real label: {real_label}')\n",
    "                p = pre_dict[real_label]\n",
    "                if pre_num in p.keys():\n",
    "                    numbers = p[pre_num] + 1\n",
    "                else:\n",
    "                    numbers = 1\n",
    "                pre_dict[real_label].update({pre_num: numbers})\n",
    "\n",
    "    return pre_dict"
   ],
   "metadata": {
    "collapsed": false,
    "pycharm": {
     "name": "#%%\n"
    }
   }
  },
  {
   "cell_type": "code",
   "execution_count": 60,
   "outputs": [
    {
     "name": "stdout",
     "output_type": "stream",
     "text": [
      "Predicted num: 569, Real label: Garbage truck\n",
      "Predicted num: 80, Real label: English springer\n",
      "Predicted num: 996, Real label: Gas pump\n",
      "Predicted num: 701, Real label: Parachute\n",
      "Predicted num: 217, Real label: English springer\n",
      "Predicted num: 217, Real label: English springer\n",
      "Predicted num: 571, Real label: Gas pump\n",
      "Predicted num: 491, Real label: Chain saw\n",
      "Predicted num: 569, Real label: Garbage truck\n",
      "Predicted num: 217, Real label: English springer\n",
      "Predicted num: 701, Real label: Parachute\n",
      "Predicted num: 571, Real label: Gas pump\n",
      "Predicted num: 566, Real label: French horn\n",
      "Predicted num: 574, Real label: Golf ball\n",
      "Predicted num: 217, Real label: English springer\n",
      "Predicted num: 217, Real label: English springer\n",
      "Predicted num: 0, Real label: Tench\n",
      "Predicted num: 566, Real label: French horn\n",
      "Predicted num: 116, Real label: Golf ball\n",
      "Predicted num: 754, Real label: Cassette player\n",
      "Predicted num: 497, Real label: Church\n",
      "Predicted num: 482, Real label: Cassette player\n",
      "Predicted num: 701, Real label: Parachute\n",
      "Predicted num: 401, Real label: Chain saw\n",
      "Predicted num: 497, Real label: Church\n",
      "Predicted num: 566, Real label: French horn\n",
      "Predicted num: 848, Real label: Cassette player\n",
      "Predicted num: 566, Real label: French horn\n",
      "Predicted num: 566, Real label: French horn\n",
      "Predicted num: 571, Real label: Gas pump\n",
      "Predicted num: 566, Real label: French horn\n",
      "Predicted num: 634, Real label: Chain saw\n",
      "Predicted num: 0, Real label: Tench\n",
      "Predicted num: 663, Real label: Church\n",
      "Predicted num: 217, Real label: English springer\n",
      "Predicted num: 574, Real label: Golf ball\n",
      "Predicted num: 549, Real label: Parachute\n",
      "Predicted num: 491, Real label: Chain saw\n",
      "Predicted num: 574, Real label: Golf ball\n",
      "Predicted num: 574, Real label: Golf ball\n",
      "Predicted num: 497, Real label: Church\n",
      "Predicted num: 571, Real label: Gas pump\n",
      "Predicted num: 701, Real label: Parachute\n",
      "Predicted num: 566, Real label: French horn\n",
      "Predicted num: 0, Real label: Tench\n",
      "Predicted num: 0, Real label: Tench\n",
      "Predicted num: 212, Real label: English springer\n",
      "Predicted num: 571, Real label: Gas pump\n",
      "Predicted num: 210, Real label: English springer\n",
      "Predicted num: 0, Real label: Tench\n",
      "Predicted num: 481, Real label: Cassette player\n",
      "Predicted num: 0, Real label: Tench\n",
      "Predicted num: 492, Real label: Church\n",
      "Predicted num: 491, Real label: Chain saw\n",
      "Predicted num: 0, Real label: Tench\n",
      "Predicted num: 0, Real label: Tench\n",
      "Predicted num: 497, Real label: Church\n",
      "Predicted num: 571, Real label: Gas pump\n",
      "Predicted num: 571, Real label: Gas pump\n",
      "Predicted num: 571, Real label: Gas pump\n",
      "Predicted num: 848, Real label: Cassette player\n",
      "Predicted num: 574, Real label: Golf ball\n",
      "Predicted num: 566, Real label: French horn\n",
      "Predicted num: 867, Real label: Gas pump\n",
      "Predicted num: 574, Real label: Golf ball\n",
      "Predicted num: 197, Real label: English springer\n",
      "Predicted num: 219, Real label: English springer\n",
      "Predicted num: 566, Real label: French horn\n",
      "Predicted num: 977, Real label: Parachute\n",
      "Predicted num: 491, Real label: Chain saw\n",
      "Predicted num: 701, Real label: Parachute\n",
      "Predicted num: 217, Real label: English springer\n",
      "Predicted num: 701, Real label: Parachute\n",
      "Predicted num: 482, Real label: Cassette player\n",
      "Predicted num: 491, Real label: Chain saw\n",
      "Predicted num: 771, Real label: Gas pump\n",
      "Predicted num: 566, Real label: French horn\n",
      "Predicted num: 701, Real label: Parachute\n",
      "Predicted num: 569, Real label: Garbage truck\n",
      "Predicted num: 574, Real label: Golf ball\n",
      "Predicted num: 0, Real label: Tench\n",
      "Predicted num: 757, Real label: Garbage truck\n",
      "Predicted num: 574, Real label: Golf ball\n",
      "Predicted num: 574, Real label: Golf ball\n",
      "Predicted num: 0, Real label: Tench\n",
      "Predicted num: 217, Real label: English springer\n",
      "Predicted num: 566, Real label: French horn\n",
      "Predicted num: 848, Real label: Cassette player\n",
      "Predicted num: 701, Real label: Parachute\n",
      "Predicted num: 980, Real label: Parachute\n",
      "Predicted num: 701, Real label: Parachute\n",
      "Predicted num: 481, Real label: Cassette player\n",
      "Predicted num: 571, Real label: Gas pump\n",
      "Predicted num: 491, Real label: Chain saw\n",
      "Predicted num: 574, Real label: Golf ball\n",
      "Predicted num: 571, Real label: Gas pump\n",
      "Predicted num: 574, Real label: Golf ball\n",
      "Predicted num: 574, Real label: Golf ball\n",
      "Predicted num: 848, Real label: Cassette player\n",
      "Predicted num: 0, Real label: Tench\n",
      "Predicted num: 0, Real label: Tench\n",
      "Predicted num: 701, Real label: Parachute\n",
      "Predicted num: 217, Real label: English springer\n",
      "Predicted num: 655, Real label: Gas pump\n",
      "Predicted num: 574, Real label: Golf ball\n",
      "Predicted num: 569, Real label: Garbage truck\n",
      "Predicted num: 571, Real label: Gas pump\n",
      "Predicted num: 217, Real label: English springer\n",
      "Predicted num: 264, Real label: English springer\n",
      "Predicted num: 701, Real label: Parachute\n",
      "Predicted num: 536, Real label: Church\n",
      "Predicted num: 574, Real label: Golf ball\n",
      "Predicted num: 701, Real label: Parachute\n",
      "Predicted num: 491, Real label: Chain saw\n",
      "Predicted num: 754, Real label: Cassette player\n",
      "Predicted num: 574, Real label: Golf ball\n",
      "Predicted num: 491, Real label: Chain saw\n",
      "Predicted num: 0, Real label: Tench\n",
      "Predicted num: 491, Real label: Chain saw\n",
      "Predicted num: 217, Real label: English springer\n",
      "Predicted num: 482, Real label: Cassette player\n",
      "Predicted num: 569, Real label: Garbage truck\n",
      "Predicted num: 468, Real label: Garbage truck\n",
      "Predicted num: 701, Real label: Parachute\n",
      "Predicted num: 754, Real label: Cassette player\n",
      "Predicted num: 566, Real label: French horn\n",
      "Predicted num: 497, Real label: Church\n",
      "Predicted num: 574, Real label: Golf ball\n",
      "Predicted num: 217, Real label: English springer\n",
      "Predicted num: 217, Real label: English springer\n",
      "Predicted num: 574, Real label: Golf ball\n",
      "Predicted num: 482, Real label: Cassette player\n",
      "Predicted num: 569, Real label: Garbage truck\n",
      "Predicted num: 571, Real label: Gas pump\n",
      "Predicted num: 217, Real label: English springer\n",
      "Predicted num: 497, Real label: Church\n",
      "Predicted num: 574, Real label: Golf ball\n",
      "Predicted num: 848, Real label: Cassette player\n",
      "Predicted num: 574, Real label: Golf ball\n",
      "Predicted num: 566, Real label: French horn\n",
      "Predicted num: 701, Real label: Parachute\n",
      "Predicted num: 481, Real label: Cassette player\n",
      "Predicted num: 425, Real label: Church\n",
      "Predicted num: 571, Real label: Gas pump\n",
      "Predicted num: 217, Real label: English springer\n",
      "Predicted num: 497, Real label: Church\n",
      "Predicted num: 0, Real label: Tench\n",
      "Predicted num: 569, Real label: Garbage truck\n",
      "Predicted num: 0, Real label: Tench\n",
      "Predicted num: 663, Real label: Church\n",
      "Predicted num: 217, Real label: English springer\n",
      "Predicted num: 0, Real label: Tench\n",
      "Predicted num: 976, Real label: Church\n",
      "Predicted num: 491, Real label: Chain saw\n",
      "Predicted num: 571, Real label: Gas pump\n",
      "Predicted num: 497, Real label: Church\n",
      "Predicted num: 0, Real label: Tench\n",
      "Predicted num: 701, Real label: Parachute\n",
      "Predicted num: 0, Real label: Tench\n",
      "Predicted num: 571, Real label: Gas pump\n",
      "Predicted num: 701, Real label: Parachute\n",
      "Predicted num: 217, Real label: English springer\n",
      "Predicted num: 569, Real label: Garbage truck\n",
      "Predicted num: 413, Real label: Chain saw\n",
      "Predicted num: 481, Real label: Cassette player\n",
      "Predicted num: 442, Real label: Church\n",
      "Predicted num: 425, Real label: Church\n",
      "Predicted num: 482, Real label: Cassette player\n",
      "Predicted num: 566, Real label: French horn\n",
      "Predicted num: 497, Real label: Church\n",
      "Predicted num: 675, Real label: Garbage truck\n",
      "Predicted num: 571, Real label: Gas pump\n",
      "Predicted num: 884, Real label: Church\n",
      "Predicted num: 497, Real label: Church\n",
      "Predicted num: 217, Real label: English springer\n",
      "Predicted num: 566, Real label: French horn\n",
      "Predicted num: 701, Real label: Parachute\n",
      "Predicted num: 491, Real label: Chain saw\n",
      "Predicted num: 0, Real label: Tench\n",
      "Predicted num: 566, Real label: French horn\n",
      "Predicted num: 0, Real label: Tench\n",
      "Predicted num: 569, Real label: Garbage truck\n",
      "Predicted num: 491, Real label: Chain saw\n",
      "Predicted num: 497, Real label: Church\n",
      "Predicted num: 571, Real label: Gas pump\n",
      "Predicted num: 569, Real label: Garbage truck\n",
      "Predicted num: 0, Real label: Tench\n",
      "Predicted num: 406, Real label: Church\n",
      "Predicted num: 727, Real label: Golf ball\n",
      "Predicted num: 217, Real label: English springer\n",
      "Predicted num: 701, Real label: Parachute\n",
      "Predicted num: 574, Real label: Golf ball\n",
      "Predicted num: 491, Real label: Chain saw\n",
      "Predicted num: 663, Real label: Church\n",
      "Predicted num: 491, Real label: Chain saw\n",
      "Predicted num: 764, Real label: Chain saw\n",
      "Predicted num: 482, Real label: Cassette player\n",
      "Predicted num: 491, Real label: Chain saw\n",
      "Predicted num: 485, Real label: Cassette player\n",
      "Predicted num: 574, Real label: Golf ball\n",
      "Predicted num: 574, Real label: Golf ball\n",
      "Predicted num: 0, Real label: Tench\n",
      "Predicted num: 654, Real label: Garbage truck\n",
      "Predicted num: 482, Real label: Cassette player\n",
      "Predicted num: 0, Real label: Tench\n",
      "Predicted num: 574, Real label: Golf ball\n",
      "Predicted num: 497, Real label: Church\n",
      "Predicted num: 848, Real label: Cassette player\n",
      "Predicted num: 217, Real label: English springer\n",
      "Predicted num: 687, Real label: Church\n",
      "Predicted num: 0, Real label: Tench\n",
      "Predicted num: 482, Real label: Cassette player\n",
      "Predicted num: 0, Real label: Tench\n",
      "Predicted num: 569, Real label: Garbage truck\n",
      "Predicted num: 571, Real label: Gas pump\n",
      "Predicted num: 217, Real label: English springer\n",
      "Predicted num: 497, Real label: Church\n",
      "Predicted num: 491, Real label: Chain saw\n",
      "Predicted num: 634, Real label: Gas pump\n",
      "Predicted num: 571, Real label: Gas pump\n",
      "Predicted num: 566, Real label: French horn\n",
      "Predicted num: 571, Real label: Gas pump\n",
      "Predicted num: 491, Real label: Chain saw\n",
      "Predicted num: 574, Real label: Golf ball\n",
      "Predicted num: 0, Real label: Tench\n",
      "Predicted num: 701, Real label: Parachute\n",
      "Predicted num: 569, Real label: Garbage truck\n",
      "Predicted num: 848, Real label: Cassette player\n",
      "Predicted num: 569, Real label: Garbage truck\n",
      "Predicted num: 566, Real label: French horn\n",
      "Predicted num: 217, Real label: English springer\n",
      "Predicted num: 569, Real label: Garbage truck\n",
      "Predicted num: 569, Real label: Garbage truck\n",
      "Predicted num: 217, Real label: English springer\n",
      "Predicted num: 217, Real label: English springer\n",
      "Predicted num: 0, Real label: Tench\n",
      "Predicted num: 663, Real label: Church\n",
      "Predicted num: 0, Real label: Tench\n",
      "Predicted num: 0, Real label: Tench\n",
      "Predicted num: 482, Real label: Cassette player\n",
      "Predicted num: 497, Real label: Church\n",
      "Predicted num: 566, Real label: French horn\n",
      "Predicted num: 574, Real label: Golf ball\n",
      "Predicted num: 217, Real label: English springer\n",
      "Predicted num: 701, Real label: Parachute\n",
      "Predicted num: 530, Real label: Cassette player\n",
      "Predicted num: 497, Real label: Church\n",
      "Predicted num: 491, Real label: Chain saw\n",
      "Predicted num: 574, Real label: Golf ball\n",
      "Predicted num: 803, Real label: Garbage truck\n",
      "Predicted num: 176, Real label: English springer\n",
      "Predicted num: 406, Real label: Church\n",
      "Predicted num: 569, Real label: Garbage truck\n",
      "Predicted num: 217, Real label: English springer\n",
      "Predicted num: 491, Real label: Chain saw\n",
      "Predicted num: 851, Real label: Parachute\n",
      "Predicted num: 574, Real label: Golf ball\n",
      "Predicted num: 698, Real label: Church\n",
      "Predicted num: 497, Real label: Church\n",
      "Predicted num: 497, Real label: Church\n",
      "Predicted num: 569, Real label: Garbage truck\n",
      "Predicted num: 566, Real label: French horn\n",
      "Predicted num: 491, Real label: Chain saw\n",
      "Predicted num: 491, Real label: Chain saw\n",
      "Predicted num: 491, Real label: Chain saw\n",
      "Predicted num: 569, Real label: Garbage truck\n",
      "Predicted num: 701, Real label: Parachute\n",
      "Predicted num: 217, Real label: English springer\n",
      "Predicted num: 569, Real label: Garbage truck\n",
      "Predicted num: 497, Real label: Church\n",
      "Predicted num: 0, Real label: Tench\n",
      "Predicted num: 569, Real label: Garbage truck\n",
      "Predicted num: 491, Real label: Chain saw\n",
      "Predicted num: 840, Real label: Gas pump\n",
      "Predicted num: 217, Real label: English springer\n",
      "Predicted num: 574, Real label: Golf ball\n",
      "Predicted num: 674, Real label: Cassette player\n",
      "Predicted num: 0, Real label: Tench\n",
      "Predicted num: 491, Real label: Chain saw\n",
      "Predicted num: 497, Real label: Church\n",
      "Predicted num: 844, Real label: Cassette player\n",
      "Predicted num: 754, Real label: Cassette player\n",
      "Predicted num: 701, Real label: Parachute\n",
      "Predicted num: 571, Real label: Gas pump\n",
      "Predicted num: 217, Real label: English springer\n",
      "Predicted num: 574, Real label: Golf ball\n",
      "Predicted num: 566, Real label: French horn\n",
      "Predicted num: 683, Real label: French horn\n",
      "Predicted num: 566, Real label: French horn\n",
      "Predicted num: 571, Real label: Gas pump\n",
      "Predicted num: 217, Real label: English springer\n",
      "Predicted num: 217, Real label: English springer\n",
      "Predicted num: 0, Real label: Tench\n",
      "Predicted num: 570, Real label: Cassette player\n",
      "Predicted num: 574, Real label: Golf ball\n",
      "Predicted num: 482, Real label: Cassette player\n",
      "Predicted num: 217, Real label: English springer\n",
      "Predicted num: 0, Real label: Tench\n",
      "Predicted num: 491, Real label: Chain saw\n",
      "Predicted num: 601, Real label: Chain saw\n",
      "Predicted num: 569, Real label: Garbage truck\n",
      "Predicted num: 571, Real label: Gas pump\n",
      "Predicted num: 757, Real label: Garbage truck\n",
      "Predicted num: 217, Real label: English springer\n",
      "Predicted num: 566, Real label: French horn\n",
      "Predicted num: 574, Real label: Golf ball\n",
      "Predicted num: 548, Real label: Cassette player\n",
      "Predicted num: 884, Real label: Church\n",
      "Predicted num: 548, Real label: Cassette player\n",
      "Predicted num: 482, Real label: Cassette player\n",
      "Predicted num: 569, Real label: Garbage truck\n",
      "Predicted num: 571, Real label: Gas pump\n",
      "Predicted num: 574, Real label: Golf ball\n",
      "Predicted num: 569, Real label: Garbage truck\n",
      "Predicted num: 571, Real label: Gas pump\n",
      "Predicted num: 574, Real label: Golf ball\n",
      "Predicted num: 215, Real label: English springer\n",
      "Predicted num: 701, Real label: Parachute\n",
      "Predicted num: 562, Real label: Golf ball\n",
      "Predicted num: 497, Real label: Church\n",
      "Predicted num: 0, Real label: Tench\n",
      "Predicted num: 491, Real label: Chain saw\n",
      "Predicted num: 406, Real label: Church\n",
      "Predicted num: 491, Real label: Chain saw\n",
      "Predicted num: 701, Real label: Parachute\n",
      "Predicted num: 848, Real label: Cassette player\n",
      "Predicted num: 566, Real label: French horn\n",
      "Predicted num: 848, Real label: Cassette player\n",
      "Predicted num: 569, Real label: Garbage truck\n",
      "Predicted num: 566, Real label: French horn\n",
      "Predicted num: 491, Real label: Chain saw\n",
      "Predicted num: 491, Real label: Chain saw\n",
      "Predicted num: 482, Real label: Cassette player\n",
      "Predicted num: 497, Real label: Church\n",
      "Predicted num: 491, Real label: Chain saw\n",
      "Predicted num: 217, Real label: English springer\n",
      "Predicted num: 865, Real label: Chain saw\n",
      "Predicted num: 569, Real label: Garbage truck\n",
      "Predicted num: 571, Real label: Gas pump\n",
      "Predicted num: 571, Real label: Gas pump\n",
      "Predicted num: 569, Real label: Garbage truck\n",
      "Predicted num: 482, Real label: Cassette player\n",
      "Predicted num: 574, Real label: Golf ball\n",
      "Predicted num: 571, Real label: Gas pump\n",
      "Predicted num: 574, Real label: Golf ball\n",
      "Predicted num: 172, Real label: English springer\n",
      "Predicted num: 571, Real label: Gas pump\n",
      "Predicted num: 132, Real label: Golf ball\n",
      "Predicted num: 482, Real label: Cassette player\n",
      "Predicted num: 571, Real label: Gas pump\n",
      "Predicted num: 406, Real label: Church\n",
      "Predicted num: 651, Real label: Cassette player\n",
      "Predicted num: 574, Real label: Golf ball\n",
      "Predicted num: 217, Real label: English springer\n",
      "Predicted num: 566, Real label: French horn\n",
      "Predicted num: 482, Real label: Cassette player\n",
      "Predicted num: 571, Real label: Gas pump\n",
      "Predicted num: 600, Real label: Gas pump\n",
      "Predicted num: 569, Real label: Garbage truck\n",
      "Predicted num: 217, Real label: English springer\n",
      "Predicted num: 217, Real label: English springer\n",
      "Predicted num: 701, Real label: Parachute\n",
      "Predicted num: 217, Real label: English springer\n",
      "Predicted num: 569, Real label: Garbage truck\n",
      "Predicted num: 217, Real label: English springer\n",
      "Predicted num: 491, Real label: Chain saw\n",
      "Predicted num: 491, Real label: Chain saw\n",
      "Predicted num: 571, Real label: Gas pump\n",
      "Predicted num: 574, Real label: Golf ball\n",
      "Predicted num: 477, Real label: Chain saw\n",
      "Predicted num: 432, Real label: French horn\n",
      "Predicted num: 754, Real label: Cassette player\n",
      "Predicted num: 569, Real label: Garbage truck\n",
      "Predicted num: 571, Real label: Gas pump\n",
      "Predicted num: 566, Real label: French horn\n",
      "Predicted num: 217, Real label: English springer\n",
      "Predicted num: 491, Real label: Chain saw\n",
      "Predicted num: 217, Real label: English springer\n",
      "Predicted num: 701, Real label: Parachute\n",
      "Predicted num: 217, Real label: English springer\n",
      "Predicted num: 482, Real label: Cassette player\n",
      "Predicted num: 569, Real label: Garbage truck\n",
      "Predicted num: 569, Real label: Garbage truck\n",
      "Predicted num: 571, Real label: Gas pump\n",
      "Predicted num: 571, Real label: Gas pump\n",
      "Predicted num: 0, Real label: Tench\n",
      "Predicted num: 571, Real label: Gas pump\n",
      "Predicted num: 491, Real label: Chain saw\n",
      "Predicted num: 491, Real label: Chain saw\n",
      "Predicted num: 632, Real label: Cassette player\n",
      "Predicted num: 491, Real label: Chain saw\n",
      "Predicted num: 0, Real label: Tench\n",
      "Predicted num: 217, Real label: English springer\n",
      "Predicted num: 569, Real label: Garbage truck\n",
      "Predicted num: 566, Real label: French horn\n",
      "Predicted num: 701, Real label: Parachute\n",
      "Predicted num: 0, Real label: Tench\n",
      "Predicted num: 456, Real label: Chain saw\n",
      "Predicted num: 491, Real label: Chain saw\n",
      "Predicted num: 0, Real label: Tench\n",
      "Predicted num: 701, Real label: Parachute\n",
      "Predicted num: 571, Real label: Gas pump\n",
      "Predicted num: 497, Real label: Church\n",
      "Predicted num: 848, Real label: Cassette player\n",
      "Predicted num: 895, Real label: Parachute\n",
      "Predicted num: 571, Real label: Gas pump\n",
      "Predicted num: 491, Real label: Chain saw\n",
      "Predicted num: 395, Real label: Tench\n",
      "Predicted num: 701, Real label: Parachute\n",
      "Predicted num: 491, Real label: Chain saw\n",
      "Predicted num: 701, Real label: Parachute\n",
      "Predicted num: 566, Real label: French horn\n",
      "Predicted num: 0, Real label: Tench\n",
      "Predicted num: 701, Real label: Parachute\n",
      "Predicted num: 497, Real label: Church\n",
      "Predicted num: 0, Real label: Tench\n",
      "Predicted num: 574, Real label: Golf ball\n",
      "Predicted num: 232, Real label: English springer\n",
      "Predicted num: 360, Real label: English springer\n",
      "Predicted num: 978, Real label: Garbage truck\n",
      "Predicted num: 497, Real label: Church\n",
      "Predicted num: 497, Real label: Church\n",
      "Predicted num: 571, Real label: Gas pump\n",
      "Predicted num: 574, Real label: Golf ball\n",
      "Predicted num: 574, Real label: Golf ball\n",
      "Predicted num: 497, Real label: Church\n",
      "Predicted num: 574, Real label: Golf ball\n",
      "Predicted num: 571, Real label: Gas pump\n",
      "Predicted num: 571, Real label: Gas pump\n",
      "Predicted num: 701, Real label: Parachute\n",
      "Predicted num: 166, Real label: English springer\n",
      "Predicted num: 884, Real label: Church\n",
      "Predicted num: 655, Real label: French horn\n",
      "Predicted num: 569, Real label: Garbage truck\n",
      "Predicted num: 566, Real label: French horn\n",
      "Predicted num: 0, Real label: Tench\n",
      "Predicted num: 571, Real label: Gas pump\n",
      "Predicted num: 482, Real label: Cassette player\n",
      "Predicted num: 632, Real label: Cassette player\n",
      "Predicted num: 571, Real label: Gas pump\n",
      "Predicted num: 217, Real label: English springer\n",
      "Predicted num: 491, Real label: Chain saw\n",
      "Predicted num: 574, Real label: Golf ball\n",
      "Predicted num: 574, Real label: Golf ball\n",
      "Predicted num: 432, Real label: French horn\n",
      "Predicted num: 574, Real label: Golf ball\n",
      "Predicted num: 566, Real label: French horn\n",
      "Predicted num: 701, Real label: Parachute\n",
      "Predicted num: 569, Real label: Garbage truck\n",
      "Predicted num: 0, Real label: Tench\n",
      "Predicted num: 754, Real label: Cassette player\n",
      "Predicted num: 701, Real label: Parachute\n",
      "Predicted num: 574, Real label: Golf ball\n",
      "Predicted num: 0, Real label: Tench\n",
      "Predicted num: 217, Real label: English springer\n",
      "Predicted num: 0, Real label: Tench\n",
      "Predicted num: 0, Real label: Tench\n",
      "Predicted num: 701, Real label: Parachute\n",
      "Predicted num: 848, Real label: Cassette player\n",
      "Predicted num: 497, Real label: Church\n",
      "Predicted num: 701, Real label: Parachute\n",
      "Predicted num: 889, Real label: Chain saw\n",
      "Predicted num: 491, Real label: Chain saw\n",
      "Predicted num: 574, Real label: Golf ball\n",
      "Predicted num: 497, Real label: Church\n",
      "Predicted num: 561, Real label: Garbage truck\n",
      "Predicted num: 0, Real label: Tench\n",
      "Predicted num: 994, Real label: Golf ball\n",
      "Predicted num: 571, Real label: Gas pump\n",
      "Predicted num: 571, Real label: Gas pump\n",
      "Predicted num: 574, Real label: Golf ball\n",
      "Predicted num: 848, Real label: Cassette player\n",
      "Predicted num: 569, Real label: Garbage truck\n",
      "Predicted num: 0, Real label: Tench\n",
      "Predicted num: 571, Real label: Gas pump\n",
      "Predicted num: 566, Real label: French horn\n",
      "Predicted num: 978, Real label: Parachute\n",
      "Predicted num: 566, Real label: French horn\n",
      "Predicted num: 569, Real label: Garbage truck\n",
      "Predicted num: 574, Real label: Golf ball\n",
      "Predicted num: 0, Real label: Tench\n",
      "Predicted num: 696, Real label: Garbage truck\n",
      "Predicted num: 701, Real label: Parachute\n",
      "Predicted num: 465, Real label: Parachute\n",
      "Predicted num: 884, Real label: Church\n",
      "Predicted num: 574, Real label: Golf ball\n",
      "Predicted num: 848, Real label: Cassette player\n",
      "Predicted num: 218, Real label: English springer\n",
      "Predicted num: 217, Real label: English springer\n",
      "Predicted num: 574, Real label: Golf ball\n",
      "Predicted num: 491, Real label: Chain saw\n",
      "Predicted num: 574, Real label: Golf ball\n",
      "Predicted num: 0, Real label: Tench\n",
      "Predicted num: 482, Real label: Cassette player\n",
      "Predicted num: 566, Real label: French horn\n",
      "Predicted num: 978, Real label: Golf ball\n",
      "Predicted num: 497, Real label: Church\n",
      "Predicted num: 701, Real label: Parachute\n",
      "Predicted num: 481, Real label: Cassette player\n",
      "Predicted num: 571, Real label: Gas pump\n",
      "Predicted num: 566, Real label: French horn\n",
      "Predicted num: 217, Real label: English springer\n",
      "Predicted num: 497, Real label: Church\n",
      "Predicted num: 574, Real label: Golf ball\n",
      "Predicted num: 0, Real label: Tench\n",
      "Predicted num: 571, Real label: Gas pump\n",
      "Predicted num: 848, Real label: Cassette player\n",
      "Predicted num: 497, Real label: Church\n",
      "Predicted num: 574, Real label: Golf ball\n",
      "Predicted num: 0, Real label: Tench\n",
      "Predicted num: 482, Real label: Cassette player\n",
      "Predicted num: 217, Real label: English springer\n",
      "Predicted num: 701, Real label: Parachute\n",
      "Predicted num: 571, Real label: Gas pump\n",
      "Predicted num: 701, Real label: Parachute\n",
      "Predicted num: 571, Real label: Gas pump\n",
      "Predicted num: 574, Real label: Golf ball\n",
      "Predicted num: 569, Real label: Garbage truck\n",
      "Predicted num: 0, Real label: Tench\n",
      "Predicted num: 660, Real label: Gas pump\n",
      "Predicted num: 701, Real label: Parachute\n",
      "Predicted num: 716, Real label: Gas pump\n",
      "Predicted num: 569, Real label: Garbage truck\n",
      "Predicted num: 569, Real label: Garbage truck\n",
      "Predicted num: 848, Real label: Cassette player\n",
      "Predicted num: 569, Real label: Garbage truck\n",
      "Predicted num: 217, Real label: English springer\n",
      "Predicted num: 701, Real label: Parachute\n",
      "Predicted num: 569, Real label: Garbage truck\n",
      "Predicted num: 569, Real label: Garbage truck\n",
      "Predicted num: 217, Real label: English springer\n",
      "Predicted num: 848, Real label: Cassette player\n",
      "Predicted num: 701, Real label: Parachute\n",
      "Predicted num: 571, Real label: Gas pump\n",
      "Predicted num: 0, Real label: Tench\n",
      "Predicted num: 491, Real label: Chain saw\n",
      "Predicted num: 884, Real label: Church\n",
      "Predicted num: 675, Real label: Garbage truck\n",
      "Predicted num: 491, Real label: Chain saw\n",
      "Predicted num: 569, Real label: Garbage truck\n",
      "Predicted num: 536, Real label: Gas pump\n",
      "Predicted num: 0, Real label: Tench\n",
      "Predicted num: 701, Real label: Parachute\n",
      "Predicted num: 444, Real label: Chain saw\n",
      "Predicted num: 574, Real label: Golf ball\n",
      "Predicted num: 482, Real label: Cassette player\n",
      "Predicted num: 482, Real label: Cassette player\n",
      "Predicted num: 574, Real label: Golf ball\n",
      "Predicted num: 701, Real label: Parachute\n",
      "Predicted num: 848, Real label: Cassette player\n",
      "Predicted num: 917, Real label: French horn\n",
      "Predicted num: 848, Real label: Cassette player\n",
      "Predicted num: 497, Real label: Church\n",
      "Predicted num: 217, Real label: English springer\n",
      "Predicted num: 574, Real label: Golf ball\n",
      "Predicted num: 571, Real label: Gas pump\n",
      "Predicted num: 217, Real label: English springer\n",
      "Predicted num: 566, Real label: French horn\n",
      "Predicted num: 701, Real label: Parachute\n",
      "Predicted num: 571, Real label: Gas pump\n",
      "Predicted num: 497, Real label: Church\n",
      "Predicted num: 574, Real label: Golf ball\n",
      "Predicted num: 566, Real label: French horn\n",
      "Predicted num: 491, Real label: Chain saw\n",
      "Predicted num: 701, Real label: Parachute\n",
      "Predicted num: 481, Real label: Cassette player\n",
      "Predicted num: 566, Real label: French horn\n",
      "Predicted num: 895, Real label: Parachute\n",
      "Predicted num: 491, Real label: Chain saw\n",
      "Predicted num: 425, Real label: Church\n",
      "Predicted num: 566, Real label: French horn\n",
      "Predicted num: 710, Real label: Cassette player\n",
      "Predicted num: 566, Real label: French horn\n",
      "Predicted num: 566, Real label: French horn\n",
      "Predicted num: 482, Real label: Cassette player\n",
      "Predicted num: 416, Real label: Garbage truck\n",
      "Predicted num: 574, Real label: Golf ball\n",
      "Predicted num: 491, Real label: Chain saw\n",
      "Predicted num: 569, Real label: Garbage truck\n",
      "Predicted num: 571, Real label: Gas pump\n",
      "Predicted num: 217, Real label: English springer\n",
      "Predicted num: 571, Real label: Gas pump\n",
      "Predicted num: 887, Real label: French horn\n",
      "Predicted num: 701, Real label: Parachute\n",
      "Predicted num: 217, Real label: English springer\n",
      "Predicted num: 713, Real label: Gas pump\n",
      "Predicted num: 217, Real label: English springer\n",
      "Predicted num: 574, Real label: Golf ball\n",
      "Predicted num: 574, Real label: Golf ball\n",
      "Predicted num: 497, Real label: Church\n",
      "Predicted num: 491, Real label: Chain saw\n",
      "Predicted num: 0, Real label: Tench\n",
      "Predicted num: 392, Real label: Tench\n",
      "Predicted num: 482, Real label: Cassette player\n",
      "Predicted num: 571, Real label: Gas pump\n",
      "Predicted num: 574, Real label: Golf ball\n",
      "Predicted num: 566, Real label: French horn\n",
      "Predicted num: 701, Real label: Parachute\n",
      "Predicted num: 217, Real label: English springer\n",
      "Predicted num: 574, Real label: Golf ball\n",
      "Predicted num: 571, Real label: Gas pump\n",
      "Predicted num: 574, Real label: Golf ball\n",
      "Predicted num: 890, Real label: French horn\n",
      "Predicted num: 569, Real label: Garbage truck\n",
      "Predicted num: 497, Real label: Church\n",
      "Predicted num: 571, Real label: Gas pump\n",
      "Predicted num: 482, Real label: Cassette player\n",
      "Predicted num: 566, Real label: French horn\n",
      "Predicted num: 574, Real label: Golf ball\n",
      "Predicted num: 566, Real label: French horn\n",
      "Predicted num: 701, Real label: Parachute\n",
      "Predicted num: 701, Real label: Parachute\n",
      "Predicted num: 406, Real label: Gas pump\n",
      "Predicted num: 0, Real label: Tench\n",
      "Predicted num: 566, Real label: French horn\n",
      "Predicted num: 701, Real label: Parachute\n",
      "Predicted num: 232, Real label: English springer\n",
      "Predicted num: 217, Real label: English springer\n",
      "Predicted num: 571, Real label: Gas pump\n",
      "Predicted num: 0, Real label: Tench\n",
      "Predicted num: 912, Real label: Church\n",
      "Predicted num: 217, Real label: English springer\n",
      "Predicted num: 569, Real label: Garbage truck\n",
      "Predicted num: 574, Real label: Golf ball\n",
      "Predicted num: 569, Real label: Garbage truck\n",
      "Predicted num: 497, Real label: Church\n",
      "Predicted num: 701, Real label: Parachute\n",
      "Predicted num: 566, Real label: French horn\n",
      "Predicted num: 212, Real label: English springer\n",
      "Predicted num: 571, Real label: Gas pump\n",
      "Predicted num: 569, Real label: Garbage truck\n",
      "Predicted num: 217, Real label: English springer\n",
      "Predicted num: 406, Real label: Church\n",
      "Predicted num: 566, Real label: French horn\n",
      "Predicted num: 566, Real label: French horn\n",
      "Predicted num: 574, Real label: Golf ball\n",
      "Predicted num: 571, Real label: Gas pump\n",
      "Predicted num: 217, Real label: English springer\n",
      "Predicted num: 571, Real label: Gas pump\n",
      "Predicted num: 491, Real label: Chain saw\n",
      "Predicted num: 483, Real label: Church\n",
      "Predicted num: 497, Real label: Church\n",
      "Predicted num: 513, Real label: French horn\n",
      "Predicted num: 701, Real label: Parachute\n",
      "Predicted num: 571, Real label: Gas pump\n",
      "Predicted num: 574, Real label: Golf ball\n",
      "Predicted num: 574, Real label: Golf ball\n",
      "Predicted num: 491, Real label: Chain saw\n",
      "Predicted num: 482, Real label: Cassette player\n",
      "Predicted num: 701, Real label: Parachute\n",
      "Predicted num: 701, Real label: Parachute\n",
      "Predicted num: 571, Real label: Gas pump\n",
      "Predicted num: 569, Real label: Garbage truck\n",
      "Predicted num: 497, Real label: Church\n",
      "Predicted num: 701, Real label: Parachute\n",
      "Predicted num: 636, Real label: Cassette player\n",
      "Predicted num: 566, Real label: French horn\n",
      "Predicted num: 571, Real label: Gas pump\n",
      "Predicted num: 571, Real label: Gas pump\n",
      "Predicted num: 571, Real label: Gas pump\n",
      "Predicted num: 571, Real label: Gas pump\n",
      "Predicted num: 701, Real label: Parachute\n",
      "Predicted num: 569, Real label: Garbage truck\n",
      "Predicted num: 754, Real label: Cassette player\n",
      "Predicted num: 442, Real label: Church\n",
      "Predicted num: 574, Real label: Golf ball\n",
      "Predicted num: 497, Real label: Church\n",
      "Predicted num: 574, Real label: Golf ball\n",
      "Predicted num: 0, Real label: Tench\n",
      "Predicted num: 574, Real label: Golf ball\n",
      "Predicted num: 574, Real label: Golf ball\n",
      "Predicted num: 574, Real label: Golf ball\n",
      "Predicted num: 449, Real label: Gas pump\n",
      "Predicted num: 491, Real label: Chain saw\n",
      "Predicted num: 566, Real label: French horn\n",
      "Predicted num: 574, Real label: Golf ball\n",
      "Predicted num: 482, Real label: Cassette player\n",
      "Predicted num: 491, Real label: Chain saw\n",
      "Predicted num: 497, Real label: Church\n",
      "Predicted num: 569, Real label: Garbage truck\n",
      "Predicted num: 701, Real label: Parachute\n",
      "Predicted num: 701, Real label: Parachute\n",
      "Predicted num: 491, Real label: Chain saw\n",
      "Predicted num: 566, Real label: French horn\n",
      "Predicted num: 569, Real label: Garbage truck\n",
      "Predicted num: 482, Real label: Cassette player\n",
      "Predicted num: 0, Real label: Tench\n",
      "Predicted num: 574, Real label: Golf ball\n",
      "Predicted num: 571, Real label: Gas pump\n",
      "Predicted num: 0, Real label: Tench\n",
      "Predicted num: 574, Real label: Golf ball\n",
      "Predicted num: 574, Real label: Golf ball\n",
      "Predicted num: 566, Real label: French horn\n",
      "Predicted num: 491, Real label: Chain saw\n",
      "Predicted num: 246, Real label: English springer\n",
      "Predicted num: 574, Real label: Golf ball\n",
      "Predicted num: 701, Real label: Parachute\n",
      "Predicted num: 571, Real label: Gas pump\n",
      "Predicted num: 569, Real label: Garbage truck\n",
      "Predicted num: 571, Real label: Gas pump\n",
      "Predicted num: 574, Real label: Golf ball\n",
      "Predicted num: 688, Real label: Cassette player\n",
      "Predicted num: 566, Real label: French horn\n",
      "Predicted num: 571, Real label: Gas pump\n",
      "Predicted num: 453, Real label: Cassette player\n",
      "Predicted num: 566, Real label: French horn\n",
      "Predicted num: 491, Real label: Chain saw\n",
      "Predicted num: 0, Real label: Tench\n",
      "Predicted num: 571, Real label: Gas pump\n",
      "Predicted num: 574, Real label: Golf ball\n",
      "Predicted num: 662, Real label: Cassette player\n",
      "Predicted num: 482, Real label: Cassette player\n",
      "Predicted num: 497, Real label: Church\n",
      "Predicted num: 574, Real label: Golf ball\n",
      "Predicted num: 569, Real label: Garbage truck\n",
      "Predicted num: 217, Real label: English springer\n",
      "Predicted num: 972, Real label: Chain saw\n",
      "Predicted num: 569, Real label: Garbage truck\n",
      "Predicted num: 701, Real label: Parachute\n",
      "Predicted num: 701, Real label: Parachute\n",
      "Predicted num: 491, Real label: Chain saw\n",
      "Predicted num: 701, Real label: Parachute\n",
      "Predicted num: 677, Real label: Gas pump\n",
      "Predicted num: 566, Real label: French horn\n",
      "Predicted num: 571, Real label: Gas pump\n",
      "Predicted num: 566, Real label: French horn\n",
      "Predicted num: 569, Real label: Garbage truck\n",
      "Predicted num: 701, Real label: Parachute\n",
      "Predicted num: 884, Real label: Church\n",
      "Predicted num: 569, Real label: Garbage truck\n",
      "Predicted num: 701, Real label: Parachute\n",
      "Predicted num: 0, Real label: Tench\n",
      "Predicted num: 482, Real label: Cassette player\n",
      "Predicted num: 566, Real label: French horn\n",
      "Predicted num: 574, Real label: Golf ball\n",
      "Predicted num: 701, Real label: Parachute\n",
      "Predicted num: 217, Real label: English springer\n",
      "Predicted num: 634, Real label: Chain saw\n",
      "Predicted num: 641, Real label: Golf ball\n",
      "Predicted num: 497, Real label: Church\n",
      "Predicted num: 217, Real label: English springer\n",
      "Predicted num: 701, Real label: Parachute\n",
      "Predicted num: 217, Real label: English springer\n",
      "Predicted num: 569, Real label: Garbage truck\n",
      "Predicted num: 406, Real label: Church\n",
      "Predicted num: 569, Real label: Garbage truck\n",
      "Predicted num: 497, Real label: Church\n",
      "Predicted num: 569, Real label: Garbage truck\n",
      "Predicted num: 566, Real label: French horn\n",
      "Predicted num: 406, Real label: Church\n",
      "Predicted num: 421, Real label: Church\n",
      "Predicted num: 566, Real label: French horn\n",
      "Predicted num: 701, Real label: Parachute\n",
      "Predicted num: 884, Real label: Church\n",
      "Predicted num: 795, Real label: Chain saw\n",
      "Predicted num: 574, Real label: Golf ball\n",
      "Predicted num: 574, Real label: Golf ball\n",
      "Predicted num: 569, Real label: Garbage truck\n",
      "Predicted num: 482, Real label: Cassette player\n",
      "Predicted num: 571, Real label: Gas pump\n",
      "Predicted num: 574, Real label: Golf ball\n",
      "Predicted num: 566, Real label: French horn\n",
      "Predicted num: 701, Real label: Parachute\n",
      "Predicted num: 811, Real label: Gas pump\n",
      "Predicted num: 217, Real label: English springer\n",
      "Predicted num: 0, Real label: Tench\n",
      "Predicted num: 972, Real label: Chain saw\n",
      "Predicted num: 0, Real label: Tench\n",
      "Predicted num: 561, Real label: Garbage truck\n",
      "Predicted num: 548, Real label: Cassette player\n",
      "Predicted num: 701, Real label: Parachute\n",
      "Predicted num: 574, Real label: Golf ball\n",
      "Predicted num: 701, Real label: Parachute\n",
      "Predicted num: 482, Real label: Cassette player\n",
      "Predicted num: 574, Real label: Golf ball\n",
      "Predicted num: 217, Real label: English springer\n",
      "Predicted num: 701, Real label: Parachute\n",
      "Predicted num: 164, Real label: English springer\n",
      "Predicted num: 217, Real label: English springer\n",
      "Predicted num: 491, Real label: Chain saw\n",
      "Predicted num: 217, Real label: English springer\n",
      "Predicted num: 566, Real label: French horn\n",
      "Predicted num: 571, Real label: Gas pump\n",
      "Predicted num: 574, Real label: Golf ball\n",
      "Predicted num: 566, Real label: French horn\n",
      "Predicted num: 0, Real label: Tench\n",
      "Predicted num: 0, Real label: Tench\n",
      "Predicted num: 497, Real label: Church\n",
      "Predicted num: 566, Real label: French horn\n",
      "Predicted num: 569, Real label: Garbage truck\n",
      "Predicted num: 491, Real label: Chain saw\n",
      "Predicted num: 701, Real label: Parachute\n",
      "Predicted num: 491, Real label: Chain saw\n",
      "Predicted num: 497, Real label: Church\n",
      "Predicted num: 0, Real label: Tench\n",
      "Predicted num: 482, Real label: Cassette player\n",
      "Predicted num: 569, Real label: Garbage truck\n",
      "Predicted num: 574, Real label: Golf ball\n",
      "Predicted num: 0, Real label: Tench\n",
      "Predicted num: 574, Real label: Golf ball\n",
      "Predicted num: 635, Real label: Cassette player\n",
      "Predicted num: 217, Real label: English springer\n",
      "Predicted num: 0, Real label: Tench\n",
      "Predicted num: 497, Real label: Church\n",
      "Predicted num: 491, Real label: Chain saw\n",
      "Predicted num: 217, Real label: English springer\n",
      "Predicted num: 848, Real label: Cassette player\n",
      "Predicted num: 691, Real label: Gas pump\n",
      "Predicted num: 218, Real label: English springer\n",
      "Predicted num: 218, Real label: English springer\n",
      "Predicted num: 569, Real label: Garbage truck\n",
      "Predicted num: 491, Real label: Chain saw\n",
      "Predicted num: 574, Real label: Golf ball\n",
      "Predicted num: 566, Real label: French horn\n",
      "Predicted num: 482, Real label: Cassette player\n",
      "Predicted num: 0, Real label: Tench\n",
      "Predicted num: 912, Real label: English springer\n",
      "Predicted num: 701, Real label: Parachute\n",
      "Predicted num: 491, Real label: Chain saw\n",
      "Predicted num: 566, Real label: French horn\n",
      "Predicted num: 743, Real label: Church\n",
      "Predicted num: 826, Real label: Cassette player\n",
      "Predicted num: 701, Real label: Parachute\n",
      "Predicted num: 0, Real label: Tench\n",
      "Predicted num: 879, Real label: Parachute\n",
      "Predicted num: 569, Real label: Garbage truck\n",
      "Predicted num: 505, Real label: Golf ball\n",
      "Predicted num: 701, Real label: Parachute\n",
      "Predicted num: 701, Real label: Parachute\n",
      "Predicted num: 569, Real label: Garbage truck\n",
      "Predicted num: 701, Real label: Parachute\n",
      "Predicted num: 739, Real label: French horn\n",
      "Predicted num: 574, Real label: Golf ball\n",
      "Predicted num: 0, Real label: Tench\n",
      "Predicted num: 0, Real label: Tench\n",
      "Predicted num: 491, Real label: Chain saw\n",
      "Predicted num: 0, Real label: Tench\n",
      "Predicted num: 217, Real label: English springer\n",
      "Predicted num: 566, Real label: French horn\n",
      "Predicted num: 217, Real label: English springer\n",
      "Predicted num: 497, Real label: Church\n",
      "Predicted num: 0, Real label: Tench\n",
      "Predicted num: 215, Real label: English springer\n",
      "Predicted num: 497, Real label: Church\n",
      "Predicted num: 405, Real label: Parachute\n",
      "Predicted num: 571, Real label: Gas pump\n",
      "Predicted num: 566, Real label: French horn\n",
      "Predicted num: 0, Real label: Tench\n",
      "Predicted num: 776, Real label: French horn\n",
      "Predicted num: 218, Real label: English springer\n",
      "Predicted num: 571, Real label: Gas pump\n",
      "Predicted num: 701, Real label: Parachute\n",
      "Predicted num: 442, Real label: Church\n",
      "Predicted num: 217, Real label: English springer\n",
      "Predicted num: 217, Real label: English springer\n",
      "Predicted num: 0, Real label: Tench\n",
      "Predicted num: 848, Real label: Cassette player\n",
      "Predicted num: 482, Real label: Cassette player\n",
      "Predicted num: 491, Real label: Chain saw\n",
      "Predicted num: 217, Real label: English springer\n",
      "Predicted num: 701, Real label: Parachute\n",
      "Predicted num: 574, Real label: Golf ball\n",
      "Predicted num: 701, Real label: Parachute\n",
      "Predicted num: 884, Real label: Church\n",
      "Predicted num: 574, Real label: Golf ball\n",
      "Predicted num: 569, Real label: Garbage truck\n",
      "Predicted num: 0, Real label: Tench\n",
      "Predicted num: 406, Real label: Church\n",
      "Predicted num: 571, Real label: Gas pump\n",
      "Predicted num: 819, Real label: French horn\n",
      "Predicted num: 0, Real label: Tench\n",
      "Predicted num: 482, Real label: Cassette player\n",
      "Predicted num: 491, Real label: Chain saw\n",
      "Predicted num: 660, Real label: Gas pump\n",
      "Predicted num: 701, Real label: Parachute\n",
      "Predicted num: 569, Real label: Garbage truck\n",
      "Predicted num: 651, Real label: Cassette player\n",
      "Predicted num: 0, Real label: Tench\n",
      "Predicted num: 695, Real label: Gas pump\n",
      "Predicted num: 853, Real label: Church\n",
      "Predicted num: 217, Real label: English springer\n",
      "Predicted num: 0, Real label: Tench\n",
      "Predicted num: 491, Real label: Chain saw\n",
      "Predicted num: 569, Real label: Garbage truck\n",
      "Predicted num: 848, Real label: Cassette player\n",
      "Predicted num: 0, Real label: Tench\n",
      "Predicted num: 566, Real label: French horn\n",
      "Predicted num: 566, Real label: French horn\n",
      "Predicted num: 497, Real label: Church\n",
      "Predicted num: 566, Real label: French horn\n",
      "Predicted num: 569, Real label: Garbage truck\n",
      "Predicted num: 707, Real label: Gas pump\n",
      "Predicted num: 569, Real label: Garbage truck\n",
      "Predicted num: 708, Real label: Gas pump\n",
      "Predicted num: 569, Real label: Garbage truck\n",
      "Predicted num: 569, Real label: Garbage truck\n",
      "Predicted num: 571, Real label: Gas pump\n",
      "Predicted num: 701, Real label: Parachute\n",
      "Predicted num: 571, Real label: Gas pump\n",
      "Predicted num: 569, Real label: Garbage truck\n",
      "Predicted num: 482, Real label: Cassette player\n",
      "Predicted num: 574, Real label: Golf ball\n",
      "Predicted num: 0, Real label: Tench\n",
      "Predicted num: 217, Real label: English springer\n",
      "Predicted num: 217, Real label: English springer\n",
      "Predicted num: 482, Real label: Cassette player\n",
      "Predicted num: 483, Real label: Church\n",
      "Predicted num: 497, Real label: Church\n",
      "Predicted num: 482, Real label: Cassette player\n",
      "Predicted num: 0, Real label: Tench\n",
      "Predicted num: 217, Real label: English springer\n",
      "Predicted num: 481, Real label: Cassette player\n",
      "Predicted num: 701, Real label: Parachute\n",
      "Predicted num: 701, Real label: Parachute\n",
      "Predicted num: 497, Real label: Church\n",
      "Predicted num: 741, Real label: Church\n",
      "Predicted num: 663, Real label: Church\n",
      "Predicted num: 663, Real label: Church\n",
      "Predicted num: 569, Real label: Garbage truck\n",
      "Predicted num: 701, Real label: Parachute\n",
      "Predicted num: 569, Real label: Garbage truck\n",
      "Predicted num: 610, Real label: Chain saw\n",
      "Predicted num: 701, Real label: Parachute\n",
      "Predicted num: 442, Real label: Church\n",
      "Predicted num: 485, Real label: Cassette player\n",
      "Predicted num: 491, Real label: Chain saw\n",
      "Predicted num: 217, Real label: English springer\n",
      "Predicted num: 634, Real label: Chain saw\n",
      "Predicted num: 701, Real label: Parachute\n",
      "Predicted num: 574, Real label: Golf ball\n",
      "Predicted num: 574, Real label: Golf ball\n",
      "Predicted num: 566, Real label: French horn\n",
      "Predicted num: 701, Real label: Parachute\n",
      "Predicted num: 569, Real label: Garbage truck\n",
      "Predicted num: 569, Real label: Garbage truck\n",
      "Predicted num: 497, Real label: Church\n",
      "Predicted num: 0, Real label: Tench\n",
      "Predicted num: 571, Real label: Gas pump\n",
      "Predicted num: 491, Real label: Chain saw\n",
      "Predicted num: 497, Real label: Church\n",
      "Predicted num: 197, Real label: English springer\n",
      "Predicted num: 217, Real label: English springer\n",
      "Predicted num: 900, Real label: Chain saw\n",
      "Predicted num: 574, Real label: Golf ball\n",
      "Predicted num: 574, Real label: Golf ball\n",
      "Predicted num: 566, Real label: French horn\n",
      "Predicted num: 574, Real label: Golf ball\n",
      "Predicted num: 497, Real label: Church\n",
      "Predicted num: 571, Real label: Gas pump\n",
      "Predicted num: 497, Real label: Church\n",
      "Predicted num: 574, Real label: Golf ball\n",
      "Predicted num: 571, Real label: Gas pump\n",
      "Predicted num: 482, Real label: Cassette player\n",
      "Predicted num: 848, Real label: Cassette player\n",
      "Predicted num: 571, Real label: Gas pump\n",
      "Predicted num: 856, Real label: Chain saw\n",
      "Predicted num: 0, Real label: Tench\n",
      "Predicted num: 574, Real label: Golf ball\n",
      "Predicted num: 406, Real label: Church\n",
      "Predicted num: 701, Real label: Parachute\n",
      "Predicted num: 0, Real label: Tench\n",
      "Predicted num: 497, Real label: Church\n",
      "Predicted num: 566, Real label: French horn\n",
      "Predicted num: 571, Real label: Gas pump\n",
      "Predicted num: 480, Real label: Gas pump\n",
      "Predicted num: 497, Real label: Church\n",
      "Predicted num: 491, Real label: Chain saw\n",
      "Predicted num: 566, Real label: French horn\n",
      "Predicted num: 497, Real label: Church\n",
      "Predicted num: 569, Real label: Garbage truck\n",
      "Predicted num: 701, Real label: Parachute\n",
      "Predicted num: 574, Real label: Golf ball\n",
      "Predicted num: 574, Real label: Golf ball\n",
      "Predicted num: 569, Real label: Garbage truck\n",
      "Predicted num: 491, Real label: Chain saw\n",
      "Predicted num: 805, Real label: French horn\n",
      "Predicted num: 701, Real label: Parachute\n",
      "Predicted num: 497, Real label: Church\n",
      "Predicted num: 701, Real label: Parachute\n",
      "Predicted num: 571, Real label: Gas pump\n",
      "Predicted num: 595, Real label: Garbage truck\n",
      "Predicted num: 569, Real label: Garbage truck\n",
      "Predicted num: 860, Real label: Gas pump\n",
      "Predicted num: 491, Real label: Chain saw\n",
      "Predicted num: 210, Real label: English springer\n",
      "Predicted num: 612, Real label: Parachute\n",
      "Predicted num: 701, Real label: Parachute\n",
      "Predicted num: 663, Real label: Church\n",
      "Predicted num: 491, Real label: Chain saw\n",
      "Predicted num: 574, Real label: Golf ball\n",
      "Predicted num: 442, Real label: Church\n",
      "Predicted num: 482, Real label: Cassette player\n",
      "Predicted num: 566, Real label: French horn\n",
      "Predicted num: 645, Real label: Parachute\n",
      "Predicted num: 634, Real label: Chain saw\n",
      "Predicted num: 701, Real label: Parachute\n",
      "Predicted num: 701, Real label: Parachute\n",
      "Predicted num: 571, Real label: Gas pump\n",
      "Predicted num: 887, Real label: Chain saw\n",
      "Predicted num: 0, Real label: Tench\n",
      "Predicted num: 571, Real label: Gas pump\n",
      "Predicted num: 513, Real label: French horn\n",
      "Predicted num: 566, Real label: French horn\n",
      "Predicted num: 865, Real label: Gas pump\n",
      "Predicted num: 522, Real label: Golf ball\n",
      "Predicted num: 566, Real label: French horn\n",
      "Predicted num: 217, Real label: English springer\n",
      "Predicted num: 574, Real label: Golf ball\n",
      "Predicted num: 482, Real label: Cassette player\n",
      "Predicted num: 848, Real label: Cassette player\n",
      "Predicted num: 482, Real label: Cassette player\n",
      "Predicted num: 574, Real label: Golf ball\n",
      "Predicted num: 979, Real label: Chain saw\n",
      "Predicted num: 217, Real label: English springer\n",
      "Predicted num: 571, Real label: Gas pump\n",
      "Predicted num: 571, Real label: Gas pump\n",
      "Predicted num: 848, Real label: Cassette player\n",
      "Predicted num: 497, Real label: Church\n",
      "Predicted num: 574, Real label: Golf ball\n",
      "Predicted num: 497, Real label: Church\n",
      "Predicted num: 878, Real label: Cassette player\n",
      "Predicted num: 566, Real label: French horn\n",
      "Predicted num: 574, Real label: Golf ball\n",
      "Predicted num: 571, Real label: Gas pump\n",
      "Predicted num: 539, Real label: Golf ball\n",
      "Predicted num: 491, Real label: Chain saw\n",
      "Predicted num: 482, Real label: Cassette player\n",
      "Predicted num: 538, Real label: Church\n",
      "Predicted num: 904, Real label: Chain saw\n",
      "Predicted num: 571, Real label: Gas pump\n",
      "Predicted num: 811, Real label: Cassette player\n",
      "Predicted num: 491, Real label: Chain saw\n",
      "Predicted num: 569, Real label: Garbage truck\n",
      "Predicted num: 506, Real label: French horn\n",
      "Predicted num: 217, Real label: English springer\n",
      "Predicted num: 566, Real label: French horn\n",
      "Predicted num: 571, Real label: Gas pump\n",
      "Predicted num: 574, Real label: Golf ball\n",
      "Predicted num: 701, Real label: Parachute\n",
      "Predicted num: 634, Real label: Garbage truck\n",
      "Predicted num: 848, Real label: Cassette player\n",
      "Predicted num: 571, Real label: Gas pump\n",
      "Predicted num: 497, Real label: Church\n",
      "Predicted num: 569, Real label: Garbage truck\n",
      "Predicted num: 217, Real label: English springer\n",
      "Predicted num: 569, Real label: Garbage truck\n",
      "Predicted num: 124, Real label: Parachute\n",
      "Predicted num: 217, Real label: English springer\n",
      "Predicted num: 574, Real label: Golf ball\n",
      "Predicted num: 571, Real label: Gas pump\n",
      "Predicted num: 574, Real label: Golf ball\n",
      "Predicted num: 491, Real label: Chain saw\n",
      "Predicted num: 217, Real label: English springer\n",
      "Predicted num: 580, Real label: English springer\n",
      "Predicted num: 569, Real label: Garbage truck\n",
      "Predicted num: 566, Real label: French horn\n",
      "Predicted num: 574, Real label: Golf ball\n",
      "Predicted num: 217, Real label: English springer\n",
      "Predicted num: 574, Real label: Golf ball\n",
      "Predicted num: 0, Real label: Tench\n",
      "Predicted num: 701, Real label: Parachute\n",
      "Predicted num: 848, Real label: Cassette player\n",
      "Predicted num: 217, Real label: English springer\n",
      "Predicted num: 566, Real label: French horn\n",
      "Predicted num: 482, Real label: Cassette player\n",
      "Predicted num: 566, Real label: French horn\n",
      "Predicted num: 566, Real label: French horn\n",
      "Predicted num: 574, Real label: Golf ball\n",
      "Predicted num: 491, Real label: Chain saw\n",
      "Predicted num: 662, Real label: Cassette player\n",
      "Predicted num: 574, Real label: Golf ball\n",
      "Predicted num: 491, Real label: Chain saw\n",
      "Predicted num: 574, Real label: Golf ball\n",
      "Predicted num: 569, Real label: Garbage truck\n",
      "Predicted num: 701, Real label: Parachute\n",
      "Predicted num: 574, Real label: Golf ball\n",
      "Predicted num: 571, Real label: Gas pump\n",
      "Predicted num: 217, Real label: English springer\n",
      "Predicted num: 497, Real label: Church\n",
      "Predicted num: 574, Real label: Golf ball\n",
      "Predicted num: 574, Real label: Golf ball\n",
      "Predicted num: 497, Real label: Church\n",
      "Predicted num: 574, Real label: Golf ball\n",
      "Predicted num: 481, Real label: Cassette player\n",
      "Predicted num: 574, Real label: Golf ball\n",
      "Predicted num: 217, Real label: English springer\n",
      "Predicted num: 442, Real label: Church\n",
      "Predicted num: 497, Real label: Church\n",
      "Predicted num: 574, Real label: Golf ball\n",
      "Predicted num: 569, Real label: Garbage truck\n",
      "Predicted num: 217, Real label: English springer\n",
      "Predicted num: 218, Real label: English springer\n",
      "Predicted num: 217, Real label: English springer\n",
      "Predicted num: 571, Real label: Gas pump\n",
      "Predicted num: 485, Real label: Cassette player\n",
      "Predicted num: 566, Real label: French horn\n",
      "Predicted num: 577, Real label: French horn\n",
      "Predicted num: 491, Real label: Chain saw\n",
      "Predicted num: 217, Real label: English springer\n",
      "Predicted num: 491, Real label: Chain saw\n",
      "Predicted num: 701, Real label: Parachute\n",
      "Predicted num: 0, Real label: Tench\n",
      "Predicted num: 0, Real label: Tench\n",
      "Predicted num: 491, Real label: Chain saw\n",
      "Predicted num: 483, Real label: Church\n",
      "Predicted num: 217, Real label: English springer\n",
      "Predicted num: 701, Real label: Parachute\n",
      "Predicted num: 0, Real label: Tench\n",
      "Predicted num: 569, Real label: Garbage truck\n",
      "Predicted num: 497, Real label: Church\n",
      "Predicted num: 491, Real label: Chain saw\n",
      "Predicted num: 569, Real label: Garbage truck\n",
      "Predicted num: 0, Real label: Tench\n",
      "Predicted num: 485, Real label: Cassette player\n",
      "Predicted num: 437, Real label: Church\n",
      "Predicted num: 569, Real label: Garbage truck\n",
      "Predicted num: 701, Real label: Parachute\n",
      "Predicted num: 538, Real label: Church\n",
      "Predicted num: 569, Real label: Garbage truck\n",
      "Predicted num: 0, Real label: Tench\n",
      "Predicted num: 542, Real label: French horn\n",
      "Predicted num: 566, Real label: French horn\n",
      "Predicted num: 0, Real label: Tench\n",
      "Predicted num: 848, Real label: Cassette player\n",
      "Predicted num: 574, Real label: Golf ball\n",
      "Predicted num: 571, Real label: Gas pump\n",
      "Predicted num: 848, Real label: Cassette player\n",
      "Predicted num: 663, Real label: Church\n",
      "Predicted num: 569, Real label: Garbage truck\n",
      "Predicted num: 215, Real label: English springer\n",
      "Predicted num: 848, Real label: Cassette player\n",
      "Predicted num: 574, Real label: Golf ball\n",
      "Predicted num: 449, Real label: Church\n",
      "Predicted num: 482, Real label: Cassette player\n",
      "Predicted num: 867, Real label: Garbage truck\n",
      "Predicted num: 569, Real label: Garbage truck\n",
      "Predicted num: 491, Real label: Chain saw\n",
      "Predicted num: 569, Real label: Garbage truck\n",
      "Predicted num: 698, Real label: Church\n",
      "Predicted num: 0, Real label: Tench\n",
      "Predicted num: 574, Real label: Golf ball\n",
      "Predicted num: 977, Real label: Parachute\n",
      "Predicted num: 632, Real label: Cassette player\n",
      "Predicted num: 577, Real label: French horn\n",
      "Predicted num: 482, Real label: Cassette player\n",
      "Predicted num: 569, Real label: Garbage truck\n",
      "Predicted num: 465, Real label: Chain saw\n",
      "Predicted num: 571, Real label: Gas pump\n",
      "Predicted num: 574, Real label: Golf ball\n",
      "Predicted num: 574, Real label: Golf ball\n",
      "Predicted num: 595, Real label: Parachute\n",
      "Predicted num: 701, Real label: Parachute\n",
      "Predicted num: 406, Real label: Church\n",
      "Predicted num: 481, Real label: Cassette player\n",
      "Predicted num: 223, Real label: Church\n",
      "Predicted num: 566, Real label: French horn\n",
      "Predicted num: 701, Real label: Parachute\n",
      "Predicted num: 574, Real label: Golf ball\n",
      "Predicted num: 217, Real label: English springer\n",
      "Predicted num: 574, Real label: Golf ball\n",
      "Predicted num: 701, Real label: Parachute\n",
      "Predicted num: 566, Real label: French horn\n",
      "Predicted num: 482, Real label: Cassette player\n",
      "Predicted num: 569, Real label: Garbage truck\n",
      "Predicted num: 698, Real label: Parachute\n",
      "Predicted num: 218, Real label: English springer\n",
      "Predicted num: 864, Real label: Gas pump\n",
      "Predicted num: 217, Real label: English springer\n",
      "Predicted num: 701, Real label: Parachute\n",
      "Predicted num: 550, Real label: Cassette player\n",
      "Predicted num: 566, Real label: French horn\n",
      "Predicted num: 482, Real label: Cassette player\n",
      "Predicted num: 574, Real label: Golf ball\n",
      "Predicted num: 0, Real label: Tench\n",
      "Predicted num: 481, Real label: Cassette player\n",
      "Predicted num: 566, Real label: French horn\n",
      "Predicted num: 574, Real label: Golf ball\n",
      "Predicted num: 566, Real label: French horn\n",
      "Predicted num: 0, Real label: Tench\n",
      "Predicted num: 569, Real label: Garbage truck\n",
      "Predicted num: 701, Real label: Parachute\n",
      "Predicted num: 497, Real label: Church\n",
      "Predicted num: 708, Real label: Church\n",
      "Predicted num: 491, Real label: Chain saw\n",
      "Predicted num: 491, Real label: Chain saw\n",
      "Predicted num: 566, Real label: French horn\n",
      "Predicted num: 569, Real label: Garbage truck\n",
      "Predicted num: 491, Real label: Chain saw\n",
      "Predicted num: 675, Real label: Garbage truck\n",
      "Predicted num: 878, Real label: Cassette player\n",
      "Predicted num: 497, Real label: Church\n",
      "Predicted num: 0, Real label: Tench\n",
      "Predicted num: 675, Real label: Garbage truck\n",
      "Predicted num: 0, Real label: Tench\n",
      "Predicted num: 701, Real label: Parachute\n",
      "Predicted num: 513, Real label: French horn\n",
      "Predicted num: 574, Real label: Golf ball\n",
      "Predicted num: 0, Real label: Tench\n",
      "Predicted num: 394, Real label: Tench\n",
      "Predicted num: 389, Real label: Tench\n",
      "Predicted num: 701, Real label: Parachute\n",
      "Predicted num: 497, Real label: Church\n",
      "Predicted num: 574, Real label: Golf ball\n",
      "Predicted num: 482, Real label: Cassette player\n",
      "Predicted num: 491, Real label: Chain saw\n",
      "Predicted num: 691, Real label: Gas pump\n",
      "Predicted num: 660, Real label: Garbage truck\n",
      "Predicted num: 0, Real label: Tench\n",
      "Predicted num: 497, Real label: Church\n",
      "Predicted num: 701, Real label: Parachute\n",
      "Predicted num: 848, Real label: Cassette player\n",
      "Predicted num: 571, Real label: Gas pump\n",
      "Predicted num: 663, Real label: Church\n",
      "Predicted num: 513, Real label: French horn\n",
      "Predicted num: 574, Real label: Golf ball\n",
      "Predicted num: 406, Real label: Church\n",
      "Predicted num: 701, Real label: Parachute\n",
      "Predicted num: 491, Real label: Chain saw\n",
      "Predicted num: 513, Real label: French horn\n",
      "Predicted num: 701, Real label: Parachute\n",
      "Predicted num: 848, Real label: Cassette player\n",
      "Predicted num: 497, Real label: Church\n",
      "Predicted num: 217, Real label: English springer\n",
      "Predicted num: 217, Real label: English springer\n",
      "Predicted num: 566, Real label: French horn\n",
      "Predicted num: 634, Real label: Chain saw\n",
      "Predicted num: 0, Real label: Tench\n",
      "Predicted num: 701, Real label: Parachute\n",
      "Predicted num: 569, Real label: Garbage truck\n",
      "Predicted num: 406, Real label: Church\n",
      "Predicted num: 574, Real label: Golf ball\n",
      "Predicted num: 571, Real label: Gas pump\n",
      "Predicted num: 569, Real label: Garbage truck\n",
      "Predicted num: 566, Real label: French horn\n",
      "Predicted num: 574, Real label: Golf ball\n",
      "Predicted num: 217, Real label: English springer\n",
      "Predicted num: 0, Real label: Tench\n",
      "Predicted num: 571, Real label: Gas pump\n",
      "Predicted num: 571, Real label: Gas pump\n",
      "Predicted num: 491, Real label: Chain saw\n",
      "Predicted num: 722, Real label: Golf ball\n",
      "Predicted num: 827, Real label: Cassette player\n",
      "Predicted num: 583, Real label: Chain saw\n",
      "Predicted num: 566, Real label: French horn\n",
      "Predicted num: 217, Real label: English springer\n",
      "Predicted num: 701, Real label: Parachute\n",
      "Predicted num: 701, Real label: Parachute\n",
      "Predicted num: 491, Real label: Chain saw\n",
      "Predicted num: 882, Real label: Chain saw\n",
      "Predicted num: 482, Real label: Cassette player\n",
      "Predicted num: 663, Real label: Church\n",
      "Predicted num: 497, Real label: Church\n",
      "Predicted num: 497, Real label: Church\n",
      "Predicted num: 0, Real label: Tench\n",
      "Predicted num: 497, Real label: Church\n",
      "Predicted num: 848, Real label: Cassette player\n",
      "Predicted num: 701, Real label: Parachute\n",
      "Predicted num: 566, Real label: French horn\n",
      "Predicted num: 566, Real label: French horn\n",
      "Predicted num: 707, Real label: Cassette player\n",
      "Predicted num: 217, Real label: English springer\n",
      "Predicted num: 497, Real label: Church\n",
      "Predicted num: 491, Real label: Chain saw\n",
      "Predicted num: 566, Real label: French horn\n",
      "Predicted num: 569, Real label: Garbage truck\n",
      "Predicted num: 491, Real label: Chain saw\n",
      "Predicted num: 571, Real label: Gas pump\n",
      "Predicted num: 481, Real label: Cassette player\n",
      "Predicted num: 566, Real label: French horn\n",
      "Predicted num: 597, Real label: Gas pump\n",
      "Predicted num: 574, Real label: Golf ball\n",
      "Predicted num: 574, Real label: Golf ball\n",
      "Predicted num: 569, Real label: Garbage truck\n",
      "Predicted num: 574, Real label: Golf ball\n",
      "Predicted num: 432, Real label: French horn\n",
      "Predicted num: 701, Real label: Parachute\n",
      "Predicted num: 220, Real label: English springer\n",
      "Predicted num: 574, Real label: Golf ball\n",
      "Predicted num: 217, Real label: English springer\n",
      "Predicted num: 571, Real label: Gas pump\n",
      "Predicted num: 485, Real label: Cassette player\n",
      "Predicted num: 569, Real label: Garbage truck\n",
      "Predicted num: 701, Real label: Parachute\n",
      "Predicted num: 0, Real label: Tench\n",
      "Predicted num: 571, Real label: Gas pump\n",
      "Predicted num: 701, Real label: Parachute\n",
      "Predicted num: 605, Real label: Cassette player\n",
      "Predicted num: 0, Real label: Tench\n",
      "Predicted num: 663, Real label: Church\n",
      "Predicted num: 571, Real label: Gas pump\n",
      "Predicted num: 574, Real label: Golf ball\n",
      "Predicted num: 701, Real label: Parachute\n",
      "Predicted num: 571, Real label: Gas pump\n",
      "Predicted num: 485, Real label: Cassette player\n",
      "Predicted num: 482, Real label: Cassette player\n",
      "Predicted num: 571, Real label: Gas pump\n",
      "Predicted num: 571, Real label: Gas pump\n",
      "Predicted num: 569, Real label: Garbage truck\n",
      "Predicted num: 574, Real label: Golf ball\n",
      "Predicted num: 497, Real label: Church\n",
      "Predicted num: 491, Real label: Chain saw\n",
      "Predicted num: 555, Real label: Gas pump\n",
      "Predicted num: 574, Real label: Golf ball\n",
      "Predicted num: 569, Real label: Garbage truck\n",
      "Predicted num: 574, Real label: Golf ball\n",
      "Predicted num: 217, Real label: English springer\n",
      "Predicted num: 569, Real label: Garbage truck\n",
      "Predicted num: 497, Real label: Church\n",
      "Predicted num: 0, Real label: Tench\n",
      "Predicted num: 481, Real label: Cassette player\n",
      "Predicted num: 574, Real label: Golf ball\n",
      "Predicted num: 394, Real label: Tench\n",
      "Predicted num: 482, Real label: Cassette player\n",
      "Predicted num: 844, Real label: Cassette player\n",
      "Predicted num: 0, Real label: Tench\n",
      "Predicted num: 217, Real label: English springer\n",
      "Predicted num: 569, Real label: Garbage truck\n",
      "Predicted num: 663, Real label: Church\n",
      "Predicted num: 217, Real label: English springer\n",
      "Predicted num: 569, Real label: Garbage truck\n",
      "Predicted num: 0, Real label: Tench\n",
      "Predicted num: 571, Real label: Gas pump\n",
      "Predicted num: 432, Real label: French horn\n",
      "Predicted num: 569, Real label: Garbage truck\n",
      "Predicted num: 687, Real label: Church\n",
      "Predicted num: 818, Real label: Church\n",
      "Predicted num: 701, Real label: Parachute\n",
      "Predicted num: 887, Real label: Parachute\n",
      "Predicted num: 497, Real label: Church\n",
      "Predicted num: 491, Real label: Chain saw\n",
      "Predicted num: 848, Real label: Cassette player\n",
      "Predicted num: 569, Real label: Garbage truck\n",
      "Predicted num: 701, Real label: Parachute\n",
      "Predicted num: 482, Real label: Cassette player\n",
      "Predicted num: 701, Real label: Parachute\n",
      "Predicted num: 566, Real label: French horn\n",
      "Predicted num: 571, Real label: Gas pump\n",
      "Predicted num: 491, Real label: Chain saw\n",
      "Predicted num: 701, Real label: Parachute\n",
      "Predicted num: 566, Real label: French horn\n",
      "Predicted num: 497, Real label: Church\n",
      "Predicted num: 566, Real label: French horn\n",
      "Predicted num: 497, Real label: Church\n",
      "Predicted num: 884, Real label: Church\n",
      "Predicted num: 217, Real label: English springer\n",
      "Predicted num: 571, Real label: Gas pump\n",
      "Predicted num: 571, Real label: Gas pump\n",
      "Predicted num: 566, Real label: French horn\n",
      "Predicted num: 571, Real label: Gas pump\n",
      "Predicted num: 389, Real label: Tench\n",
      "Predicted num: 0, Real label: Tench\n",
      "Predicted num: 701, Real label: Parachute\n",
      "Predicted num: 701, Real label: Parachute\n",
      "Predicted num: 701, Real label: Parachute\n",
      "Predicted num: 569, Real label: Garbage truck\n",
      "Predicted num: 491, Real label: Chain saw\n",
      "Predicted num: 701, Real label: Parachute\n",
      "Predicted num: 569, Real label: Garbage truck\n",
      "Predicted num: 212, Real label: English springer\n",
      "Predicted num: 456, Real label: Chain saw\n",
      "Predicted num: 566, Real label: French horn\n",
      "Predicted num: 875, Real label: French horn\n",
      "Predicted num: 482, Real label: Cassette player\n",
      "Predicted num: 514, Real label: Chain saw\n",
      "Predicted num: 395, Real label: Tench\n",
      "Predicted num: 0, Real label: Tench\n",
      "Predicted num: 569, Real label: Garbage truck\n",
      "Predicted num: 571, Real label: Gas pump\n",
      "Predicted num: 217, Real label: English springer\n",
      "Predicted num: 217, Real label: English springer\n",
      "Predicted num: 422, Real label: Chain saw\n",
      "Predicted num: 0, Real label: Tench\n",
      "Predicted num: 590, Real label: Cassette player\n",
      "Predicted num: 0, Real label: Tench\n",
      "Predicted num: 701, Real label: Parachute\n",
      "Predicted num: 571, Real label: Gas pump\n",
      "Predicted num: 217, Real label: English springer\n",
      "Predicted num: 574, Real label: Golf ball\n",
      "Predicted num: 0, Real label: Tench\n",
      "Predicted num: 0, Real label: Tench\n",
      "Predicted num: 491, Real label: Chain saw\n",
      "Predicted num: 0, Real label: Tench\n",
      "Predicted num: 571, Real label: Gas pump\n",
      "Predicted num: 733, Real label: Chain saw\n",
      "Predicted num: 217, Real label: English springer\n",
      "Predicted num: 634, Real label: Chain saw\n",
      "Predicted num: 663, Real label: Church\n",
      "Predicted num: 0, Real label: Tench\n",
      "Predicted num: 574, Real label: Golf ball\n",
      "Predicted num: 701, Real label: Parachute\n",
      "Predicted num: 217, Real label: English springer\n",
      "Predicted num: 571, Real label: English springer\n",
      "Predicted num: 569, Real label: Garbage truck\n",
      "Predicted num: 491, Real label: Chain saw\n",
      "Predicted num: 848, Real label: Cassette player\n",
      "Predicted num: 595, Real label: Garbage truck\n",
      "Predicted num: 566, Real label: French horn\n",
      "Predicted num: 232, Real label: English springer\n",
      "Predicted num: 574, Real label: Golf ball\n",
      "Predicted num: 491, Real label: Chain saw\n",
      "Predicted num: 569, Real label: Garbage truck\n",
      "Predicted num: 0, Real label: Tench\n",
      "Predicted num: 736, Real label: Golf ball\n",
      "Predicted num: 566, Real label: French horn\n",
      "Predicted num: 566, Real label: French horn\n",
      "Predicted num: 812, Real label: Church\n",
      "Predicted num: 491, Real label: Chain saw\n",
      "Predicted num: 217, Real label: English springer\n",
      "Predicted num: 0, Real label: Tench\n",
      "Predicted num: 217, Real label: English springer\n",
      "Predicted num: 663, Real label: Church\n",
      "Predicted num: 0, Real label: Tench\n",
      "Predicted num: 848, Real label: Cassette player\n",
      "Predicted num: 0, Real label: Tench\n",
      "Predicted num: 217, Real label: English springer\n",
      "Predicted num: 701, Real label: Parachute\n",
      "Predicted num: 0, Real label: Tench\n",
      "Predicted num: 217, Real label: English springer\n",
      "Predicted num: 848, Real label: Cassette player\n",
      "Predicted num: 574, Real label: Golf ball\n",
      "Predicted num: 491, Real label: Chain saw\n",
      "Predicted num: 566, Real label: French horn\n",
      "Predicted num: 0, Real label: Tench\n",
      "Predicted num: 482, Real label: Cassette player\n",
      "Predicted num: 848, Real label: Cassette player\n",
      "Predicted num: 583, Real label: Cassette player\n",
      "Predicted num: 569, Real label: Garbage truck\n",
      "Predicted num: 217, Real label: English springer\n",
      "Predicted num: 571, Real label: Gas pump\n",
      "Predicted num: 217, Real label: English springer\n",
      "Predicted num: 566, Real label: French horn\n",
      "Predicted num: 497, Real label: Church\n",
      "Predicted num: 189, Real label: English springer\n",
      "Predicted num: 481, Real label: Cassette player\n",
      "Predicted num: 566, Real label: French horn\n",
      "Predicted num: 29, Real label: Tench\n",
      "Predicted num: 217, Real label: English springer\n",
      "Predicted num: 663, Real label: Church\n",
      "Predicted num: 569, Real label: Garbage truck\n",
      "Predicted num: 497, Real label: Church\n",
      "Predicted num: 491, Real label: Chain saw\n",
      "Predicted num: 0, Real label: Tench\n",
      "Predicted num: 569, Real label: Garbage truck\n",
      "Predicted num: 0, Real label: Tench\n",
      "Predicted num: 701, Real label: Parachute\n",
      "Predicted num: 848, Real label: Cassette player\n",
      "Predicted num: 848, Real label: Cassette player\n",
      "Predicted num: 632, Real label: Cassette player\n",
      "Predicted num: 571, Real label: Gas pump\n",
      "Predicted num: 569, Real label: Garbage truck\n",
      "Predicted num: 701, Real label: Parachute\n",
      "Predicted num: 491, Real label: Chain saw\n",
      "Predicted num: 574, Real label: Golf ball\n",
      "Predicted num: 629, Real label: Gas pump\n",
      "Predicted num: 195, Real label: English springer\n",
      "Predicted num: 574, Real label: Golf ball\n",
      "Predicted num: 232, Real label: English springer\n",
      "Predicted num: 0, Real label: Tench\n",
      "Predicted num: 566, Real label: French horn\n",
      "Predicted num: 566, Real label: French horn\n",
      "Predicted num: 701, Real label: Parachute\n",
      "Predicted num: 569, Real label: Garbage truck\n",
      "Predicted num: 574, Real label: Golf ball\n",
      "Predicted num: 0, Real label: Tench\n",
      "Predicted num: 491, Real label: Chain saw\n",
      "Predicted num: 0, Real label: Tench\n",
      "Predicted num: 210, Real label: English springer\n",
      "Predicted num: 217, Real label: English springer\n",
      "Predicted num: 217, Real label: English springer\n",
      "Predicted num: 781, Real label: Parachute\n",
      "Predicted num: 482, Real label: Cassette player\n",
      "Predicted num: 771, Real label: Cassette player\n",
      "Predicted num: 491, Real label: Chain saw\n",
      "Predicted num: 0, Real label: Tench\n",
      "Predicted num: 497, Real label: Church\n",
      "Predicted num: 762, Real label: Gas pump\n",
      "Predicted num: 571, Real label: Gas pump\n",
      "Predicted num: 0, Real label: Tench\n",
      "Predicted num: 569, Real label: Garbage truck\n",
      "Predicted num: 574, Real label: Golf ball\n",
      "Predicted num: 217, Real label: English springer\n",
      "Predicted num: 569, Real label: Garbage truck\n",
      "Predicted num: 0, Real label: Tench\n",
      "Predicted num: 569, Real label: Garbage truck\n",
      "Predicted num: 0, Real label: Tench\n",
      "Predicted num: 0, Real label: Tench\n",
      "Predicted num: 482, Real label: Cassette player\n",
      "Predicted num: 574, Real label: Golf ball\n",
      "Predicted num: 217, Real label: English springer\n",
      "Predicted num: 0, Real label: Tench\n",
      "Predicted num: 848, Real label: Cassette player\n",
      "Predicted num: 569, Real label: Garbage truck\n",
      "Predicted num: 491, Real label: Chain saw\n",
      "Predicted num: 864, Real label: Garbage truck\n",
      "Predicted num: 482, Real label: Cassette player\n",
      "Predicted num: 888, Real label: Church\n",
      "Predicted num: 571, Real label: Gas pump\n",
      "Predicted num: 663, Real label: Church\n",
      "Predicted num: 217, Real label: English springer\n",
      "Predicted num: 442, Real label: Church\n",
      "Predicted num: 571, Real label: Gas pump\n",
      "Predicted num: 407, Real label: Gas pump\n",
      "Predicted num: 217, Real label: English springer\n",
      "Predicted num: 848, Real label: Cassette player\n",
      "Predicted num: 571, Real label: Gas pump\n",
      "Predicted num: 497, Real label: Church\n",
      "Predicted num: 491, Real label: Chain saw\n",
      "Predicted num: 701, Real label: Parachute\n",
      "Predicted num: 482, Real label: Cassette player\n",
      "Predicted num: 0, Real label: Tench\n",
      "Predicted num: 491, Real label: Chain saw\n",
      "Predicted num: 491, Real label: Chain saw\n",
      "Predicted num: 574, Real label: Golf ball\n",
      "Predicted num: 701, Real label: Parachute\n",
      "Predicted num: 698, Real label: Church\n",
      "Predicted num: 0, Real label: Tench\n",
      "Predicted num: 425, Real label: Church\n",
      "Predicted num: 215, Real label: English springer\n",
      "Predicted num: 0, Real label: Tench\n",
      "Predicted num: 566, Real label: French horn\n",
      "Predicted num: 848, Real label: Cassette player\n",
      "Predicted num: 569, Real label: Garbage truck\n",
      "Predicted num: 754, Real label: Cassette player\n",
      "Predicted num: 0, Real label: Tench\n",
      "Predicted num: 996, Real label: Tench\n",
      "Predicted num: 217, Real label: English springer\n",
      "Predicted num: 920, Real label: Garbage truck\n",
      "Predicted num: 733, Real label: Chain saw\n",
      "Predicted num: 0, Real label: Tench\n",
      "Predicted num: 491, Real label: Chain saw\n",
      "Predicted num: 566, Real label: French horn\n",
      "Predicted num: 701, Real label: Parachute\n",
      "Predicted num: 218, Real label: English springer\n",
      "Predicted num: 864, Real label: Garbage truck\n",
      "Predicted num: 566, Real label: French horn\n",
      "Predicted num: 497, Real label: Church\n",
      "Predicted num: 566, Real label: French horn\n",
      "Predicted num: 482, Real label: Cassette player\n",
      "Predicted num: 571, Real label: Gas pump\n",
      "Predicted num: 566, Real label: French horn\n",
      "Predicted num: 864, Real label: Garbage truck\n",
      "Predicted num: 701, Real label: Parachute\n",
      "Predicted num: 569, Real label: Garbage truck\n",
      "Predicted num: 574, Real label: Golf ball\n",
      "Predicted num: 491, Real label: Chain saw\n",
      "Predicted num: 569, Real label: Garbage truck\n",
      "Predicted num: 566, Real label: French horn\n",
      "Predicted num: 569, Real label: Garbage truck\n",
      "Predicted num: 0, Real label: Tench\n",
      "Predicted num: 0, Real label: Tench\n",
      "Predicted num: 0, Real label: Tench\n",
      "Predicted num: 566, Real label: French horn\n",
      "Predicted num: 217, Real label: English springer\n",
      "Predicted num: 701, Real label: Parachute\n",
      "Predicted num: 0, Real label: Tench\n",
      "Predicted num: 0, Real label: Tench\n",
      "Predicted num: 569, Real label: Garbage truck\n",
      "Predicted num: 566, Real label: French horn\n",
      "Predicted num: 701, Real label: Parachute\n",
      "Predicted num: 566, Real label: French horn\n",
      "Predicted num: 848, Real label: Cassette player\n",
      "Predicted num: 701, Real label: Parachute\n",
      "Predicted num: 217, Real label: English springer\n",
      "Predicted num: 0, Real label: Tench\n",
      "Predicted num: 566, Real label: French horn\n",
      "Predicted num: 621, Real label: Chain saw\n",
      "Predicted num: 569, Real label: Garbage truck\n",
      "Predicted num: 882, Real label: Chain saw\n",
      "Predicted num: 571, Real label: Gas pump\n",
      "Predicted num: 571, Real label: Gas pump\n",
      "Predicted num: 701, Real label: Parachute\n",
      "Predicted num: 482, Real label: Cassette player\n",
      "Predicted num: 867, Real label: Garbage truck\n",
      "Predicted num: 569, Real label: Garbage truck\n",
      "Predicted num: 217, Real label: English springer\n",
      "Predicted num: 701, Real label: Parachute\n",
      "Predicted num: 0, Real label: Tench\n",
      "Predicted num: 571, Real label: Gas pump\n",
      "Predicted num: 0, Real label: Tench\n",
      "Predicted num: 491, Real label: Chain saw\n",
      "Predicted num: 0, Real label: Tench\n",
      "Predicted num: 566, Real label: French horn\n",
      "Predicted num: 217, Real label: English springer\n",
      "Predicted num: 0, Real label: Tench\n",
      "Predicted num: 569, Real label: Garbage truck\n",
      "Predicted num: 571, Real label: Gas pump\n",
      "Predicted num: 217, Real label: English springer\n",
      "Predicted num: 701, Real label: Parachute\n",
      "Predicted num: 217, Real label: English springer\n",
      "Predicted num: 569, Real label: Garbage truck\n",
      "Predicted num: 574, Real label: Golf ball\n",
      "Predicted num: 482, Real label: Cassette player\n",
      "Predicted num: 571, Real label: Gas pump\n",
      "Predicted num: 491, Real label: Chain saw\n",
      "Predicted num: 641, Real label: Cassette player\n",
      "Predicted num: 860, Real label: Cassette player\n",
      "Predicted num: 0, Real label: Tench\n",
      "Predicted num: 69, Real label: Golf ball\n",
      "Predicted num: 867, Real label: Garbage truck\n",
      "Predicted num: 217, Real label: English springer\n",
      "Predicted num: 600, Real label: French horn\n",
      "Predicted num: 0, Real label: Tench\n",
      "Predicted num: 0, Real label: Tench\n",
      "Predicted num: 701, Real label: Parachute\n",
      "Predicted num: 0, Real label: Tench\n",
      "Predicted num: 574, Real label: Golf ball\n",
      "Predicted num: 0, Real label: Tench\n",
      "Predicted num: 574, Real label: Golf ball\n",
      "Predicted num: 566, Real label: French horn\n",
      "Predicted num: 701, Real label: Parachute\n",
      "Predicted num: 701, Real label: Parachute\n",
      "Predicted num: 571, Real label: Gas pump\n",
      "Predicted num: 701, Real label: Parachute\n",
      "Predicted num: 491, Real label: Chain saw\n",
      "Predicted num: 733, Real label: Gas pump\n",
      "Predicted num: 848, Real label: Cassette player\n",
      "Predicted num: 574, Real label: Golf ball\n",
      "Predicted num: 217, Real label: English springer\n",
      "Predicted num: 491, Real label: Chain saw\n",
      "Predicted num: 217, Real label: English springer\n",
      "Predicted num: 406, Real label: Church\n",
      "Predicted num: 497, Real label: Church\n",
      "Predicted num: 571, Real label: Gas pump\n",
      "Predicted num: 217, Real label: English springer\n",
      "Predicted num: 734, Real label: Garbage truck\n",
      "Predicted num: 701, Real label: Parachute\n",
      "Predicted num: 491, Real label: Chain saw\n",
      "Predicted num: 701, Real label: Parachute\n",
      "Predicted num: 569, Real label: Garbage truck\n",
      "Predicted num: 571, Real label: Gas pump\n",
      "Predicted num: 701, Real label: Parachute\n",
      "Predicted num: 566, Real label: French horn\n",
      "Predicted num: 569, Real label: Garbage truck\n",
      "Predicted num: 491, Real label: Chain saw\n",
      "Predicted num: 571, Real label: Gas pump\n",
      "Predicted num: 848, Real label: Cassette player\n",
      "Predicted num: 574, Real label: Golf ball\n",
      "Predicted num: 701, Real label: Parachute\n",
      "Predicted num: 442, Real label: Church\n",
      "Predicted num: 566, Real label: French horn\n",
      "Predicted num: 884, Real label: Church\n",
      "Predicted num: 848, Real label: Cassette player\n",
      "Predicted num: 584, Real label: Golf ball\n",
      "Predicted num: 0, Real label: Tench\n",
      "Predicted num: 491, Real label: Chain saw\n",
      "Predicted num: 0, Real label: Tench\n",
      "Predicted num: 482, Real label: Cassette player\n",
      "Predicted num: 701, Real label: Parachute\n",
      "Predicted num: 217, Real label: English springer\n",
      "Predicted num: 574, Real label: Golf ball\n",
      "Predicted num: 701, Real label: Parachute\n",
      "Predicted num: 848, Real label: Cassette player\n",
      "Predicted num: 662, Real label: Cassette player\n",
      "Predicted num: 497, Real label: Church\n",
      "Predicted num: 0, Real label: Tench\n",
      "Predicted num: 574, Real label: Golf ball\n",
      "Predicted num: 569, Real label: Garbage truck\n",
      "Predicted num: 160, Real label: English springer\n",
      "Predicted num: 566, Real label: French horn\n",
      "Predicted num: 687, Real label: Church\n",
      "Predicted num: 566, Real label: French horn\n",
      "Predicted num: 652, Real label: French horn\n",
      "Predicted num: 497, Real label: Church\n",
      "Predicted num: 0, Real label: Tench\n",
      "Predicted num: 566, Real label: French horn\n",
      "Predicted num: 217, Real label: English springer\n",
      "Predicted num: 491, Real label: Chain saw\n",
      "Predicted num: 425, Real label: Church\n",
      "Predicted num: 634, Real label: Chain saw\n",
      "Predicted num: 566, Real label: French horn\n",
      "Predicted num: 571, Real label: Gas pump\n",
      "Predicted num: 571, Real label: Gas pump\n",
      "Predicted num: 481, Real label: Cassette player\n",
      "Predicted num: 566, Real label: French horn\n",
      "Predicted num: 217, Real label: English springer\n",
      "Predicted num: 569, Real label: Garbage truck\n",
      "Predicted num: 229, Real label: English springer\n",
      "Predicted num: 848, Real label: Cassette player\n",
      "Predicted num: 566, Real label: French horn\n",
      "Predicted num: 574, Real label: Golf ball\n",
      "Predicted num: 566, Real label: French horn\n",
      "Predicted num: 0, Real label: Tench\n",
      "Predicted num: 574, Real label: Golf ball\n",
      "Predicted num: 701, Real label: Parachute\n",
      "Predicted num: 574, Real label: Golf ball\n",
      "Predicted num: 800, Real label: Church\n",
      "Predicted num: 569, Real label: Garbage truck\n",
      "Predicted num: 0, Real label: Tench\n",
      "Predicted num: 571, Real label: Gas pump\n",
      "Predicted num: 442, Real label: Church\n",
      "Predicted num: 569, Real label: Garbage truck\n",
      "Predicted num: 0, Real label: Tench\n",
      "Predicted num: 848, Real label: Cassette player\n",
      "Predicted num: 884, Real label: Church\n",
      "Predicted num: 862, Real label: Chain saw\n",
      "Predicted num: 0, Real label: Tench\n",
      "Predicted num: 406, Real label: Church\n",
      "Predicted num: 566, Real label: French horn\n",
      "Predicted num: 571, Real label: Gas pump\n",
      "Predicted num: 701, Real label: Parachute\n",
      "Predicted num: 217, Real label: English springer\n",
      "Predicted num: 217, Real label: English springer\n",
      "Predicted num: 569, Real label: Garbage truck\n",
      "Predicted num: 482, Real label: Cassette player\n",
      "Predicted num: 701, Real label: Parachute\n",
      "Predicted num: 571, Real label: Gas pump\n",
      "Predicted num: 574, Real label: Golf ball\n",
      "Predicted num: 569, Real label: Garbage truck\n",
      "Predicted num: 566, Real label: French horn\n",
      "Predicted num: 562, Real label: Church\n",
      "Predicted num: 848, Real label: Cassette player\n",
      "Predicted num: 645, Real label: Chain saw\n",
      "Predicted num: 491, Real label: Chain saw\n",
      "Predicted num: 574, Real label: Golf ball\n",
      "Predicted num: 571, Real label: Gas pump\n",
      "Predicted num: 571, Real label: Gas pump\n",
      "Predicted num: 566, Real label: French horn\n",
      "Predicted num: 566, Real label: French horn\n",
      "Predicted num: 491, Real label: Chain saw\n",
      "Predicted num: 701, Real label: Parachute\n",
      "Predicted num: 485, Real label: Cassette player\n",
      "Predicted num: 497, Real label: Church\n",
      "Predicted num: 701, Real label: Parachute\n",
      "Predicted num: 571, Real label: Gas pump\n",
      "Predicted num: 574, Real label: Golf ball\n",
      "Predicted num: 574, Real label: Golf ball\n",
      "Predicted num: 491, Real label: Chain saw\n",
      "Predicted num: 701, Real label: Parachute\n",
      "Predicted num: 0, Real label: Tench\n",
      "Predicted num: 0, Real label: Tench\n",
      "Predicted num: 0, Real label: Tench\n",
      "Predicted num: 754, Real label: Cassette player\n",
      "Predicted num: 848, Real label: Cassette player\n",
      "Predicted num: 566, Real label: French horn\n",
      "Predicted num: 571, Real label: Gas pump\n",
      "Predicted num: 497, Real label: Church\n",
      "Predicted num: 566, Real label: French horn\n",
      "Predicted num: 771, Real label: Cassette player\n",
      "Predicted num: 574, Real label: Golf ball\n",
      "Predicted num: 701, Real label: Parachute\n",
      "Predicted num: 571, Real label: Gas pump\n",
      "Predicted num: 674, Real label: Chain saw\n",
      "Predicted num: 497, Real label: Church\n",
      "Predicted num: 566, Real label: French horn\n",
      "Predicted num: 701, Real label: Parachute\n",
      "Predicted num: 217, Real label: English springer\n",
      "Predicted num: 687, Real label: Church\n",
      "Predicted num: 491, Real label: Chain saw\n",
      "Predicted num: 497, Real label: Church\n",
      "Predicted num: 571, Real label: Gas pump\n",
      "Predicted num: 884, Real label: Church\n",
      "Predicted num: 491, Real label: Chain saw\n",
      "Predicted num: 698, Real label: Church\n",
      "Predicted num: 0, Real label: Tench\n",
      "Predicted num: 217, Real label: English springer\n",
      "Predicted num: 701, Real label: Parachute\n",
      "Predicted num: 497, Real label: Church\n",
      "Predicted num: 566, Real label: French horn\n",
      "Predicted num: 217, Real label: English springer\n",
      "Predicted num: 497, Real label: Church\n",
      "Predicted num: 482, Real label: Cassette player\n",
      "Predicted num: 0, Real label: Tench\n",
      "Predicted num: 569, Real label: Garbage truck\n",
      "Predicted num: 569, Real label: Garbage truck\n",
      "Predicted num: 663, Real label: Church\n",
      "Predicted num: 574, Real label: Golf ball\n",
      "Predicted num: 482, Real label: Cassette player\n",
      "Predicted num: 491, Real label: Chain saw\n",
      "Predicted num: 569, Real label: Garbage truck\n",
      "Predicted num: 389, Real label: Tench\n",
      "Predicted num: 212, Real label: English springer\n",
      "Predicted num: 491, Real label: Chain saw\n",
      "Predicted num: 481, Real label: Cassette player\n",
      "Predicted num: 569, Real label: Garbage truck\n",
      "Predicted num: 497, Real label: Church\n",
      "Predicted num: 569, Real label: Garbage truck\n",
      "Predicted num: 217, Real label: English springer\n",
      "Predicted num: 217, Real label: English springer\n",
      "Predicted num: 569, Real label: Garbage truck\n",
      "Predicted num: 0, Real label: Tench\n",
      "Predicted num: 701, Real label: Parachute\n",
      "Predicted num: 574, Real label: Golf ball\n",
      "Predicted num: 574, Real label: Golf ball\n",
      "Predicted num: 482, Real label: Cassette player\n",
      "Predicted num: 571, Real label: Gas pump\n",
      "Predicted num: 217, Real label: English springer\n",
      "Predicted num: 569, Real label: Garbage truck\n",
      "Predicted num: 574, Real label: Golf ball\n",
      "Predicted num: 571, Real label: Gas pump\n",
      "Predicted num: 571, Real label: Gas pump\n",
      "Predicted num: 705, Real label: Garbage truck\n",
      "Predicted num: 701, Real label: Parachute\n",
      "Predicted num: 566, Real label: French horn\n",
      "Predicted num: 571, Real label: Gas pump\n",
      "Predicted num: 473, Real label: Gas pump\n",
      "Predicted num: 569, Real label: Garbage truck\n",
      "Predicted num: 571, Real label: Gas pump\n",
      "Predicted num: 634, Real label: Chain saw\n",
      "Predicted num: 571, Real label: Gas pump\n",
      "Predicted num: 574, Real label: Golf ball\n",
      "Predicted num: 566, Real label: French horn\n",
      "Predicted num: 860, Real label: Cassette player\n",
      "Predicted num: 217, Real label: English springer\n",
      "Predicted num: 701, Real label: Parachute\n",
      "Predicted num: 0, Real label: Tench\n",
      "Predicted num: 663, Real label: Church\n",
      "Predicted num: 491, Real label: Chain saw\n",
      "Predicted num: 571, Real label: Gas pump\n",
      "Predicted num: 491, Real label: Chain saw\n",
      "Predicted num: 571, Real label: Gas pump\n",
      "Predicted num: 574, Real label: Golf ball\n",
      "Predicted num: 482, Real label: Cassette player\n",
      "Predicted num: 0, Real label: Tench\n",
      "Predicted num: 566, Real label: French horn\n",
      "Predicted num: 571, Real label: Gas pump\n",
      "Predicted num: 497, Real label: Church\n",
      "Predicted num: 217, Real label: English springer\n",
      "Predicted num: 701, Real label: Parachute\n",
      "Predicted num: 497, Real label: Church\n",
      "Predicted num: 574, Real label: Golf ball\n",
      "Predicted num: 701, Real label: Parachute\n",
      "Predicted num: 491, Real label: Chain saw\n",
      "Predicted num: 0, Real label: Tench\n",
      "Predicted num: 571, Real label: Gas pump\n",
      "Predicted num: 848, Real label: Cassette player\n",
      "Predicted num: 482, Real label: Cassette player\n",
      "Predicted num: 497, Real label: Church\n",
      "Predicted num: 848, Real label: Cassette player\n",
      "Predicted num: 701, Real label: Parachute\n",
      "Predicted num: 574, Real label: Golf ball\n",
      "Predicted num: 0, Real label: Tench\n",
      "Predicted num: 497, Real label: Church\n",
      "Predicted num: 571, Real label: Gas pump\n",
      "Predicted num: 571, Real label: Gas pump\n",
      "Predicted num: 571, Real label: Gas pump\n",
      "Predicted num: 217, Real label: English springer\n",
      "Predicted num: 569, Real label: Garbage truck\n",
      "Predicted num: 569, Real label: Garbage truck\n",
      "Predicted num: 566, Real label: French horn\n",
      "Predicted num: 482, Real label: Cassette player\n",
      "Predicted num: 701, Real label: Parachute\n",
      "Predicted num: 848, Real label: Cassette player\n",
      "Predicted num: 217, Real label: English springer\n",
      "Predicted num: 848, Real label: Cassette player\n",
      "Predicted num: 491, Real label: Chain saw\n",
      "Predicted num: 569, Real label: Garbage truck\n",
      "Predicted num: 632, Real label: Cassette player\n",
      "Predicted num: 574, Real label: Golf ball\n",
      "Predicted num: 574, Real label: Golf ball\n",
      "Predicted num: 569, Real label: Garbage truck\n",
      "Predicted num: 566, Real label: French horn\n",
      "Predicted num: 442, Real label: Church\n",
      "Predicted num: 217, Real label: English springer\n",
      "Predicted num: 701, Real label: Parachute\n",
      "Predicted num: 569, Real label: Garbage truck\n",
      "Predicted num: 634, Real label: Chain saw\n",
      "Predicted num: 569, Real label: Garbage truck\n",
      "Predicted num: 848, Real label: Cassette player\n",
      "Predicted num: 491, Real label: Chain saw\n",
      "Predicted num: 0, Real label: Tench\n",
      "Predicted num: 698, Real label: Church\n",
      "Predicted num: 571, Real label: Gas pump\n",
      "Predicted num: 0, Real label: Tench\n",
      "Predicted num: 0, Real label: Tench\n",
      "Predicted num: 0, Real label: Tench\n",
      "Predicted num: 571, Real label: Gas pump\n",
      "Predicted num: 491, Real label: Chain saw\n",
      "Predicted num: 571, Real label: Gas pump\n",
      "Predicted num: 491, Real label: Chain saw\n",
      "Predicted num: 215, Real label: English springer\n",
      "Predicted num: 701, Real label: Parachute\n",
      "Predicted num: 497, Real label: Church\n",
      "Predicted num: 417, Real label: Parachute\n",
      "Predicted num: 569, Real label: Garbage truck\n",
      "Predicted num: 217, Real label: English springer\n",
      "Predicted num: 566, Real label: French horn\n",
      "Predicted num: 848, Real label: Cassette player\n",
      "Predicted num: 482, Real label: Cassette player\n",
      "Predicted num: 701, Real label: Parachute\n",
      "Predicted num: 701, Real label: Parachute\n",
      "Predicted num: 848, Real label: Cassette player\n",
      "Predicted num: 0, Real label: Tench\n",
      "Predicted num: 566, Real label: French horn\n",
      "Predicted num: 217, Real label: English springer\n",
      "Predicted num: 698, Real label: Church\n",
      "Predicted num: 497, Real label: Church\n",
      "Predicted num: 571, Real label: Gas pump\n",
      "Predicted num: 497, Real label: Church\n",
      "Predicted num: 921, Real label: French horn\n",
      "Predicted num: 0, Real label: Tench\n",
      "Predicted num: 701, Real label: Parachute\n",
      "Predicted num: 701, Real label: Parachute\n",
      "Predicted num: 729, Real label: Golf ball\n",
      "Predicted num: 571, Real label: Gas pump\n",
      "Predicted num: 571, Real label: Gas pump\n",
      "Predicted num: 574, Real label: Golf ball\n",
      "Predicted num: 574, Real label: Golf ball\n",
      "Predicted num: 217, Real label: English springer\n",
      "Predicted num: 884, Real label: Church\n",
      "Predicted num: 569, Real label: Garbage truck\n",
      "Predicted num: 566, Real label: French horn\n",
      "Predicted num: 574, Real label: Golf ball\n",
      "Predicted num: 566, Real label: French horn\n",
      "Predicted num: 0, Real label: Tench\n",
      "Predicted num: 566, Real label: French horn\n",
      "Predicted num: 848, Real label: Cassette player\n",
      "Predicted num: 566, Real label: French horn\n",
      "Predicted num: 701, Real label: Parachute\n",
      "Predicted num: 571, Real label: Gas pump\n",
      "Predicted num: 701, Real label: Parachute\n",
      "Predicted num: 482, Real label: Cassette player\n",
      "Predicted num: 566, Real label: French horn\n",
      "Predicted num: 571, Real label: Gas pump\n",
      "Predicted num: 491, Real label: Chain saw\n",
      "Predicted num: 217, Real label: English springer\n",
      "Predicted num: 0, Real label: Tench\n",
      "Predicted num: 566, Real label: French horn\n",
      "Predicted num: 569, Real label: Garbage truck\n",
      "Predicted num: 0, Real label: Tench\n",
      "Predicted num: 884, Real label: Church\n",
      "Predicted num: 566, Real label: French horn\n",
      "Predicted num: 848, Real label: Cassette player\n",
      "Predicted num: 848, Real label: Cassette player\n",
      "Predicted num: 491, Real label: Chain saw\n",
      "Predicted num: 217, Real label: English springer\n",
      "Predicted num: 0, Real label: Tench\n",
      "Predicted num: 217, Real label: English springer\n",
      "Predicted num: 571, Real label: Gas pump\n",
      "Predicted num: 848, Real label: Cassette player\n",
      "Predicted num: 701, Real label: Parachute\n",
      "Predicted num: 449, Real label: Gas pump\n",
      "Predicted num: 491, Real label: Chain saw\n",
      "Predicted num: 514, Real label: Chain saw\n",
      "Predicted num: 0, Real label: Tench\n",
      "Predicted num: 860, Real label: Gas pump\n",
      "Predicted num: 571, Real label: Gas pump\n",
      "Predicted num: 698, Real label: Church\n",
      "Predicted num: 569, Real label: Garbage truck\n",
      "Predicted num: 701, Real label: Parachute\n",
      "Predicted num: 566, Real label: French horn\n",
      "Predicted num: 413, Real label: Chain saw\n",
      "Predicted num: 423, Real label: Chain saw\n",
      "Predicted num: 0, Real label: Tench\n",
      "Predicted num: 491, Real label: Chain saw\n",
      "Predicted num: 497, Real label: Church\n",
      "Predicted num: 701, Real label: Parachute\n",
      "Predicted num: 574, Real label: Golf ball\n",
      "Predicted num: 160, Real label: English springer\n",
      "Predicted num: 212, Real label: English springer\n",
      "Predicted num: 0, Real label: Tench\n",
      "Predicted num: 574, Real label: Golf ball\n",
      "Predicted num: 698, Real label: Church\n",
      "Predicted num: 566, Real label: French horn\n",
      "Predicted num: 571, Real label: Gas pump\n",
      "Predicted num: 482, Real label: Cassette player\n",
      "Predicted num: 634, Real label: Gas pump\n",
      "Predicted num: 0, Real label: Tench\n",
      "Predicted num: 571, Real label: Gas pump\n",
      "Predicted num: 574, Real label: Golf ball\n",
      "Predicted num: 569, Real label: Garbage truck\n",
      "Predicted num: 574, Real label: Golf ball\n",
      "Predicted num: 739, Real label: Chain saw\n",
      "Predicted num: 491, Real label: Chain saw\n",
      "Predicted num: 442, Real label: Church\n",
      "Predicted num: 566, Real label: French horn\n",
      "Predicted num: 701, Real label: Parachute\n",
      "Predicted num: 482, Real label: Cassette player\n",
      "Predicted num: 574, Real label: Golf ball\n",
      "Predicted num: 491, Real label: Chain saw\n",
      "Predicted num: 491, Real label: Chain saw\n",
      "Predicted num: 485, Real label: Cassette player\n",
      "Predicted num: 569, Real label: Garbage truck\n",
      "Predicted num: 571, Real label: Gas pump\n",
      "Predicted num: 566, Real label: French horn\n",
      "Predicted num: 480, Real label: Gas pump\n",
      "Predicted num: 848, Real label: Cassette player\n",
      "Predicted num: 5, Real label: Tench\n",
      "Predicted num: 425, Real label: Church\n",
      "Predicted num: 482, Real label: Cassette player\n",
      "Predicted num: 0, Real label: Tench\n",
      "Predicted num: 571, Real label: Gas pump\n",
      "Predicted num: 569, Real label: Garbage truck\n",
      "Predicted num: 569, Real label: Garbage truck\n",
      "Predicted num: 566, Real label: French horn\n",
      "Predicted num: 848, Real label: Cassette player\n",
      "Predicted num: 701, Real label: Parachute\n",
      "Predicted num: 0, Real label: Tench\n",
      "Predicted num: 491, Real label: Chain saw\n",
      "Predicted num: 497, Real label: Church\n",
      "Predicted num: 217, Real label: English springer\n",
      "Predicted num: 482, Real label: Cassette player\n",
      "Predicted num: 571, Real label: Gas pump\n",
      "Predicted num: 701, Real label: Parachute\n",
      "Predicted num: 522, Real label: Golf ball\n",
      "Predicted num: 482, Real label: Cassette player\n",
      "Predicted num: 701, Real label: Parachute\n",
      "Predicted num: 482, Real label: Cassette player\n",
      "Predicted num: 701, Real label: Parachute\n",
      "Predicted num: 0, Real label: Tench\n",
      "Predicted num: 566, Real label: French horn\n",
      "Predicted num: 0, Real label: Tench\n",
      "Predicted num: 574, Real label: Golf ball\n",
      "Predicted num: 750, Real label: Parachute\n",
      "Predicted num: 497, Real label: Church\n",
      "Predicted num: 790, Real label: Golf ball\n",
      "Predicted num: 701, Real label: Parachute\n",
      "Predicted num: 569, Real label: Garbage truck\n",
      "Predicted num: 800, Real label: Golf ball\n",
      "Predicted num: 0, Real label: Tench\n",
      "Predicted num: 569, Real label: Garbage truck\n",
      "Predicted num: 481, Real label: Cassette player\n",
      "Predicted num: 571, Real label: Gas pump\n",
      "Predicted num: 566, Real label: French horn\n",
      "Predicted num: 482, Real label: Cassette player\n",
      "Predicted num: 217, Real label: English springer\n",
      "Predicted num: 217, Real label: English springer\n",
      "Predicted num: 497, Real label: Church\n",
      "Predicted num: 0, Real label: Tench\n",
      "Predicted num: 217, Real label: English springer\n",
      "Predicted num: 491, Real label: Chain saw\n",
      "Predicted num: 634, Real label: Chain saw\n",
      "Predicted num: 794, Real label: Parachute\n",
      "Predicted num: 574, Real label: Golf ball\n",
      "Predicted num: 569, Real label: Garbage truck\n",
      "Predicted num: 491, Real label: Chain saw\n",
      "Predicted num: 481, Real label: Cassette player\n",
      "Predicted num: 482, Real label: Cassette player\n",
      "Predicted num: 491, Real label: Chain saw\n",
      "Predicted num: 571, Real label: Gas pump\n",
      "Predicted num: 538, Real label: Church\n",
      "Predicted num: 701, Real label: Parachute\n",
      "Predicted num: 574, Real label: Golf ball\n",
      "Predicted num: 892, Real label: Church\n",
      "Predicted num: 217, Real label: English springer\n",
      "Predicted num: 566, Real label: French horn\n",
      "Predicted num: 776, Real label: French horn\n",
      "Predicted num: 571, Real label: Gas pump\n",
      "Predicted num: 701, Real label: Parachute\n",
      "Predicted num: 491, Real label: Chain saw\n",
      "Predicted num: 574, Real label: Golf ball\n",
      "Predicted num: 701, Real label: Parachute\n",
      "Predicted num: 574, Real label: Golf ball\n",
      "Predicted num: 571, Real label: Gas pump\n",
      "Predicted num: 574, Real label: Golf ball\n",
      "Predicted num: 0, Real label: Tench\n",
      "Predicted num: 701, Real label: Parachute\n",
      "Predicted num: 566, Real label: French horn\n",
      "Predicted num: 571, Real label: Gas pump\n",
      "Predicted num: 480, Real label: Gas pump\n",
      "Predicted num: 674, Real label: Cassette player\n",
      "Predicted num: 662, Real label: Cassette player\n",
      "Predicted num: 574, Real label: Golf ball\n",
      "Predicted num: 491, Real label: Chain saw\n",
      "Predicted num: 482, Real label: Cassette player\n",
      "Predicted num: 574, Real label: Golf ball\n",
      "Predicted num: 571, Real label: Gas pump\n",
      "Predicted num: 574, Real label: Golf ball\n",
      "Predicted num: 571, Real label: Gas pump\n",
      "Predicted num: 701, Real label: Parachute\n",
      "Predicted num: 0, Real label: Tench\n",
      "Predicted num: 701, Real label: Parachute\n",
      "Predicted num: 566, Real label: French horn\n",
      "Predicted num: 566, Real label: French horn\n",
      "Predicted num: 217, Real label: English springer\n",
      "Predicted num: 701, Real label: Parachute\n",
      "Predicted num: 514, Real label: French horn\n",
      "Predicted num: 566, Real label: French horn\n",
      "Predicted num: 571, Real label: Gas pump\n",
      "Predicted num: 0, Real label: Tench\n",
      "Predicted num: 475, Real label: Garbage truck\n",
      "Predicted num: 571, Real label: Gas pump\n",
      "Predicted num: 569, Real label: Garbage truck\n",
      "Predicted num: 482, Real label: Cassette player\n",
      "Predicted num: 701, Real label: Parachute\n",
      "Predicted num: 693, Real label: English springer\n",
      "Predicted num: 389, Real label: Tench\n",
      "Predicted num: 0, Real label: Tench\n",
      "Predicted num: 701, Real label: Parachute\n",
      "Predicted num: 566, Real label: French horn\n",
      "Predicted num: 491, Real label: Chain saw\n",
      "Predicted num: 103, Real label: Tench\n",
      "Predicted num: 217, Real label: English springer\n",
      "Predicted num: 886, Real label: Cassette player\n",
      "Predicted num: 571, Real label: Gas pump\n",
      "Predicted num: 0, Real label: Tench\n",
      "Predicted num: 566, Real label: French horn\n",
      "Predicted num: 772, Real label: French horn\n",
      "Predicted num: 634, Real label: Chain saw\n",
      "Predicted num: 578, Real label: Gas pump\n",
      "Predicted num: 534, Real label: English springer\n",
      "Predicted num: 566, Real label: French horn\n",
      "Predicted num: 566, Real label: French horn\n",
      "Predicted num: 217, Real label: English springer\n",
      "Predicted num: 566, Real label: French horn\n",
      "Predicted num: 569, Real label: Garbage truck\n",
      "Predicted num: 701, Real label: Parachute\n",
      "Predicted num: 574, Real label: Golf ball\n",
      "Predicted num: 497, Real label: Church\n",
      "Predicted num: 574, Real label: Golf ball\n",
      "Predicted num: 491, Real label: Chain saw\n",
      "Predicted num: 217, Real label: English springer\n",
      "Predicted num: 574, Real label: Golf ball\n",
      "Predicted num: 569, Real label: Garbage truck\n",
      "Predicted num: 726, Real label: Chain saw\n",
      "Predicted num: 491, Real label: Chain saw\n",
      "Predicted num: 864, Real label: Garbage truck\n",
      "Predicted num: 456, Real label: Chain saw\n",
      "Predicted num: 571, Real label: Gas pump\n",
      "Predicted num: 571, Real label: Gas pump\n",
      "Predicted num: 701, Real label: Parachute\n",
      "Predicted num: 574, Real label: Golf ball\n",
      "Predicted num: 574, Real label: Golf ball\n",
      "Predicted num: 0, Real label: Tench\n",
      "Predicted num: 0, Real label: Tench\n",
      "Predicted num: 569, Real label: Garbage truck\n",
      "Predicted num: 701, Real label: Parachute\n",
      "Predicted num: 491, Real label: Chain saw\n",
      "Predicted num: 569, Real label: Garbage truck\n",
      "Predicted num: 663, Real label: Church\n",
      "Predicted num: 566, Real label: French horn\n",
      "Predicted num: 569, Real label: Garbage truck\n",
      "Predicted num: 701, Real label: Parachute\n",
      "Predicted num: 574, Real label: Golf ball\n",
      "Predicted num: 698, Real label: Church\n",
      "Predicted num: 483, Real label: Church\n",
      "Predicted num: 217, Real label: English springer\n",
      "Predicted num: 730, Real label: French horn\n",
      "Predicted num: 482, Real label: Cassette player\n",
      "Predicted num: 0, Real label: Tench\n",
      "Predicted num: 569, Real label: Garbage truck\n",
      "Predicted num: 566, Real label: French horn\n",
      "Predicted num: 574, Real label: Golf ball\n",
      "Predicted num: 566, Real label: French horn\n",
      "Predicted num: 916, Real label: English springer\n",
      "Predicted num: 663, Real label: Church\n",
      "Predicted num: 497, Real label: Church\n",
      "Predicted num: 217, Real label: English springer\n",
      "Predicted num: 701, Real label: Parachute\n",
      "Predicted num: 675, Real label: Garbage truck\n",
      "Predicted num: 0, Real label: Tench\n",
      "Predicted num: 701, Real label: Parachute\n",
      "Predicted num: 571, Real label: Gas pump\n",
      "Predicted num: 776, Real label: French horn\n",
      "Predicted num: 569, Real label: Garbage truck\n",
      "Predicted num: 0, Real label: Tench\n",
      "Predicted num: 574, Real label: Golf ball\n",
      "Predicted num: 569, Real label: Garbage truck\n",
      "Predicted num: 632, Real label: Cassette player\n",
      "Predicted num: 569, Real label: Garbage truck\n",
      "Predicted num: 497, Real label: Church\n",
      "Predicted num: 566, Real label: French horn\n",
      "Predicted num: 491, Real label: Chain saw\n",
      "Predicted num: 569, Real label: Garbage truck\n",
      "Predicted num: 848, Real label: Cassette player\n",
      "Predicted num: 481, Real label: Cassette player\n",
      "Predicted num: 217, Real label: English springer\n",
      "Predicted num: 566, Real label: French horn\n",
      "Predicted num: 477, Real label: Chain saw\n",
      "Predicted num: 217, Real label: English springer\n",
      "Predicted num: 634, Real label: Chain saw\n",
      "Predicted num: 574, Real label: Golf ball\n",
      "Predicted num: 566, Real label: French horn\n",
      "Predicted num: 0, Real label: Tench\n",
      "Predicted num: 606, Real label: Cassette player\n",
      "Predicted num: 491, Real label: Chain saw\n",
      "Predicted num: 482, Real label: Cassette player\n",
      "Predicted num: 566, Real label: French horn\n",
      "Predicted num: 574, Real label: Golf ball\n",
      "Predicted num: 217, Real label: English springer\n",
      "Predicted num: 571, Real label: Gas pump\n",
      "Predicted num: 566, Real label: French horn\n",
      "Predicted num: 848, Real label: Cassette player\n",
      "Predicted num: 0, Real label: Tench\n",
      "Predicted num: 701, Real label: Parachute\n",
      "Predicted num: 651, Real label: Cassette player\n",
      "Predicted num: 906, Real label: Golf ball\n",
      "Predicted num: 701, Real label: Parachute\n",
      "Predicted num: 701, Real label: Parachute\n",
      "Predicted num: 217, Real label: English springer\n",
      "Predicted num: 219, Real label: English springer\n",
      "Predicted num: 571, Real label: Gas pump\n",
      "Predicted num: 0, Real label: Tench\n",
      "Predicted num: 970, Real label: Chain saw\n",
      "Predicted num: 0, Real label: Tench\n",
      "Predicted num: 497, Real label: Church\n",
      "Predicted num: 571, Real label: Gas pump\n",
      "Predicted num: 0, Real label: Tench\n",
      "Predicted num: 485, Real label: Cassette player\n",
      "Predicted num: 217, Real label: English springer\n",
      "Predicted num: 491, Real label: Chain saw\n",
      "Predicted num: 921, Real label: French horn\n",
      "Predicted num: 755, Real label: Golf ball\n",
      "Predicted num: 491, Real label: Chain saw\n",
      "Predicted num: 848, Real label: Cassette player\n",
      "Predicted num: 701, Real label: Parachute\n",
      "Predicted num: 217, Real label: English springer\n",
      "Predicted num: 663, Real label: Church\n",
      "Predicted num: 497, Real label: Church\n",
      "Predicted num: 497, Real label: Church\n",
      "Predicted num: 0, Real label: Tench\n",
      "Predicted num: 566, Real label: French horn\n",
      "Predicted num: 491, Real label: Chain saw\n",
      "Predicted num: 497, Real label: Church\n",
      "Predicted num: 217, Real label: English springer\n",
      "Predicted num: 566, Real label: French horn\n",
      "Predicted num: 569, Real label: Garbage truck\n",
      "Predicted num: 569, Real label: Garbage truck\n",
      "Predicted num: 571, Real label: Gas pump\n",
      "Predicted num: 569, Real label: Garbage truck\n",
      "Predicted num: 0, Real label: Tench\n",
      "Predicted num: 569, Real label: Garbage truck\n",
      "Predicted num: 481, Real label: Cassette player\n",
      "Predicted num: 566, Real label: French horn\n",
      "Predicted num: 571, Real label: Gas pump\n",
      "Predicted num: 0, Real label: Tench\n",
      "Predicted num: 701, Real label: Parachute\n",
      "Predicted num: 566, Real label: French horn\n",
      "Predicted num: 574, Real label: Golf ball\n",
      "Predicted num: 442, Real label: Church\n",
      "Predicted num: 569, Real label: Garbage truck\n",
      "Predicted num: 884, Real label: Church\n",
      "Predicted num: 219, Real label: English springer\n",
      "Predicted num: 0, Real label: Tench\n",
      "Predicted num: 663, Real label: Church\n",
      "Predicted num: 571, Real label: Gas pump\n",
      "Predicted num: 701, Real label: Parachute\n",
      "Predicted num: 0, Real label: Tench\n",
      "Predicted num: 571, Real label: Gas pump\n",
      "Predicted num: 848, Real label: Cassette player\n",
      "Predicted num: 701, Real label: Parachute\n",
      "Predicted num: 571, Real label: Gas pump\n",
      "Predicted num: 569, Real label: Garbage truck\n",
      "Predicted num: 569, Real label: Garbage truck\n",
      "Predicted num: 701, Real label: Parachute\n",
      "Predicted num: 569, Real label: Garbage truck\n",
      "Predicted num: 701, Real label: Parachute\n",
      "Predicted num: 701, Real label: Parachute\n",
      "Predicted num: 566, Real label: French horn\n",
      "Predicted num: 571, Real label: Gas pump\n",
      "Predicted num: 0, Real label: Tench\n",
      "Predicted num: 574, Real label: Golf ball\n",
      "Predicted num: 217, Real label: English springer\n",
      "Predicted num: 566, Real label: French horn\n",
      "Predicted num: 571, Real label: Gas pump\n",
      "Predicted num: 569, Real label: Garbage truck\n",
      "Predicted num: 0, Real label: Tench\n",
      "Predicted num: 497, Real label: Church\n",
      "Predicted num: 491, Real label: Chain saw\n",
      "Predicted num: 574, Real label: Golf ball\n",
      "Predicted num: 574, Real label: Golf ball\n",
      "Predicted num: 879, Real label: Parachute\n",
      "Predicted num: 571, Real label: Gas pump\n",
      "Predicted num: 569, Real label: Garbage truck\n",
      "Predicted num: 574, Real label: Golf ball\n",
      "Predicted num: 574, Real label: Golf ball\n",
      "Predicted num: 571, Real label: Gas pump\n",
      "Predicted num: 574, Real label: Golf ball\n",
      "Predicted num: 569, Real label: Garbage truck\n",
      "Predicted num: 566, Real label: French horn\n",
      "Predicted num: 571, Real label: Gas pump\n",
      "Predicted num: 574, Real label: Golf ball\n",
      "Predicted num: 442, Real label: Church\n",
      "Predicted num: 217, Real label: English springer\n",
      "Predicted num: 491, Real label: Chain saw\n",
      "Predicted num: 212, Real label: English springer\n",
      "Predicted num: 844, Real label: Cassette player\n",
      "Predicted num: 212, Real label: English springer\n",
      "Predicted num: 701, Real label: Parachute\n",
      "Predicted num: 0, Real label: Tench\n",
      "Predicted num: 566, Real label: French horn\n",
      "Predicted num: 574, Real label: Golf ball\n",
      "Predicted num: 491, Real label: Chain saw\n",
      "Predicted num: 212, Real label: English springer\n",
      "Predicted num: 442, Real label: Church\n",
      "Predicted num: 574, Real label: Golf ball\n",
      "Predicted num: 0, Real label: Tench\n",
      "Predicted num: 848, Real label: Cassette player\n",
      "Predicted num: 701, Real label: Parachute\n",
      "Predicted num: 217, Real label: English springer\n",
      "Predicted num: 217, Real label: English springer\n",
      "Predicted num: 217, Real label: English springer\n",
      "Predicted num: 0, Real label: Tench\n",
      "Predicted num: 217, Real label: English springer\n",
      "Predicted num: 569, Real label: Garbage truck\n",
      "Predicted num: 491, Real label: Chain saw\n",
      "Predicted num: 217, Real label: English springer\n",
      "Predicted num: 701, Real label: Parachute\n",
      "Predicted num: 482, Real label: Cassette player\n",
      "Predicted num: 574, Real label: Golf ball\n",
      "Predicted num: 0, Real label: Tench\n",
      "Predicted num: 566, Real label: French horn\n",
      "Predicted num: 571, Real label: Gas pump\n",
      "Predicted num: 497, Real label: Church\n",
      "Predicted num: 571, Real label: Gas pump\n",
      "Predicted num: 217, Real label: English springer\n",
      "Predicted num: 0, Real label: Tench\n",
      "Predicted num: 0, Real label: Tench\n",
      "Predicted num: 571, Real label: Gas pump\n",
      "Predicted num: 569, Real label: Garbage truck\n",
      "Predicted num: 569, Real label: Garbage truck\n",
      "Predicted num: 571, Real label: Gas pump\n",
      "Predicted num: 456, Real label: Chain saw\n",
      "Predicted num: 569, Real label: Garbage truck\n",
      "Predicted num: 442, Real label: Church\n",
      "Predicted num: 566, Real label: French horn\n",
      "Predicted num: 571, Real label: Gas pump\n",
      "Predicted num: 574, Real label: Golf ball\n",
      "Predicted num: 571, Real label: Gas pump\n",
      "Predicted num: 569, Real label: Garbage truck\n",
      "Predicted num: 775, Real label: Parachute\n",
      "Predicted num: 491, Real label: Chain saw\n",
      "Predicted num: 538, Real label: Church\n",
      "Predicted num: 660, Real label: Garbage truck\n",
      "Predicted num: 401, Real label: French horn\n",
      "Predicted num: 491, Real label: Chain saw\n",
      "Predicted num: 482, Real label: Cassette player\n",
      "Predicted num: 569, Real label: Garbage truck\n",
      "Predicted num: 482, Real label: Cassette player\n",
      "Predicted num: 701, Real label: Parachute\n",
      "Predicted num: 701, Real label: Parachute\n",
      "Predicted num: 217, Real label: English springer\n",
      "Predicted num: 571, Real label: Gas pump\n",
      "Predicted num: 691, Real label: Chain saw\n",
      "Predicted num: 497, Real label: Church\n",
      "Predicted num: 701, Real label: Parachute\n",
      "Predicted num: 217, Real label: English springer\n",
      "Predicted num: 497, Real label: Church\n",
      "Predicted num: 217, Real label: English springer\n",
      "Predicted num: 701, Real label: Parachute\n",
      "Predicted num: 595, Real label: Garbage truck\n",
      "Predicted num: 482, Real label: Cassette player\n",
      "Predicted num: 491, Real label: Chain saw\n",
      "Predicted num: 566, Real label: French horn\n",
      "Predicted num: 571, Real label: Gas pump\n",
      "Predicted num: 566, Real label: French horn\n",
      "Predicted num: 864, Real label: Garbage truck\n",
      "Predicted num: 634, Real label: Chain saw\n",
      "Predicted num: 701, Real label: Parachute\n",
      "Predicted num: 569, Real label: Garbage truck\n",
      "Predicted num: 540, Real label: Chain saw\n",
      "Predicted num: 701, Real label: Parachute\n",
      "Predicted num: 566, Real label: French horn\n",
      "Predicted num: 566, Real label: French horn\n",
      "Predicted num: 569, Real label: Garbage truck\n",
      "Predicted num: 0, Real label: Tench\n",
      "Predicted num: 569, Real label: Garbage truck\n",
      "Predicted num: 566, Real label: French horn\n",
      "Predicted num: 0, Real label: Tench\n",
      "Predicted num: 571, Real label: Gas pump\n",
      "Predicted num: 0, Real label: Tench\n",
      "Predicted num: 0, Real label: Tench\n",
      "Predicted num: 569, Real label: Garbage truck\n",
      "Predicted num: 0, Real label: Tench\n",
      "Predicted num: 701, Real label: Parachute\n",
      "Predicted num: 256, Real label: English springer\n",
      "Predicted num: 574, Real label: Golf ball\n",
      "Predicted num: 571, Real label: Gas pump\n",
      "Predicted num: 471, Real label: Chain saw\n",
      "Predicted num: 569, Real label: Garbage truck\n",
      "Predicted num: 217, Real label: English springer\n",
      "Predicted num: 600, Real label: French horn\n",
      "Predicted num: 215, Real label: English springer\n",
      "Predicted num: 0, Real label: Tench\n",
      "Predicted num: 491, Real label: Chain saw\n",
      "Predicted num: 574, Real label: Golf ball\n",
      "Predicted num: 569, Real label: Garbage truck\n",
      "Predicted num: 0, Real label: Tench\n",
      "Predicted num: 0, Real label: Tench\n",
      "Predicted num: 566, Real label: French horn\n",
      "Predicted num: 491, Real label: Chain saw\n",
      "Predicted num: 512, Real label: Chain saw\n",
      "Predicted num: 574, Real label: Golf ball\n",
      "Predicted num: 482, Real label: Cassette player\n",
      "Predicted num: 491, Real label: Chain saw\n",
      "Predicted num: 574, Real label: Golf ball\n",
      "Predicted num: 406, Real label: Church\n",
      "Predicted num: 574, Real label: Golf ball\n",
      "Predicted num: 217, Real label: English springer\n",
      "Predicted num: 569, Real label: Garbage truck\n",
      "Predicted num: 569, Real label: Garbage truck\n",
      "Predicted num: 217, Real label: English springer\n",
      "Predicted num: 482, Real label: Cassette player\n",
      "Predicted num: 848, Real label: Cassette player\n",
      "Predicted num: 701, Real label: Parachute\n",
      "Predicted num: 569, Real label: Garbage truck\n",
      "Predicted num: 569, Real label: Garbage truck\n",
      "Predicted num: 701, Real label: Parachute\n",
      "Predicted num: 491, Real label: Chain saw\n",
      "Predicted num: 713, Real label: Cassette player\n",
      "Predicted num: 217, Real label: English springer\n",
      "Predicted num: 574, Real label: Golf ball\n",
      "Predicted num: 569, Real label: Garbage truck\n",
      "Predicted num: 803, Real label: Garbage truck\n",
      "Predicted num: 217, Real label: English springer\n",
      "Predicted num: 569, Real label: Garbage truck\n",
      "Predicted num: 663, Real label: Church\n",
      "Predicted num: 491, Real label: Chain saw\n",
      "Predicted num: 566, Real label: French horn\n",
      "Predicted num: 574, Real label: Golf ball\n",
      "Predicted num: 698, Real label: Church\n",
      "Predicted num: 566, Real label: French horn\n",
      "Predicted num: 571, Real label: Gas pump\n",
      "Predicted num: 417, Real label: Parachute\n",
      "Predicted num: 593, Real label: Cassette player\n",
      "Predicted num: 0, Real label: Tench\n",
      "Predicted num: 698, Real label: Church\n",
      "Predicted num: 0, Real label: Tench\n",
      "Predicted num: 0, Real label: Tench\n",
      "Predicted num: 569, Real label: Garbage truck\n",
      "Predicted num: 217, Real label: English springer\n",
      "Predicted num: 566, Real label: French horn\n",
      "Predicted num: 482, Real label: Cassette player\n",
      "Predicted num: 491, Real label: Chain saw\n",
      "Predicted num: 569, Real label: Garbage truck\n",
      "Predicted num: 569, Real label: Garbage truck\n",
      "Predicted num: 574, Real label: Golf ball\n",
      "Predicted num: 701, Real label: Parachute\n",
      "Predicted num: 569, Real label: Garbage truck\n",
      "Predicted num: 0, Real label: Tench\n",
      "Predicted num: 497, Real label: Church\n",
      "Predicted num: 432, Real label: French horn\n",
      "Predicted num: 491, Real label: Chain saw\n",
      "Predicted num: 701, Real label: Parachute\n",
      "Predicted num: 569, Real label: Garbage truck\n",
      "Predicted num: 571, Real label: Gas pump\n",
      "Predicted num: 217, Real label: English springer\n",
      "Predicted num: 574, Real label: Golf ball\n",
      "Predicted num: 482, Real label: Cassette player\n",
      "Predicted num: 571, Real label: Gas pump\n",
      "Predicted num: 569, Real label: Garbage truck\n",
      "Predicted num: 0, Real label: Tench\n",
      "Predicted num: 584, Real label: Chain saw\n",
      "Predicted num: 497, Real label: Church\n",
      "Predicted num: 0, Real label: Tench\n",
      "Predicted num: 701, Real label: Parachute\n",
      "Predicted num: 0, Real label: Tench\n",
      "Predicted num: 229, Real label: English springer\n",
      "Predicted num: 497, Real label: Church\n",
      "Predicted num: 569, Real label: Garbage truck\n",
      "Predicted num: 574, Real label: Golf ball\n",
      "Predicted num: 632, Real label: Cassette player\n",
      "Predicted num: 217, Real label: English springer\n",
      "Predicted num: 569, Real label: Garbage truck\n",
      "Predicted num: 566, Real label: French horn\n",
      "Predicted num: 569, Real label: Garbage truck\n",
      "Predicted num: 442, Real label: Church\n",
      "Predicted num: 0, Real label: Tench\n",
      "Predicted num: 701, Real label: Parachute\n",
      "Predicted num: 0, Real label: Tench\n",
      "Predicted num: 491, Real label: Chain saw\n",
      "Predicted num: 566, Real label: French horn\n",
      "Predicted num: 727, Real label: Church\n",
      "Predicted num: 569, Real label: Garbage truck\n",
      "Predicted num: 701, Real label: Parachute\n",
      "Predicted num: 491, Real label: Chain saw\n",
      "Predicted num: 874, Real label: Garbage truck\n",
      "Predicted num: 215, Real label: English springer\n",
      "Predicted num: 0, Real label: Tench\n",
      "Predicted num: 0, Real label: Tench\n",
      "Predicted num: 217, Real label: English springer\n",
      "Predicted num: 217, Real label: English springer\n",
      "Predicted num: 491, Real label: Chain saw\n",
      "Predicted num: 571, Real label: Gas pump\n",
      "Predicted num: 527, Real label: Cassette player\n",
      "Predicted num: 566, Real label: French horn\n",
      "Predicted num: 848, Real label: Cassette player\n",
      "Predicted num: 884, Real label: Church\n",
      "Predicted num: 848, Real label: Cassette player\n",
      "Predicted num: 217, Real label: English springer\n",
      "Predicted num: 569, Real label: Garbage truck\n",
      "Predicted num: 497, Real label: Church\n",
      "Predicted num: 485, Real label: Cassette player\n",
      "Predicted num: 522, Real label: Golf ball\n",
      "Predicted num: 701, Real label: Parachute\n",
      "Predicted num: 848, Real label: Cassette player\n",
      "Predicted num: 856, Real label: Chain saw\n",
      "Predicted num: 566, Real label: French horn\n",
      "Predicted num: 701, Real label: Parachute\n",
      "Predicted num: 566, Real label: French horn\n",
      "Predicted num: 574, Real label: Golf ball\n",
      "Predicted num: 884, Real label: Church\n",
      "Predicted num: 852, Real label: Golf ball\n",
      "Predicted num: 0, Real label: Tench\n",
      "Predicted num: 217, Real label: English springer\n",
      "Predicted num: 491, Real label: Chain saw\n",
      "Predicted num: 566, Real label: French horn\n",
      "Predicted num: 497, Real label: Church\n",
      "Predicted num: 566, Real label: French horn\n",
      "Predicted num: 497, Real label: Church\n",
      "Predicted num: 482, Real label: Cassette player\n",
      "Predicted num: 497, Real label: Church\n",
      "Predicted num: 566, Real label: French horn\n",
      "Predicted num: 571, Real label: Gas pump\n",
      "Predicted num: 701, Real label: Parachute\n",
      "Predicted num: 701, Real label: Parachute\n",
      "Predicted num: 571, Real label: Gas pump\n",
      "Predicted num: 513, Real label: French horn\n",
      "Predicted num: 497, Real label: Church\n",
      "Predicted num: 569, Real label: Garbage truck\n",
      "Predicted num: 491, Real label: Chain saw\n",
      "Predicted num: 566, Real label: French horn\n",
      "Predicted num: 0, Real label: Tench\n",
      "Predicted num: 571, Real label: Gas pump\n",
      "Predicted num: 0, Real label: Tench\n",
      "Predicted num: 566, Real label: French horn\n",
      "Predicted num: 840, Real label: Cassette player\n",
      "Predicted num: 571, Real label: Gas pump\n",
      "Predicted num: 491, Real label: Chain saw\n",
      "Predicted num: 569, Real label: Garbage truck\n",
      "Predicted num: 482, Real label: Cassette player\n",
      "Predicted num: 566, Real label: French horn\n",
      "Predicted num: 566, Real label: French horn\n",
      "Predicted num: 217, Real label: English springer\n",
      "Predicted num: 574, Real label: Golf ball\n",
      "Predicted num: 497, Real label: Church\n",
      "Predicted num: 491, Real label: Chain saw\n",
      "Predicted num: 497, Real label: Church\n",
      "Predicted num: 497, Real label: Church\n",
      "Predicted num: 0, Real label: Tench\n",
      "Predicted num: 566, Real label: French horn\n",
      "Predicted num: 574, Real label: Golf ball\n",
      "Predicted num: 0, Real label: Tench\n",
      "Predicted num: 569, Real label: Garbage truck\n",
      "Predicted num: 574, Real label: Golf ball\n",
      "Predicted num: 848, Real label: Cassette player\n",
      "Predicted num: 672, Real label: Parachute\n",
      "Predicted num: 0, Real label: Tench\n",
      "Predicted num: 566, Real label: French horn\n",
      "Predicted num: 574, Real label: Golf ball\n",
      "Predicted num: 715, Real label: Tench\n",
      "Predicted num: 569, Real label: Garbage truck\n",
      "Predicted num: 663, Real label: Church\n",
      "Predicted num: 788, Real label: Church\n",
      "Predicted num: 566, Real label: French horn\n",
      "Predicted num: 574, Real label: Golf ball\n",
      "{'Tench': {0: 246, 395: 2, 392: 1, 394: 2, 389: 4, 29: 1, 996: 1, 5: 1, 103: 1, 715: 1}, 'English springer': {80: 1, 217: 200, 212: 8, 210: 3, 197: 2, 219: 3, 264: 1, 176: 1, 215: 7, 172: 1, 232: 4, 360: 1, 166: 1, 218: 7, 246: 1, 164: 1, 912: 1, 580: 1, 220: 1, 571: 1, 189: 1, 195: 1, 160: 2, 229: 2, 693: 1, 534: 1, 916: 1, 256: 1}, 'Cassette player': {754: 9, 482: 94, 848: 74, 481: 19, 485: 10, 530: 1, 674: 2, 844: 3, 570: 1, 548: 3, 651: 3, 632: 7, 710: 1, 636: 1, 688: 1, 453: 1, 662: 4, 635: 1, 826: 1, 878: 2, 811: 1, 550: 1, 827: 1, 707: 1, 605: 1, 590: 1, 583: 1, 771: 2, 641: 1, 860: 2, 886: 1, 606: 1, 713: 1, 593: 1, 527: 1, 840: 1}, 'Chain saw': {491: 175, 401: 1, 634: 13, 413: 2, 764: 1, 601: 1, 865: 1, 477: 2, 456: 4, 889: 1, 444: 1, 972: 2, 795: 1, 610: 1, 900: 1, 856: 2, 887: 1, 979: 1, 904: 1, 465: 1, 583: 1, 882: 2, 514: 2, 422: 1, 733: 2, 621: 1, 862: 1, 645: 1, 674: 1, 423: 1, 739: 1, 726: 1, 970: 1, 691: 1, 540: 1, 471: 1, 512: 1, 584: 1}, 'Church': {497: 128, 663: 24, 492: 1, 536: 1, 425: 6, 976: 1, 442: 16, 884: 17, 406: 15, 687: 4, 698: 11, 912: 1, 483: 4, 421: 1, 743: 1, 853: 1, 741: 1, 538: 4, 437: 1, 449: 1, 223: 1, 708: 1, 818: 1, 812: 1, 888: 1, 800: 1, 562: 1, 892: 1, 727: 1, 788: 1}, 'French horn': {566: 213, 683: 1, 432: 5, 655: 1, 917: 1, 887: 1, 890: 1, 513: 6, 739: 1, 776: 3, 819: 1, 805: 1, 506: 1, 577: 2, 542: 1, 875: 1, 600: 2, 652: 1, 921: 2, 514: 1, 772: 1, 730: 1, 401: 1}, 'Garbage truck': {569: 221, 757: 2, 468: 1, 675: 5, 654: 1, 803: 2, 978: 1, 561: 2, 696: 1, 416: 1, 595: 3, 634: 1, 867: 3, 660: 2, 864: 5, 920: 1, 734: 1, 705: 1, 475: 1, 874: 1}, 'Gas pump': {996: 1, 571: 218, 867: 1, 771: 1, 655: 1, 634: 2, 840: 1, 600: 1, 660: 2, 716: 1, 536: 1, 713: 1, 406: 1, 449: 2, 677: 1, 811: 1, 691: 2, 695: 1, 707: 1, 708: 1, 480: 3, 860: 2, 865: 1, 864: 1, 597: 1, 555: 1, 629: 1, 762: 1, 407: 1, 733: 1, 473: 1, 578: 1}, 'Golf ball': {574: 238, 116: 1, 727: 1, 562: 1, 132: 1, 994: 1, 978: 1, 641: 1, 505: 1, 522: 3, 539: 1, 722: 1, 736: 1, 69: 1, 584: 1, 729: 1, 790: 1, 800: 1, 906: 1, 755: 1, 852: 1}, 'Parachute': {701: 234, 549: 1, 977: 2, 980: 1, 851: 1, 895: 2, 978: 1, 465: 1, 879: 2, 405: 1, 612: 1, 645: 1, 124: 1, 595: 1, 698: 1, 887: 1, 781: 1, 417: 2, 750: 1, 794: 1, 775: 1, 672: 1}}\n",
      "--------------------- start extract label mapping\n",
      "official_label_mapping: {0: 'Tench', 217: 'English springer', 482: 'Cassette player', 491: 'Chain saw', 497: 'Church', 566: 'French horn', 569: 'Garbage truck', 571: 'Gas pump', 574: 'Golf ball', 701: 'Parachute'}\n"
     ]
    }
   ],
   "source": [
    "# first we should use dataset to find mapping in official model\n",
    "official_model_labels = find_official_model_labels(official_model)\n",
    "print(official_model_labels)\n",
    "# extract label datas\n",
    "print(\"--------------------- start extract label mapping\")\n",
    "official_label_mapping = {}\n",
    "for i in official_model_labels:\n",
    "    max_num = -1\n",
    "    max = 0\n",
    "    for key in official_model_labels[i]:\n",
    "        if max < official_model_labels[i][key]:\n",
    "            max = official_model_labels[i][key]\n",
    "            max_num = key\n",
    "    official_label_mapping.update({max_num: i})\n",
    "\n",
    "print(f\"Official_label_mapping: {official_label_mapping}\")"
   ],
   "metadata": {
    "collapsed": false,
    "pycharm": {
     "name": "#%%\n"
    }
   }
  },
  {
   "cell_type": "code",
   "execution_count": 74,
   "outputs": [],
   "source": [
    "# map to our label\n",
    "official_label_index = {\n",
    "    0:0,\n",
    "    1:217,\n",
    "    2:482,\n",
    "    3:491,\n",
    "    4:497,\n",
    "    5:566,\n",
    "    6:569,\n",
    "    7:571,\n",
    "    8:574,\n",
    "    9:701\n",
    "}\n",
    "def trans_tensor_to_numpy(tensor:torch.Tensor):\n",
    "    res = []\n",
    "    for i in tensor:\n",
    "        res.append(int(i))\n",
    "    return res\n",
    "# comparator\n",
    "def comparator(model1: nn.Module, model2: nn.Module, dataset_loader):\n",
    "    # base setting\n",
    "    model1.eval()\n",
    "    model2.eval()\n",
    "    print(\"Start comparing!\")\n",
    "    running_corrects_1 = 0\n",
    "    running_corrects_2 = 1\n",
    "    with torch.set_grad_enabled(False):\n",
    "        for imgs, labels in tqdm(dataset_loader):\n",
    "            imgs = imgs.to(device)\n",
    "            labels = labels.to(device)\n",
    "            output1 = model1(imgs)\n",
    "            output2 = model2(imgs)\n",
    "            # 提取最高得分所在位置\n",
    "            _, preds1 = torch.max(output1, 1)\n",
    "            _, preds2 = torch.max(output2, 1)\n",
    "\n",
    "            running_corrects_1 += torch.sum(preds1 == labels.data)\n",
    "            preds_2 = trans_tensor_to_numpy(preds2)\n",
    "            data_label_2 = trans_tensor_to_numpy(labels.data)\n",
    "            # trans to target label\n",
    "            data_label_2 = [official_label_index[item] for item in data_label_2]\n",
    "            running_corrects_2 += sum(np.array(preds_2) == np.array(data_label_2))\n",
    "\n",
    "    data_size = len(dataset_loader.dataset)\n",
    "    return running_corrects_1.double() / data_size, int(running_corrects_2) / data_size"
   ],
   "metadata": {
    "collapsed": false,
    "pycharm": {
     "name": "#%%\n"
    }
   }
  },
  {
   "cell_type": "code",
   "execution_count": 75,
   "outputs": [
    {
     "name": "stdout",
     "output_type": "stream",
     "text": [
      "Start comparing!\n"
     ]
    },
    {
     "name": "stderr",
     "output_type": "stream",
     "text": [
      "100%|██████████| 159/159 [00:08<00:00, 19.66it/s]"
     ]
    },
    {
     "name": "stdout",
     "output_type": "stream",
     "text": [
      "My acc:81.26232741617356%\n",
      "Official acc:77.63313609467455%\n"
     ]
    },
    {
     "name": "stderr",
     "output_type": "stream",
     "text": [
      "\n"
     ]
    }
   ],
   "source": [
    "my_acc, official_acc = comparator(my_model, official_model, test_loader)\n",
    "print(f\"My acc:{my_acc * 100}%\")\n",
    "print(f\"Official acc:{official_acc * 100}%\")"
   ],
   "metadata": {
    "collapsed": false,
    "pycharm": {
     "name": "#%%\n"
    }
   }
  },
  {
   "cell_type": "markdown",
   "source": [
    "So it turned out our model is better than official!"
   ],
   "metadata": {
    "collapsed": false
   }
  },
  {
   "cell_type": "markdown",
   "source": [
    "# Conclusion"
   ],
   "metadata": {
    "collapsed": false,
    "pycharm": {
     "name": "#%% md\n"
    }
   }
  },
  {
   "cell_type": "markdown",
   "source": [
    "**When I was doing this homework, some mistakes were taken by me, so I do some conclusion!**\n",
    "\n",
    "1. When we prepare our datasets, some notifications:\n",
    "    > It's a must for us to resize our datasets and make our pictures be transformed to tensor so that neural network can use them.\n",
    "    > We also need to do some normalize, in this way we can improve our training efficiency and criterion.\n",
    "    > And for __getItem__ function, we'd better return labels as type tensor(int)\n",
    "\n",
    "2. When we use DataLoader to load our datasets, **notification**\n",
    "    > The most important I think is that we should use shuffle to load our datasets, as I have made a careless blunder about it, so at that time, I got a higher loss above 5 and lower criterion about 10 percent, and after I use shuffle=True, my highest criterion on my val data is 96.99901283316879%.\n",
    "\n",
    "3. When we start training data, some notifications:\n",
    "    > We should open the grad when we use train datasets to train model, and close the grad when we validate it on val datasets.\n",
    "    > We should remember to switch model.train() and model.eval() between train and validate so that some parameters change will be omitted at the appropriate time.\n",
    "    > Last but not least, only when training we should use loss function to do optimizer, don't use optimizer when test or validate.\n",
    "\n",
    "4. When we read neural network structure, some notifications:\n",
    "    > We may not easy to understand what's the model, so we can read some papers about it.\n",
    "    > Then we can do some research on the implementation code so that we can observe the structure in another dimension.\n",
    "\n",
    "That's all.\n"
   ],
   "metadata": {
    "collapsed": false,
    "pycharm": {
     "name": "#%% md\n"
    }
   }
  }
 ],
 "metadata": {
  "kernelspec": {
   "display_name": "Python 3",
   "language": "python",
   "name": "python3"
  },
  "language_info": {
   "codemirror_mode": {
    "name": "ipython",
    "version": 3
   },
   "file_extension": ".py",
   "mimetype": "text/x-python",
   "name": "python",
   "nbconvert_exporter": "python",
   "pygments_lexer": "ipython3",
   "version": "3.6.13"
  }
 },
 "nbformat": 4,
 "nbformat_minor": 1
}